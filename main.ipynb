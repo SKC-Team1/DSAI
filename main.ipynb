{
 "cells": [
  {
   "cell_type": "markdown",
   "metadata": {},
   "source": [
    "# Import dependencies"
   ]
  },
  {
   "cell_type": "code",
   "execution_count": 19,
   "metadata": {},
   "outputs": [],
   "source": [
    "import os\n",
    "import re\n",
    "import unicodedata\n",
    "import spacy\n",
    "import gensim\n",
    "import nltk\n",
    "import pandas as pd\n",
    "from matplotlib import pyplot as plt\n",
    "from dotenv import load_dotenv"
   ]
  },
  {
   "cell_type": "markdown",
   "metadata": {},
   "source": [
    "# Load data"
   ]
  },
  {
   "cell_type": "markdown",
   "metadata": {},
   "source": [
    "### Load datasets"
   ]
  },
  {
   "cell_type": "code",
   "execution_count": 2,
   "metadata": {},
   "outputs": [],
   "source": [
    "# load the environment variables from the .env file\n",
    "load_dotenv()\n",
    "# get the dataset path from the environment variables\n",
    "dataset_path = os.environ.get(\"DATASET_PATH\")\n",
    "# get the articles path for the known publisher\n",
    "articles_path = os.path.join(dataset_path, \"articles\")\n",
    "# load the dataset into the notebook\n",
    "df = pd.read_csv(f\"{dataset_path}/article_info_V2.csv\", index_col=0, parse_dates=[1])\n",
    "# read the external dataset\n",
    "external_df = pd.read_csv(f\"{dataset_path}/other-articles.csv\", index_col=0, parse_dates=[1], sep=\";\")\n",
    "# load English SpaCy model\n",
    "nlp = spacy.load(\"en_core_web_sm\")\n",
    "# load nltk punkt tokenizer\n",
    "nltk.download(\"punkt\")"
   ]
  },
  {
   "cell_type": "markdown",
   "metadata": {},
   "source": [
    "### Article loading function"
   ]
  },
  {
   "cell_type": "code",
   "execution_count": 3,
   "metadata": {},
   "outputs": [],
   "source": [
    "# load article by title\n",
    "def load_article(title, load_contents=True):\n",
    "    # create file name from title\n",
    "    file_name = f\"{title}.txt\"\n",
    "    # get the path of the article\n",
    "    file_path = os.path.join(articles_path, file_name)\n",
    "    # read the article\n",
    "    file = open(file_path, \"r\", encoding=\"utf-8\")\n",
    "    # return the contents of the article if requested\n",
    "    if load_contents:\n",
    "        # read the contents of the article\n",
    "        contents = file.read()\n",
    "        # close the file\n",
    "        file.close()\n",
    "        # return the contents of the article\n",
    "        return contents\n",
    "    # close the file\n",
    "    file.close()\n",
    "    # return the article path\n",
    "    return file"
   ]
  },
  {
   "cell_type": "markdown",
   "metadata": {},
   "source": [
    "# Dataset cleaning"
   ]
  },
  {
   "cell_type": "markdown",
   "metadata": {},
   "source": [
    "### Cleaning functions"
   ]
  },
  {
   "cell_type": "code",
   "execution_count": 4,
   "metadata": {},
   "outputs": [],
   "source": [
    "def clean_string(str):\n",
    "    # make the string lowercase\n",
    "    str = str.lower()\n",
    "    # remove all non-alphanumeric characters\n",
    "    str = re.sub(r\"[^\\w\\s]\", \"\", str)\n",
    "    # remove the leading and trailing spaces\n",
    "    return str.strip()\n",
    "\n",
    "def parse_list_from_string(str):\n",
    "    # split the string on each comma\n",
    "    raw_list = str.split(\",\")\n",
    "    # clean every string in the list\n",
    "    return list(map(clean_string, raw_list))"
   ]
  },
  {
   "cell_type": "markdown",
   "metadata": {},
   "source": [
    "### Merge preparation"
   ]
  },
  {
   "cell_type": "code",
   "execution_count": 5,
   "metadata": {},
   "outputs": [],
   "source": [
    "# drop unused columns\n",
    "df.drop(columns=[\"Author\", \"Type\", \"Keywords\"], inplace=True)\n",
    "\n",
    "# drop rows with empty date values\n",
    "df.dropna(subset=[\"Date\"], inplace=True)"
   ]
  },
  {
   "cell_type": "markdown",
   "metadata": {},
   "source": [
    "### Merge datasets"
   ]
  },
  {
   "cell_type": "code",
   "execution_count": 6,
   "metadata": {},
   "outputs": [],
   "source": [
    "# remove the url column from the external dataset\n",
    "external_df.drop(columns=[\"Url\"], inplace=True)\n",
    "# add the external dataset to the main dataset\n",
    "df = pd.concat([df, external_df])\n",
    "# reset the index of the main dataset\n",
    "df.reset_index(drop=True, inplace=True)\n",
    "# clear the external dataset variable\n",
    "del external_df"
   ]
  },
  {
   "cell_type": "markdown",
   "metadata": {},
   "source": [
    "### Remove duplicates"
   ]
  },
  {
   "cell_type": "code",
   "execution_count": 7,
   "metadata": {},
   "outputs": [
    {
     "name": "stdout",
     "output_type": "stream",
     "text": [
      "Removed 3 duplicate entries.\n"
     ]
    }
   ],
   "source": [
    "# count the number of entries before duplicate removal\n",
    "entries_before_duplicate_removal = len(df)\n",
    "# remove duplicate entries by title and date\n",
    "df.drop_duplicates(subset=[\"Title\", \"Date\"], keep=\"first\", inplace=True)\n",
    "# count the number of entries after duplicate removal\n",
    "entries_after_duplicate_removal = len(df)\n",
    "# print removed duplicate count\n",
    "print(f\"Removed {entries_before_duplicate_removal - entries_after_duplicate_removal} duplicate entries.\")"
   ]
  },
  {
   "cell_type": "markdown",
   "metadata": {},
   "source": [
    "### Parse the string lists"
   ]
  },
  {
   "cell_type": "code",
   "execution_count": 8,
   "metadata": {},
   "outputs": [],
   "source": [
    "# convert the raw string values of the Tags column to lists of strings\n",
    "df[\"Tags\"] = df[\"Tags\"].apply(parse_list_from_string)"
   ]
  },
  {
   "cell_type": "markdown",
   "metadata": {},
   "source": [
    "# Article cleaning"
   ]
  },
  {
   "cell_type": "markdown",
   "metadata": {},
   "source": [
    "### Remove articles which cannot be found"
   ]
  },
  {
   "cell_type": "code",
   "execution_count": 9,
   "metadata": {},
   "outputs": [
    {
     "name": "stdout",
     "output_type": "stream",
     "text": [
      "45 files could not be loaded by title!\n"
     ]
    }
   ],
   "source": [
    "# initialize error count to 0 \n",
    "err_count = 0\n",
    "\n",
    "# iterate over dataset with index\n",
    "for index, row in df.iterrows():\n",
    "    # get the title of the article\n",
    "    title = row[\"Title\"]\n",
    "    try:\n",
    "        # attempt to load the article\n",
    "        article = load_article(title, load_contents=False)\n",
    "    except:\n",
    "        # if the article cannot be loaded, increment the error count\n",
    "        err_count += 1\n",
    "        # remove row from dataset\n",
    "        df.drop(index, inplace=True)\n",
    "        # continue to next row\n",
    "        continue\n",
    "\n",
    "# reset the index of the main dataset\n",
    "df.reset_index(drop=True, inplace=True)\n",
    "\n",
    "# print the number of errors\n",
    "print(f\"{err_count} files could not be loaded by title!\")"
   ]
  },
  {
   "cell_type": "markdown",
   "metadata": {},
   "source": [
    "### Define article cleaning methods"
   ]
  },
  {
   "cell_type": "code",
   "execution_count": 10,
   "metadata": {},
   "outputs": [],
   "source": [
    "# remove all newline characters\n",
    "def remove_newlines(text):\n",
    "    text = text.replace(\"\\n\", \" \")\n",
    "    text = text.replace(\"\\r\", \" \")\n",
    "    return text\n",
    "\n",
    "# replace shortened grammar with full grammar\n",
    "def replace_grammar(text):\n",
    "    text = text.replace(\"it's\", \"it is\")\n",
    "    text = text.replace(\"he's\", \"he is\")\n",
    "    text = text.replace(\"she's\", \"she is\")\n",
    "    text = text.replace(\"what's\", \"what is\")\n",
    "    text = text.replace(\"'s\", \" its\")\n",
    "    text = text.replace(\"'t\", \" not\")\n",
    "    text = text.replace(\"'re\", \" are\")\n",
    "    text = text.replace(\"'ll\", \" will\")\n",
    "    text = text.replace(\"'ve\", \" have\")\n",
    "    text = text.replace(\"'d\", \" would\")\n",
    "    text = text.replace(\"'m\", \" am\")\n",
    "    text = text.replace(\"'scuse\", \" excuse\")\n",
    "    return text\n",
    "\n",
    "# replace accented characters (like é, ë, ï) with their unaccented counterparts (e, e, i)\n",
    "def remove_accented_characters(text):\n",
    "    return unicodedata.normalize(\"NFKD\", text).encode(\"ascii\", \"ignore\").decode(\"utf-8\", \"ignore\")\n",
    "\n",
    "# remove punctuation from text (like commas, periods, and exclamation marks)\n",
    "def remove_punctuation(text):\n",
    "    return re.sub(r\"[^\\w\\s]\", \"\", text)\n",
    "\n",
    "# remove digits from text\n",
    "def remove_digits(text):\n",
    "    return re.sub(r\"\\d+\", \"\", text)\n",
    "\n",
    "# remove extra whitespace characters\n",
    "def remove_extra_whitespace(text):\n",
    "    # remove spaces at the start and end of the text\n",
    "    text = text.strip()\n",
    "    # remove double whitespace characters\n",
    "    return re.sub(r\"\\s+\", \" \", text)\n",
    "\n",
    "# convert uppercase text to lowercase text\n",
    "def lowercase(text):\n",
    "    return text.lower()\n",
    "\n",
    "# remove all stop words from text\n",
    "def remove_stop_words(text):\n",
    "    # get the spacy stop words\n",
    "    spacy_stop_words = spacy.lang.en.stop_words.STOP_WORDS\n",
    "    # split the text into words\n",
    "    words = text.split(\" \")\n",
    "    # remove all stop words from the list of words\n",
    "    words = [word for word in words if word not in spacy_stop_words]\n",
    "    # return the list of words as text\n",
    "    return \" \".join(words)\n",
    "\n",
    "# method to combine all preprocessing steps\n",
    "def preprocess(text):\n",
    "    # remove newlines\n",
    "    text = remove_newlines(text)\n",
    "    # convert uppercase text to lowercase text\n",
    "    text = lowercase(text)\n",
    "    # replace shortened grammar with full grammar\n",
    "    text = replace_grammar(text)\n",
    "    # remove accented characters (like é, ë, ï) with their unaccented counterparts (e, e, i)\n",
    "    text = remove_accented_characters(text)\n",
    "    # remove punctuation (like commas, periods, and exclamation marks)\n",
    "    text = remove_punctuation(text)\n",
    "    # remove digits from text\n",
    "    text = remove_digits(text)\n",
    "    # remove stop words from the text\n",
    "    text = remove_stop_words(text)\n",
    "    # remove double whitespace characters\n",
    "    text = remove_extra_whitespace(text)\n",
    "    # return the text\n",
    "    return text"
   ]
  },
  {
   "cell_type": "markdown",
   "metadata": {},
   "source": [
    "### Preprocess all articles and append them to the dataset"
   ]
  },
  {
   "cell_type": "code",
   "execution_count": 11,
   "metadata": {},
   "outputs": [],
   "source": [
    "# create a new column\n",
    "df[\"Preprocessed_Text\"] = \"\"\n",
    "\n",
    "# iterate over every row in the dataset\n",
    "for index, row in df.iterrows():\n",
    "    # get the current title\n",
    "    title = row[\"Title\"]\n",
    "    # get the current text\n",
    "    raw_text = load_article(title)\n",
    "    # preprocess the text\n",
    "    cleaned_text = preprocess(raw_text)\n",
    "    # add the preprocessed text to the dataset\n",
    "    df.loc[index, \"Preprocessed_Text\"] = cleaned_text"
   ]
  },
  {
   "cell_type": "code",
   "execution_count": 12,
   "metadata": {},
   "outputs": [
    {
     "name": "stderr",
     "output_type": "stream",
     "text": [
      "[nltk_data] Downloading package punkt to\n",
      "[nltk_data]     C:\\Users\\Misch\\AppData\\Roaming\\nltk_data...\n",
      "[nltk_data]   Unzipping tokenizers\\punkt.zip.\n"
     ]
    }
   ],
   "source": [
    "# load the preprocessed text of the first article\n",
    "text = df[\"Preprocessed_Text\"][0]\n",
    "\n",
    "data = []\n",
    "# iterate through each sentence in the file\n",
    "for i in nltk.tokenize.sent_tokenize(text):\n",
    "    temp = []\n",
    "    # tokenize the sentence into words\n",
    "    for j in nltk.tokenize.word_tokenize(i):\n",
    "        temp.append(j.lower())\n",
    "    data.append(temp)"
   ]
  },
  {
   "cell_type": "code",
   "execution_count": 110,
   "metadata": {},
   "outputs": [
    {
     "name": "stdout",
     "output_type": "stream",
     "text": [
      "Cosine similarity between 'highprofile' and 'assassination' - CBOW : 0.7237289547920227\n",
      "Cosine similarity between 'highprofile' and 'explosive' - CBOW : 0.8536210656166077\n",
      "Cosine similarity between 'highprofile' and 'assassination' - Skip Gram : 0.7844073176383972\n",
      "Cosine similarity between 'highprofile' and 'explosive' - Skip Gram : 0.9478131532669067\n"
     ]
    }
   ],
   "source": [
    "# https://towardsdatascience.com/multi-page-document-classification-using-machine-learning-and-nlp-ba6151405c03\n",
    "\n",
    "# Create CBOW model\n",
    "model1 = gensim.models.Word2Vec(data, min_count=1, vector_size=100, window=5)\n",
    "\n",
    "# Create Skip Gram model\n",
    "model2 = gensim.models.Word2Vec(data, min_count=1, vector_size=100, window=5, sg=1)\n",
    "\n",
    "# define words to compare\n",
    "first_word = \"highprofile\"\n",
    "second_word = \"assassination\"\n",
    "third_word = \"explosive\"\n",
    "prefix = \"Cosine similarity between \"\n",
    "\n",
    "# Print results\n",
    "first_result = model1.wv.similarity(first_word, second_word)\n",
    "print(f\"{prefix}'{first_word}' and '{second_word}' - CBOW : {first_result}\")\n",
    "second_result = model1.wv.similarity(first_word, third_word)\n",
    "print(f\"{prefix}'{first_word}' and '{third_word}' - CBOW : {second_result}\")\n",
    "\n",
    "third_result = model2.wv.similarity(first_word, second_word)\n",
    "print(f\"{prefix}'{first_word}' and '{second_word}' - Skip Gram : {third_result}\")\n",
    "fourth_result = model2.wv.similarity(first_word, third_word)\n",
    "print(f\"{prefix}'{first_word}' and '{third_word}' - Skip Gram : {fourth_result}\")"
   ]
  },
  {
   "cell_type": "markdown",
   "metadata": {},
   "source": [
    "# Data preparation"
   ]
  },
  {
   "cell_type": "markdown",
   "metadata": {},
   "source": [
    "## Define one hot encoding function"
   ]
  },
  {
   "cell_type": "code",
   "execution_count": null,
   "metadata": {},
   "outputs": [],
   "source": [
    "# # get unique values from a 2D array of strings\n",
    "# def get_unique_value_frequency(df_column):\n",
    "#     # create a dictionary to store the unique values\n",
    "#     unique_values = {}\n",
    "#     # iterate over the column\n",
    "#     for value_list in df_column:\n",
    "#         # iterate over the values in the list\n",
    "#         for value in value_list:\n",
    "#             if value not in unique_values:\n",
    "#                 # if the value is not in the dictionary, add it\n",
    "#                 unique_values[value] = 1\n",
    "#             else:\n",
    "#                 # if the value is in the dictionary, increment the value\n",
    "#                 unique_values[value] += 1\n",
    "#     # return the dictionary of unique values\n",
    "#     return unique_values\n",
    "\n",
    "# # check if a list contains a certain word and returns a binary boolean value\n",
    "# def list_has_word(l, word):\n",
    "#     return word in l and 1 or 0\n",
    "\n",
    "# # one hot encode a dataframe's column that contains lists of strings in each value\n",
    "# def custom_one_hot_encoding(df, column_name, prefix=None, prefix_sep=\"_\"):\n",
    "#     # create a dictionary to store the one hot encoded columns\n",
    "#     one_hot_encoded_columns = {}\n",
    "#     # get the unique values from the column\n",
    "#     unique_values = get_unique_value_frequency(df[column_name])\n",
    "#     # iterate over the unique values\n",
    "#     for unique_value in unique_values:\n",
    "#         # create a clean string of the unique value\n",
    "#         clean_unique_value = unique_value.replace(\" \", \"_\")\n",
    "#         # create a new column name\n",
    "#         new_column_name = prefix and f\"{prefix}{prefix_sep}{clean_unique_value}\" or f\"{column_name}{prefix_sep}{clean_unique_value}\"\n",
    "#         # one hot encode the column using the current unique value\n",
    "#         ohe_list = df[column_name].apply(lambda l: list_has_word(l, unique_value))\n",
    "#         # add the new list to the dictionary\n",
    "#         one_hot_encoded_columns[new_column_name] = ohe_list\n",
    "#     # return a new dataframe with the one hot encoded columns\n",
    "#     return pd.DataFrame(one_hot_encoded_columns)"
   ]
  },
  {
   "cell_type": "markdown",
   "metadata": {},
   "source": [
    "## Execute one hot encoding function"
   ]
  },
  {
   "cell_type": "code",
   "execution_count": null,
   "metadata": {},
   "outputs": [],
   "source": [
    "# # one hot encode the tags column of the dataframe\n",
    "# ohe_tags_df = custom_one_hot_encoding(df, \"Tags\", \"tag\")\n",
    "# # merge the one hot encoded tags dataframe with the main dataframe by index\n",
    "# df = df.join(ohe_tags_df)\n",
    "# # drop the tags column from the main dataframe\n",
    "# df.drop(columns=[\"Tags\"], inplace=True)\n",
    "# # delete the one hot encoded dataframe variable\n",
    "# del ohe_tags_df"
   ]
  }
 ],
 "metadata": {
  "interpreter": {
   "hash": "f58898b06f18e36864a817406fc3e65eeebc3856fff6a36ac1cd20b1ae6f51fe"
  },
  "kernelspec": {
   "display_name": "Python 3.10.0 64-bit",
   "language": "python",
   "name": "python3"
  },
  "language_info": {
   "codemirror_mode": {
    "name": "ipython",
    "version": 3
   },
   "file_extension": ".py",
   "mimetype": "text/x-python",
   "name": "python",
   "nbconvert_exporter": "python",
   "pygments_lexer": "ipython3",
   "version": "3.10.4"
  },
  "orig_nbformat": 4
 },
 "nbformat": 4,
 "nbformat_minor": 2
}
