{
 "cells": [
  {
   "cell_type": "markdown",
   "metadata": {},
   "source": [
    "# Import dependencies"
   ]
  },
  {
   "cell_type": "code",
   "execution_count": null,
   "metadata": {},
   "outputs": [],
   "source": [
    "import os\n",
    "import re\n",
    "import unicodedata\n",
    "import spacy\n",
    "import pandas as pd\n",
    "from matplotlib import pyplot as plt\n",
    "from dotenv import load_dotenv"
   ]
  },
  {
   "cell_type": "markdown",
   "metadata": {},
   "source": [
    "# Load data"
   ]
  },
  {
   "cell_type": "markdown",
   "metadata": {},
   "source": [
    "### Load datasets"
   ]
  },
  {
   "cell_type": "code",
   "execution_count": 114,
   "metadata": {},
   "outputs": [
    {
     "ename": "TypeError",
     "evalue": "Tok2Vec.initialize() missing 1 required positional argument: 'get_examples'",
     "output_type": "error",
     "traceback": [
      "\u001b[0;31m---------------------------------------------------------------------------\u001b[0m",
      "\u001b[0;31mTypeError\u001b[0m                                 Traceback (most recent call last)",
      "\u001b[1;32m/home/pengu/Documents/Code/Python/DSAI/main.ipynb Cell 5'\u001b[0m in \u001b[0;36m<cell line: 16>\u001b[0;34m()\u001b[0m\n\u001b[1;32m     <a href='vscode-notebook-cell:/home/pengu/Documents/Code/Python/DSAI/main.ipynb#ch0000004?line=13'>14</a>\u001b[0m tok2vec \u001b[39m=\u001b[39m nlp\u001b[39m.\u001b[39madd_pipe(\u001b[39m\"\u001b[39m\u001b[39mtok2vec\u001b[39m\u001b[39m\"\u001b[39m)\n\u001b[1;32m     <a href='vscode-notebook-cell:/home/pengu/Documents/Code/Python/DSAI/main.ipynb#ch0000004?line=14'>15</a>\u001b[0m \u001b[39m# initialize the tok2vec model\u001b[39;00m\n\u001b[0;32m---> <a href='vscode-notebook-cell:/home/pengu/Documents/Code/Python/DSAI/main.ipynb#ch0000004?line=15'>16</a>\u001b[0m tok2vec\u001b[39m.\u001b[39;49minitialize()\n",
      "\u001b[0;31mTypeError\u001b[0m: Tok2Vec.initialize() missing 1 required positional argument: 'get_examples'"
     ]
    }
   ],
   "source": [
    "# load the environment variables from the .env file\n",
    "load_dotenv()\n",
    "# get the dataset path from the environment variables\n",
    "dataset_path = os.environ.get(\"DATASET_PATH\")\n",
    "# get the articles path for the known publisher\n",
    "articles_path = os.path.join(dataset_path, \"articles\")\n",
    "# load the dataset into the notebook\n",
    "df = pd.read_csv(f\"{dataset_path}/article_info_V2.csv\", index_col=0, parse_dates=[1])\n",
    "# read the external dataset\n",
    "external_df = pd.read_csv(f\"{dataset_path}/other-articles.csv\", index_col=0, parse_dates=[1], sep=\";\")\n",
    "# load English SpaCy model\n",
    "nlp = spacy.load(\"en_core_web_trf\")"
   ]
  },
  {
   "cell_type": "markdown",
   "metadata": {},
   "source": [
    "### Article loading function"
   ]
  },
  {
   "cell_type": "code",
   "execution_count": null,
   "metadata": {},
   "outputs": [],
   "source": [
    "# load article by title\n",
    "def load_article(title, load_contents=True):\n",
    "    # create file name from title\n",
    "    file_name = f\"{title}.txt\"\n",
    "    # get the path of the article\n",
    "    file_path = os.path.join(articles_path, file_name)\n",
    "    # read the article\n",
    "    file = open(file_path, \"r\", encoding=\"utf-8\")\n",
    "    # return the contents of the article if requested\n",
    "    if load_contents:\n",
    "        # read the contents of the article\n",
    "        contents = file.read()\n",
    "        # close the file\n",
    "        file.close()\n",
    "        # return the contents of the article\n",
    "        return contents\n",
    "    # close the file\n",
    "    file.close()\n",
    "    # return the article path\n",
    "    return file"
   ]
  },
  {
   "cell_type": "markdown",
   "metadata": {},
   "source": [
    "# Dataset cleaning"
   ]
  },
  {
   "cell_type": "markdown",
   "metadata": {},
   "source": [
    "### Cleaning functions"
   ]
  },
  {
   "cell_type": "code",
   "execution_count": null,
   "metadata": {},
   "outputs": [],
   "source": [
    "def clean_string(str):\n",
    "    # make the string lowercase\n",
    "    str = str.lower()\n",
    "    # remove all non-alphanumeric characters\n",
    "    str = re.sub(r\"[^\\w\\s]\", \"\", str)\n",
    "    # remove the leading and trailing spaces\n",
    "    return str.strip()\n",
    "\n",
    "def parse_list_from_string(str):\n",
    "    # split the string on each comma\n",
    "    raw_list = str.split(\",\")\n",
    "    # clean every string in the list\n",
    "    return list(map(clean_string, raw_list))"
   ]
  },
  {
   "cell_type": "markdown",
   "metadata": {},
   "source": [
    "### Merge preparation"
   ]
  },
  {
   "cell_type": "code",
   "execution_count": null,
   "metadata": {},
   "outputs": [],
   "source": [
    "# drop unused columns\n",
    "df.drop(columns=[\"Author\", \"Type\", \"Keywords\"], inplace=True)\n",
    "\n",
    "# drop rows with empty date values\n",
    "df.dropna(subset=[\"Date\"], inplace=True)"
   ]
  },
  {
   "cell_type": "markdown",
   "metadata": {},
   "source": [
    "### Merge datasets"
   ]
  },
  {
   "cell_type": "code",
   "execution_count": null,
   "metadata": {},
   "outputs": [],
   "source": [
    "# remove the url column from the external dataset\n",
    "external_df.drop(columns=[\"Url\"], inplace=True)\n",
    "# add the external dataset to the main dataset\n",
    "df = pd.concat([df, external_df])\n",
    "# reset the index of the main dataset\n",
    "df.reset_index(drop=True, inplace=True)\n",
    "# clear the external dataset variable\n",
    "del external_df"
   ]
  },
  {
   "cell_type": "markdown",
   "metadata": {},
   "source": [
    "### Remove duplicates"
   ]
  },
  {
   "cell_type": "code",
   "execution_count": null,
   "metadata": {},
   "outputs": [
    {
     "name": "stdout",
     "output_type": "stream",
     "text": [
      "Removed 3 duplicate entries.\n"
     ]
    }
   ],
   "source": [
    "# count the number of entries before duplicate removal\n",
    "entries_before_duplicate_removal = len(df)\n",
    "# remove duplicate entries by title and date\n",
    "df.drop_duplicates(subset=[\"Title\", \"Date\"], keep=\"first\", inplace=True)\n",
    "# count the number of entries after duplicate removal\n",
    "entries_after_duplicate_removal = len(df)\n",
    "# print removed duplicate count\n",
    "print(f\"Removed {entries_before_duplicate_removal - entries_after_duplicate_removal} duplicate entries.\")"
   ]
  },
  {
   "cell_type": "markdown",
   "metadata": {},
   "source": [
    "### Parse the string lists"
   ]
  },
  {
   "cell_type": "code",
   "execution_count": null,
   "metadata": {},
   "outputs": [],
   "source": [
    "# convert the raw string values of the Tags column to lists of strings\n",
    "df[\"Tags\"] = df[\"Tags\"].apply(parse_list_from_string)"
   ]
  },
  {
   "cell_type": "markdown",
   "metadata": {},
   "source": [
    "# Article cleaning"
   ]
  },
  {
   "cell_type": "markdown",
   "metadata": {},
   "source": [
    "### Remove articles which cannot be found"
   ]
  },
  {
   "cell_type": "code",
   "execution_count": null,
   "metadata": {},
   "outputs": [
    {
     "name": "stdout",
     "output_type": "stream",
     "text": [
      "42 files could not be loaded by title!\n"
     ]
    }
   ],
   "source": [
    "# initialize error count to 0 \n",
    "err_count = 0\n",
    "\n",
    "# iterate over dataset with index\n",
    "for index, row in df.iterrows():\n",
    "    # get the title of the article\n",
    "    title = row[\"Title\"]\n",
    "    try:\n",
    "        # attempt to load the article\n",
    "        article = load_article(title, load_contents=False)\n",
    "    except:\n",
    "        # if the article cannot be loaded, increment the error count\n",
    "        err_count += 1\n",
    "        # remove row from dataset\n",
    "        df.drop(index, inplace=True)\n",
    "        # continue to next row\n",
    "        continue\n",
    "\n",
    "# reset the index of the main dataset\n",
    "df.reset_index(drop=True, inplace=True)\n",
    "\n",
    "# print the number of errors\n",
    "print(f\"{err_count} files could not be loaded by title!\")"
   ]
  },
  {
   "cell_type": "markdown",
   "metadata": {},
   "source": [
    "### Add raw article contents to the dataset"
   ]
  },
  {
   "cell_type": "code",
   "execution_count": null,
   "metadata": {},
   "outputs": [],
   "source": [
    "# create a new column for the article contents\n",
    "articles_content = []\n",
    "\n",
    "def add_article(title):\n",
    "    # load the article\n",
    "    article = load_article(title)\n",
    "    # add the article to the list\n",
    "    articles_content.append(article)\n",
    "\n",
    "df[\"Title\"].apply(lambda title: add_article(title))\n",
    "\n",
    "articles_df = pd.DataFrame(articles_content, columns=[\"Body\"])\n",
    "\n",
    "# delete the articles_content variable\n",
    "del articles_content\n",
    "\n",
    "# merge the articles with the main dataframe based on index\n",
    "# df = pd.concat([df, articles_df], axis=1)\n",
    "df = pd.merge(df, articles_df, left_index=True, right_index=True)\n",
    "\n",
    "# delete the articles_df variable\n",
    "del articles_df"
   ]
  },
  {
   "cell_type": "markdown",
   "metadata": {},
   "source": [
    "### Define article cleaning methods"
   ]
  },
  {
   "cell_type": "code",
   "execution_count": 1,
   "metadata": {},
   "outputs": [],
   "source": [
    "# remove all newline characters\n",
    "def remove_newlines(text):\n",
    "    text = text.replace(\"\\n\", \" \")\n",
    "    text = text.replace(\"\\r\", \" \")\n",
    "    return text\n",
    "\n",
    "# replace shortened grammar with full grammar\n",
    "def replace_grammar(text):\n",
    "    text = text.replace(\"it's\", \"it is\")\n",
    "    text = text.replace(\"he's\", \"he is\")\n",
    "    text = text.replace(\"she's\", \"she is\")\n",
    "    text = text.replace(\"what's\", \"what is\")\n",
    "    text = text.replace(\"n't\", \"not\")\n",
    "    text = text.replace(\"'scuse\", \" excuse\")\n",
    "    text = text.replace(\"'s\", \"\")\n",
    "    text = text.replace(\"'t\", \" not\")\n",
    "    text = text.replace(\"'re\", \" are\")\n",
    "    text = text.replace(\"'ll\", \" will\")\n",
    "    text = text.replace(\"'ve\", \" have\")\n",
    "    text = text.replace(\"'d\", \" would\")\n",
    "    text = text.replace(\"'m\", \" am\")\n",
    "    return text\n",
    "\n",
    "# replace accented characters (like é, ë, ï) with their unaccented counterparts (e, e, i)\n",
    "def remove_accented_characters(text):\n",
    "    return unicodedata.normalize(\"NFKD\", text).encode(\"ascii\", \"ignore\").decode(\"utf-8\", \"ignore\")\n",
    "\n",
    "# remove punctuation from text (like commas, periods, and exclamation marks)\n",
    "def remove_punctuation(text):\n",
    "    return re.sub(r\"[^\\w\\s]\", \"\", text)\n",
    "\n",
    "# remove digits from text\n",
    "def remove_digits(text):\n",
    "    return re.sub(r\"\\d+\", \"\", text)\n",
    "\n",
    "# remove extra whitespace characters\n",
    "def remove_extra_whitespace(text):\n",
    "    # remove spaces at the start and end of the text\n",
    "    text = text.strip()\n",
    "    # remove double whitespace characters\n",
    "    return re.sub(r\"\\s+\", \" \", text)\n",
    "\n",
    "# convert uppercase text to lowercase text\n",
    "def lowercase(text):\n",
    "    return text.lower()\n",
    "\n",
    "# method to combine all preprocessing steps\n",
    "def preprocess(text):\n",
    "    # remove newlines\n",
    "    text = remove_newlines(text)\n",
    "    # convert uppercase text to lowercase text\n",
    "    text = lowercase(text)\n",
    "    # remove accented characters (like é, ë, ï) with their unaccented counterparts (e, e, i)\n",
    "    text = remove_accented_characters(text)\n",
    "    # replace shortened grammar with full grammar\n",
    "    text = replace_grammar(text)\n",
    "    # remove double whitespace characters\n",
    "    text = remove_extra_whitespace(text)\n",
    "    # tokenize text\n",
    "    tokens = nlp(text)\n",
    "    # remove stop words, digits and punctuation from tokens\n",
    "    # tokens = [token for token in tokens if not token.is_stop and not token.is_digit and not token.is_punct]\n",
    "    return tokens\n",
    "\n",
    "\n",
    "    # remove punctuation (like commas, periods, and exclamation marks)\n",
    "    # text = remove_punctuation(text)\n",
    "    # remove digits from text\n",
    "    # text = remove_digits(text)\n",
    "    # remove stop words from the text\n",
    "    # text = remove_stop_words(text)\n",
    "   \n",
    "    # return the text\n",
    "    # return text"
   ]
  },
  {
   "cell_type": "markdown",
   "metadata": {},
   "source": [
    "### Apply cleaning method to all articles"
   ]
  },
  {
   "cell_type": "code",
   "execution_count": null,
   "metadata": {},
   "outputs": [
    {
     "name": "stderr",
     "output_type": "stream",
     "text": [
      "/home/pengu/.local/lib/python3.10/site-packages/torch/autocast_mode.py:162: UserWarning: User provided device_type of 'cuda', but CUDA is not available. Disabling\n",
      "  warnings.warn('User provided device_type of \\'cuda\\', but CUDA is not available. Disabling')\n"
     ]
    },
    {
     "ename": "ValueError",
     "evalue": "[E109] Component 'tok2vec' could not be run. Did you forget to call `initialize()`?",
     "output_type": "error",
     "traceback": [
      "\u001b[0;31m---------------------------------------------------------------------------\u001b[0m",
      "\u001b[0;31mKeyError\u001b[0m                                  Traceback (most recent call last)",
      "File \u001b[0;32m~/.local/lib/python3.10/site-packages/spacy/language.py:1017\u001b[0m, in \u001b[0;36mLanguage.__call__\u001b[0;34m(self, text, disable, component_cfg)\u001b[0m\n\u001b[1;32m   <a href='file:///home/pengu/.local/lib/python3.10/site-packages/spacy/language.py?line=1015'>1016</a>\u001b[0m \u001b[39mtry\u001b[39;00m:\n\u001b[0;32m-> <a href='file:///home/pengu/.local/lib/python3.10/site-packages/spacy/language.py?line=1016'>1017</a>\u001b[0m     doc \u001b[39m=\u001b[39m proc(doc, \u001b[39m*\u001b[39;49m\u001b[39m*\u001b[39;49mcomponent_cfg\u001b[39m.\u001b[39;49mget(name, {}))  \u001b[39m# type: ignore[call-arg]\u001b[39;00m\n\u001b[1;32m   <a href='file:///home/pengu/.local/lib/python3.10/site-packages/spacy/language.py?line=1017'>1018</a>\u001b[0m \u001b[39mexcept\u001b[39;00m \u001b[39mKeyError\u001b[39;00m \u001b[39mas\u001b[39;00m e:\n\u001b[1;32m   <a href='file:///home/pengu/.local/lib/python3.10/site-packages/spacy/language.py?line=1018'>1019</a>\u001b[0m     \u001b[39m# This typically happens if a component is not initialized\u001b[39;00m\n",
      "File \u001b[0;32m~/.local/lib/python3.10/site-packages/spacy/pipeline/trainable_pipe.pyx:56\u001b[0m, in \u001b[0;36mspacy.pipeline.trainable_pipe.TrainablePipe.__call__\u001b[0;34m()\u001b[0m\n",
      "File \u001b[0;32m~/.local/lib/python3.10/site-packages/spacy/util.py:1621\u001b[0m, in \u001b[0;36mraise_error\u001b[0;34m(proc_name, proc, docs, e)\u001b[0m\n\u001b[1;32m   <a href='file:///home/pengu/.local/lib/python3.10/site-packages/spacy/util.py?line=1619'>1620</a>\u001b[0m \u001b[39mdef\u001b[39;00m \u001b[39mraise_error\u001b[39m(proc_name, proc, docs, e):\n\u001b[0;32m-> <a href='file:///home/pengu/.local/lib/python3.10/site-packages/spacy/util.py?line=1620'>1621</a>\u001b[0m     \u001b[39mraise\u001b[39;00m e\n",
      "File \u001b[0;32m~/.local/lib/python3.10/site-packages/spacy/pipeline/trainable_pipe.pyx:52\u001b[0m, in \u001b[0;36mspacy.pipeline.trainable_pipe.TrainablePipe.__call__\u001b[0;34m()\u001b[0m\n",
      "File \u001b[0;32m~/.local/lib/python3.10/site-packages/spacy/pipeline/tok2vec.py:125\u001b[0m, in \u001b[0;36mTok2Vec.predict\u001b[0;34m(self, docs)\u001b[0m\n\u001b[1;32m    <a href='file:///home/pengu/.local/lib/python3.10/site-packages/spacy/pipeline/tok2vec.py?line=123'>124</a>\u001b[0m     \u001b[39mreturn\u001b[39;00m [\u001b[39mself\u001b[39m\u001b[39m.\u001b[39mmodel\u001b[39m.\u001b[39mops\u001b[39m.\u001b[39malloc((\u001b[39m0\u001b[39m, width)) \u001b[39mfor\u001b[39;00m doc \u001b[39min\u001b[39;00m docs]\n\u001b[0;32m--> <a href='file:///home/pengu/.local/lib/python3.10/site-packages/spacy/pipeline/tok2vec.py?line=124'>125</a>\u001b[0m tokvecs \u001b[39m=\u001b[39m \u001b[39mself\u001b[39;49m\u001b[39m.\u001b[39;49mmodel\u001b[39m.\u001b[39;49mpredict(docs)\n\u001b[1;32m    <a href='file:///home/pengu/.local/lib/python3.10/site-packages/spacy/pipeline/tok2vec.py?line=125'>126</a>\u001b[0m batch_id \u001b[39m=\u001b[39m Tok2VecListener\u001b[39m.\u001b[39mget_batch_id(docs)\n",
      "File \u001b[0;32m~/.local/lib/python3.10/site-packages/thinc/model.py:315\u001b[0m, in \u001b[0;36mModel.predict\u001b[0;34m(self, X)\u001b[0m\n\u001b[1;32m    <a href='file:///home/pengu/.local/lib/python3.10/site-packages/thinc/model.py?line=311'>312</a>\u001b[0m \u001b[39m\"\"\"Call the model's `forward` function with `is_train=False`, and return\u001b[39;00m\n\u001b[1;32m    <a href='file:///home/pengu/.local/lib/python3.10/site-packages/thinc/model.py?line=312'>313</a>\u001b[0m \u001b[39monly the output, instead of the `(output, callback)` tuple.\u001b[39;00m\n\u001b[1;32m    <a href='file:///home/pengu/.local/lib/python3.10/site-packages/thinc/model.py?line=313'>314</a>\u001b[0m \u001b[39m\"\"\"\u001b[39;00m\n\u001b[0;32m--> <a href='file:///home/pengu/.local/lib/python3.10/site-packages/thinc/model.py?line=314'>315</a>\u001b[0m \u001b[39mreturn\u001b[39;00m \u001b[39mself\u001b[39;49m\u001b[39m.\u001b[39;49m_func(\u001b[39mself\u001b[39;49m, X, is_train\u001b[39m=\u001b[39;49m\u001b[39mFalse\u001b[39;49;00m)[\u001b[39m0\u001b[39m]\n",
      "File \u001b[0;32m~/.local/lib/python3.10/site-packages/thinc/layers/chain.py:54\u001b[0m, in \u001b[0;36mforward\u001b[0;34m(model, X, is_train)\u001b[0m\n\u001b[1;32m     <a href='file:///home/pengu/.local/lib/python3.10/site-packages/thinc/layers/chain.py?line=52'>53</a>\u001b[0m \u001b[39mfor\u001b[39;00m layer \u001b[39min\u001b[39;00m model\u001b[39m.\u001b[39mlayers:\n\u001b[0;32m---> <a href='file:///home/pengu/.local/lib/python3.10/site-packages/thinc/layers/chain.py?line=53'>54</a>\u001b[0m     Y, inc_layer_grad \u001b[39m=\u001b[39m layer(X, is_train\u001b[39m=\u001b[39;49mis_train)\n\u001b[1;32m     <a href='file:///home/pengu/.local/lib/python3.10/site-packages/thinc/layers/chain.py?line=54'>55</a>\u001b[0m     callbacks\u001b[39m.\u001b[39mappend(inc_layer_grad)\n",
      "File \u001b[0;32m~/.local/lib/python3.10/site-packages/thinc/model.py:291\u001b[0m, in \u001b[0;36mModel.__call__\u001b[0;34m(self, X, is_train)\u001b[0m\n\u001b[1;32m    <a href='file:///home/pengu/.local/lib/python3.10/site-packages/thinc/model.py?line=288'>289</a>\u001b[0m \u001b[39m\"\"\"Call the model's `forward` function, returning the output and a\u001b[39;00m\n\u001b[1;32m    <a href='file:///home/pengu/.local/lib/python3.10/site-packages/thinc/model.py?line=289'>290</a>\u001b[0m \u001b[39mcallback to compute the gradients via backpropagation.\"\"\"\u001b[39;00m\n\u001b[0;32m--> <a href='file:///home/pengu/.local/lib/python3.10/site-packages/thinc/model.py?line=290'>291</a>\u001b[0m \u001b[39mreturn\u001b[39;00m \u001b[39mself\u001b[39;49m\u001b[39m.\u001b[39;49m_func(\u001b[39mself\u001b[39;49m, X, is_train\u001b[39m=\u001b[39;49mis_train)\n",
      "File \u001b[0;32m~/.local/lib/python3.10/site-packages/thinc/layers/chain.py:54\u001b[0m, in \u001b[0;36mforward\u001b[0;34m(model, X, is_train)\u001b[0m\n\u001b[1;32m     <a href='file:///home/pengu/.local/lib/python3.10/site-packages/thinc/layers/chain.py?line=52'>53</a>\u001b[0m \u001b[39mfor\u001b[39;00m layer \u001b[39min\u001b[39;00m model\u001b[39m.\u001b[39mlayers:\n\u001b[0;32m---> <a href='file:///home/pengu/.local/lib/python3.10/site-packages/thinc/layers/chain.py?line=53'>54</a>\u001b[0m     Y, inc_layer_grad \u001b[39m=\u001b[39m layer(X, is_train\u001b[39m=\u001b[39;49mis_train)\n\u001b[1;32m     <a href='file:///home/pengu/.local/lib/python3.10/site-packages/thinc/layers/chain.py?line=54'>55</a>\u001b[0m     callbacks\u001b[39m.\u001b[39mappend(inc_layer_grad)\n",
      "File \u001b[0;32m~/.local/lib/python3.10/site-packages/thinc/model.py:291\u001b[0m, in \u001b[0;36mModel.__call__\u001b[0;34m(self, X, is_train)\u001b[0m\n\u001b[1;32m    <a href='file:///home/pengu/.local/lib/python3.10/site-packages/thinc/model.py?line=288'>289</a>\u001b[0m \u001b[39m\"\"\"Call the model's `forward` function, returning the output and a\u001b[39;00m\n\u001b[1;32m    <a href='file:///home/pengu/.local/lib/python3.10/site-packages/thinc/model.py?line=289'>290</a>\u001b[0m \u001b[39mcallback to compute the gradients via backpropagation.\"\"\"\u001b[39;00m\n\u001b[0;32m--> <a href='file:///home/pengu/.local/lib/python3.10/site-packages/thinc/model.py?line=290'>291</a>\u001b[0m \u001b[39mreturn\u001b[39;00m \u001b[39mself\u001b[39;49m\u001b[39m.\u001b[39;49m_func(\u001b[39mself\u001b[39;49m, X, is_train\u001b[39m=\u001b[39;49mis_train)\n",
      "File \u001b[0;32m~/.local/lib/python3.10/site-packages/thinc/layers/with_array.py:30\u001b[0m, in \u001b[0;36mforward\u001b[0;34m(model, Xseq, is_train)\u001b[0m\n\u001b[1;32m     <a href='file:///home/pengu/.local/lib/python3.10/site-packages/thinc/layers/with_array.py?line=28'>29</a>\u001b[0m \u001b[39mif\u001b[39;00m \u001b[39misinstance\u001b[39m(Xseq, Ragged):\n\u001b[0;32m---> <a href='file:///home/pengu/.local/lib/python3.10/site-packages/thinc/layers/with_array.py?line=29'>30</a>\u001b[0m     \u001b[39mreturn\u001b[39;00m _ragged_forward(\n\u001b[1;32m     <a href='file:///home/pengu/.local/lib/python3.10/site-packages/thinc/layers/with_array.py?line=30'>31</a>\u001b[0m         cast(Model[Ragged, Ragged], model), cast(Ragged, Xseq), is_train\n\u001b[1;32m     <a href='file:///home/pengu/.local/lib/python3.10/site-packages/thinc/layers/with_array.py?line=31'>32</a>\u001b[0m     )\n\u001b[1;32m     <a href='file:///home/pengu/.local/lib/python3.10/site-packages/thinc/layers/with_array.py?line=32'>33</a>\u001b[0m \u001b[39melif\u001b[39;00m \u001b[39misinstance\u001b[39m(Xseq, Padded):\n",
      "File \u001b[0;32m~/.local/lib/python3.10/site-packages/thinc/layers/with_array.py:89\u001b[0m, in \u001b[0;36m_ragged_forward\u001b[0;34m(model, Xr, is_train)\u001b[0m\n\u001b[1;32m     <a href='file:///home/pengu/.local/lib/python3.10/site-packages/thinc/layers/with_array.py?line=87'>88</a>\u001b[0m layer: Model[ArrayXd, ArrayXd] \u001b[39m=\u001b[39m model\u001b[39m.\u001b[39mlayers[\u001b[39m0\u001b[39m]\n\u001b[0;32m---> <a href='file:///home/pengu/.local/lib/python3.10/site-packages/thinc/layers/with_array.py?line=88'>89</a>\u001b[0m Y, get_dX \u001b[39m=\u001b[39m layer(Xr\u001b[39m.\u001b[39;49mdataXd, is_train)\n\u001b[1;32m     <a href='file:///home/pengu/.local/lib/python3.10/site-packages/thinc/layers/with_array.py?line=90'>91</a>\u001b[0m \u001b[39mdef\u001b[39;00m \u001b[39mbackprop\u001b[39m(dYr: Ragged) \u001b[39m-\u001b[39m\u001b[39m>\u001b[39m Ragged:\n",
      "File \u001b[0;32m~/.local/lib/python3.10/site-packages/thinc/model.py:291\u001b[0m, in \u001b[0;36mModel.__call__\u001b[0;34m(self, X, is_train)\u001b[0m\n\u001b[1;32m    <a href='file:///home/pengu/.local/lib/python3.10/site-packages/thinc/model.py?line=288'>289</a>\u001b[0m \u001b[39m\"\"\"Call the model's `forward` function, returning the output and a\u001b[39;00m\n\u001b[1;32m    <a href='file:///home/pengu/.local/lib/python3.10/site-packages/thinc/model.py?line=289'>290</a>\u001b[0m \u001b[39mcallback to compute the gradients via backpropagation.\"\"\"\u001b[39;00m\n\u001b[0;32m--> <a href='file:///home/pengu/.local/lib/python3.10/site-packages/thinc/model.py?line=290'>291</a>\u001b[0m \u001b[39mreturn\u001b[39;00m \u001b[39mself\u001b[39;49m\u001b[39m.\u001b[39;49m_func(\u001b[39mself\u001b[39;49m, X, is_train\u001b[39m=\u001b[39;49mis_train)\n",
      "File \u001b[0;32m~/.local/lib/python3.10/site-packages/thinc/layers/concatenate.py:44\u001b[0m, in \u001b[0;36mforward\u001b[0;34m(model, X, is_train)\u001b[0m\n\u001b[1;32m     <a href='file:///home/pengu/.local/lib/python3.10/site-packages/thinc/layers/concatenate.py?line=42'>43</a>\u001b[0m \u001b[39mdef\u001b[39;00m \u001b[39mforward\u001b[39m(model: Model[InT, OutT], X: InT, is_train: \u001b[39mbool\u001b[39m) \u001b[39m-\u001b[39m\u001b[39m>\u001b[39m Tuple[OutT, Callable]:\n\u001b[0;32m---> <a href='file:///home/pengu/.local/lib/python3.10/site-packages/thinc/layers/concatenate.py?line=43'>44</a>\u001b[0m     Ys, callbacks \u001b[39m=\u001b[39m \u001b[39mzip\u001b[39m(\u001b[39m*\u001b[39m[layer(X, is_train\u001b[39m=\u001b[39mis_train) \u001b[39mfor\u001b[39;00m layer \u001b[39min\u001b[39;00m model\u001b[39m.\u001b[39mlayers])\n\u001b[1;32m     <a href='file:///home/pengu/.local/lib/python3.10/site-packages/thinc/layers/concatenate.py?line=44'>45</a>\u001b[0m     \u001b[39mif\u001b[39;00m \u001b[39misinstance\u001b[39m(Ys[\u001b[39m0\u001b[39m], \u001b[39mlist\u001b[39m):\n",
      "File \u001b[0;32m~/.local/lib/python3.10/site-packages/thinc/layers/concatenate.py:44\u001b[0m, in \u001b[0;36m<listcomp>\u001b[0;34m(.0)\u001b[0m\n\u001b[1;32m     <a href='file:///home/pengu/.local/lib/python3.10/site-packages/thinc/layers/concatenate.py?line=42'>43</a>\u001b[0m \u001b[39mdef\u001b[39;00m \u001b[39mforward\u001b[39m(model: Model[InT, OutT], X: InT, is_train: \u001b[39mbool\u001b[39m) \u001b[39m-\u001b[39m\u001b[39m>\u001b[39m Tuple[OutT, Callable]:\n\u001b[0;32m---> <a href='file:///home/pengu/.local/lib/python3.10/site-packages/thinc/layers/concatenate.py?line=43'>44</a>\u001b[0m     Ys, callbacks \u001b[39m=\u001b[39m \u001b[39mzip\u001b[39m(\u001b[39m*\u001b[39m[layer(X, is_train\u001b[39m=\u001b[39;49mis_train) \u001b[39mfor\u001b[39;00m layer \u001b[39min\u001b[39;00m model\u001b[39m.\u001b[39mlayers])\n\u001b[1;32m     <a href='file:///home/pengu/.local/lib/python3.10/site-packages/thinc/layers/concatenate.py?line=44'>45</a>\u001b[0m     \u001b[39mif\u001b[39;00m \u001b[39misinstance\u001b[39m(Ys[\u001b[39m0\u001b[39m], \u001b[39mlist\u001b[39m):\n",
      "File \u001b[0;32m~/.local/lib/python3.10/site-packages/thinc/model.py:291\u001b[0m, in \u001b[0;36mModel.__call__\u001b[0;34m(self, X, is_train)\u001b[0m\n\u001b[1;32m    <a href='file:///home/pengu/.local/lib/python3.10/site-packages/thinc/model.py?line=288'>289</a>\u001b[0m \u001b[39m\"\"\"Call the model's `forward` function, returning the output and a\u001b[39;00m\n\u001b[1;32m    <a href='file:///home/pengu/.local/lib/python3.10/site-packages/thinc/model.py?line=289'>290</a>\u001b[0m \u001b[39mcallback to compute the gradients via backpropagation.\"\"\"\u001b[39;00m\n\u001b[0;32m--> <a href='file:///home/pengu/.local/lib/python3.10/site-packages/thinc/model.py?line=290'>291</a>\u001b[0m \u001b[39mreturn\u001b[39;00m \u001b[39mself\u001b[39;49m\u001b[39m.\u001b[39;49m_func(\u001b[39mself\u001b[39;49m, X, is_train\u001b[39m=\u001b[39;49mis_train)\n",
      "File \u001b[0;32m~/.local/lib/python3.10/site-packages/thinc/layers/chain.py:54\u001b[0m, in \u001b[0;36mforward\u001b[0;34m(model, X, is_train)\u001b[0m\n\u001b[1;32m     <a href='file:///home/pengu/.local/lib/python3.10/site-packages/thinc/layers/chain.py?line=52'>53</a>\u001b[0m \u001b[39mfor\u001b[39;00m layer \u001b[39min\u001b[39;00m model\u001b[39m.\u001b[39mlayers:\n\u001b[0;32m---> <a href='file:///home/pengu/.local/lib/python3.10/site-packages/thinc/layers/chain.py?line=53'>54</a>\u001b[0m     Y, inc_layer_grad \u001b[39m=\u001b[39m layer(X, is_train\u001b[39m=\u001b[39;49mis_train)\n\u001b[1;32m     <a href='file:///home/pengu/.local/lib/python3.10/site-packages/thinc/layers/chain.py?line=54'>55</a>\u001b[0m     callbacks\u001b[39m.\u001b[39mappend(inc_layer_grad)\n",
      "File \u001b[0;32m~/.local/lib/python3.10/site-packages/thinc/model.py:291\u001b[0m, in \u001b[0;36mModel.__call__\u001b[0;34m(self, X, is_train)\u001b[0m\n\u001b[1;32m    <a href='file:///home/pengu/.local/lib/python3.10/site-packages/thinc/model.py?line=288'>289</a>\u001b[0m \u001b[39m\"\"\"Call the model's `forward` function, returning the output and a\u001b[39;00m\n\u001b[1;32m    <a href='file:///home/pengu/.local/lib/python3.10/site-packages/thinc/model.py?line=289'>290</a>\u001b[0m \u001b[39mcallback to compute the gradients via backpropagation.\"\"\"\u001b[39;00m\n\u001b[0;32m--> <a href='file:///home/pengu/.local/lib/python3.10/site-packages/thinc/model.py?line=290'>291</a>\u001b[0m \u001b[39mreturn\u001b[39;00m \u001b[39mself\u001b[39;49m\u001b[39m.\u001b[39;49m_func(\u001b[39mself\u001b[39;49m, X, is_train\u001b[39m=\u001b[39;49mis_train)\n",
      "File \u001b[0;32m~/.local/lib/python3.10/site-packages/thinc/layers/hashembed.py:61\u001b[0m, in \u001b[0;36mforward\u001b[0;34m(model, ids, is_train)\u001b[0m\n\u001b[1;32m     <a href='file:///home/pengu/.local/lib/python3.10/site-packages/thinc/layers/hashembed.py?line=57'>58</a>\u001b[0m \u001b[39mdef\u001b[39;00m \u001b[39mforward\u001b[39m(\n\u001b[1;32m     <a href='file:///home/pengu/.local/lib/python3.10/site-packages/thinc/layers/hashembed.py?line=58'>59</a>\u001b[0m     model: Model[InT, OutT], ids: Ints1d, is_train: \u001b[39mbool\u001b[39m\n\u001b[1;32m     <a href='file:///home/pengu/.local/lib/python3.10/site-packages/thinc/layers/hashembed.py?line=59'>60</a>\u001b[0m ) \u001b[39m-\u001b[39m\u001b[39m>\u001b[39m Tuple[OutT, Callable]:\n\u001b[0;32m---> <a href='file:///home/pengu/.local/lib/python3.10/site-packages/thinc/layers/hashembed.py?line=60'>61</a>\u001b[0m     vectors \u001b[39m=\u001b[39m cast(Floats2d, model\u001b[39m.\u001b[39;49mget_param(\u001b[39m\"\u001b[39;49m\u001b[39mE\u001b[39;49m\u001b[39m\"\u001b[39;49m))\n\u001b[1;32m     <a href='file:///home/pengu/.local/lib/python3.10/site-packages/thinc/layers/hashembed.py?line=61'>62</a>\u001b[0m     nV \u001b[39m=\u001b[39m vectors\u001b[39m.\u001b[39mshape[\u001b[39m0\u001b[39m]\n",
      "File \u001b[0;32m~/.local/lib/python3.10/site-packages/thinc/model.py:216\u001b[0m, in \u001b[0;36mModel.get_param\u001b[0;34m(self, name)\u001b[0m\n\u001b[1;32m    <a href='file:///home/pengu/.local/lib/python3.10/site-packages/thinc/model.py?line=214'>215</a>\u001b[0m \u001b[39mif\u001b[39;00m \u001b[39mnot\u001b[39;00m \u001b[39mself\u001b[39m\u001b[39m.\u001b[39m_params\u001b[39m.\u001b[39mhas_param(\u001b[39mself\u001b[39m\u001b[39m.\u001b[39mid, name):\n\u001b[0;32m--> <a href='file:///home/pengu/.local/lib/python3.10/site-packages/thinc/model.py?line=215'>216</a>\u001b[0m     \u001b[39mraise\u001b[39;00m \u001b[39mKeyError\u001b[39;00m(\n\u001b[1;32m    <a href='file:///home/pengu/.local/lib/python3.10/site-packages/thinc/model.py?line=216'>217</a>\u001b[0m         \u001b[39mf\u001b[39m\u001b[39m\"\u001b[39m\u001b[39mParameter \u001b[39m\u001b[39m'\u001b[39m\u001b[39m{\u001b[39;00mname\u001b[39m}\u001b[39;00m\u001b[39m'\u001b[39m\u001b[39m for model \u001b[39m\u001b[39m'\u001b[39m\u001b[39m{\u001b[39;00m\u001b[39mself\u001b[39m\u001b[39m.\u001b[39mname\u001b[39m}\u001b[39;00m\u001b[39m'\u001b[39m\u001b[39m has not been allocated yet.\u001b[39m\u001b[39m\"\u001b[39m\n\u001b[1;32m    <a href='file:///home/pengu/.local/lib/python3.10/site-packages/thinc/model.py?line=217'>218</a>\u001b[0m     )\n\u001b[1;32m    <a href='file:///home/pengu/.local/lib/python3.10/site-packages/thinc/model.py?line=218'>219</a>\u001b[0m \u001b[39mreturn\u001b[39;00m \u001b[39mself\u001b[39m\u001b[39m.\u001b[39m_params\u001b[39m.\u001b[39mget_param(\u001b[39mself\u001b[39m\u001b[39m.\u001b[39mid, name)\n",
      "\u001b[0;31mKeyError\u001b[0m: \"Parameter 'E' for model 'hashembed' has not been allocated yet.\"",
      "\nThe above exception was the direct cause of the following exception:\n",
      "\u001b[0;31mValueError\u001b[0m                                Traceback (most recent call last)",
      "\u001b[1;32m/home/pengu/Documents/Code/Python/DSAI/main.ipynb Cell 27'\u001b[0m in \u001b[0;36m<cell line: 3>\u001b[0;34m()\u001b[0m\n\u001b[1;32m      <a href='vscode-notebook-cell:/home/pengu/Documents/Code/Python/DSAI/main.ipynb#ch0000032?line=0'>1</a>\u001b[0m \u001b[39m# temporary testing\u001b[39;00m\n\u001b[1;32m      <a href='vscode-notebook-cell:/home/pengu/Documents/Code/Python/DSAI/main.ipynb#ch0000032?line=1'>2</a>\u001b[0m df[\u001b[39m\"\u001b[39m\u001b[39mPreprocessed_Text\u001b[39m\u001b[39m\"\u001b[39m] \u001b[39m=\u001b[39m \u001b[39m\"\u001b[39m\u001b[39m\"\u001b[39m\n\u001b[0;32m----> <a href='vscode-notebook-cell:/home/pengu/Documents/Code/Python/DSAI/main.ipynb#ch0000032?line=2'>3</a>\u001b[0m df[\u001b[39m\"\u001b[39m\u001b[39mPreprocessed_Text\u001b[39m\u001b[39m\"\u001b[39m][\u001b[39m0\u001b[39m] \u001b[39m=\u001b[39m preprocess(df[\u001b[39m\"\u001b[39;49m\u001b[39mBody\u001b[39;49m\u001b[39m\"\u001b[39;49m][\u001b[39m0\u001b[39;49m])\n",
      "\u001b[1;32m/home/pengu/Documents/Code/Python/DSAI/main.ipynb Cell 25'\u001b[0m in \u001b[0;36mpreprocess\u001b[0;34m(text)\u001b[0m\n\u001b[1;32m     <a href='vscode-notebook-cell:/home/pengu/Documents/Code/Python/DSAI/main.ipynb#ch0000025?line=56'>57</a>\u001b[0m text \u001b[39m=\u001b[39m remove_extra_whitespace(text)\n\u001b[1;32m     <a href='vscode-notebook-cell:/home/pengu/Documents/Code/Python/DSAI/main.ipynb#ch0000025?line=57'>58</a>\u001b[0m \u001b[39m# tokenize text\u001b[39;00m\n\u001b[0;32m---> <a href='vscode-notebook-cell:/home/pengu/Documents/Code/Python/DSAI/main.ipynb#ch0000025?line=58'>59</a>\u001b[0m tokens \u001b[39m=\u001b[39m nlp(text)\n\u001b[1;32m     <a href='vscode-notebook-cell:/home/pengu/Documents/Code/Python/DSAI/main.ipynb#ch0000025?line=59'>60</a>\u001b[0m \u001b[39m# remove stop words, digits and punctuation from tokens\u001b[39;00m\n\u001b[1;32m     <a href='vscode-notebook-cell:/home/pengu/Documents/Code/Python/DSAI/main.ipynb#ch0000025?line=60'>61</a>\u001b[0m \u001b[39m# tokens = [token for token in tokens if not token.is_stop and not token.is_digit and not token.is_punct]\u001b[39;00m\n\u001b[1;32m     <a href='vscode-notebook-cell:/home/pengu/Documents/Code/Python/DSAI/main.ipynb#ch0000025?line=61'>62</a>\u001b[0m \u001b[39mreturn\u001b[39;00m tokens\n",
      "File \u001b[0;32m~/.local/lib/python3.10/site-packages/spacy/language.py:1020\u001b[0m, in \u001b[0;36mLanguage.__call__\u001b[0;34m(self, text, disable, component_cfg)\u001b[0m\n\u001b[1;32m   <a href='file:///home/pengu/.local/lib/python3.10/site-packages/spacy/language.py?line=1016'>1017</a>\u001b[0m     doc \u001b[39m=\u001b[39m proc(doc, \u001b[39m*\u001b[39m\u001b[39m*\u001b[39mcomponent_cfg\u001b[39m.\u001b[39mget(name, {}))  \u001b[39m# type: ignore[call-arg]\u001b[39;00m\n\u001b[1;32m   <a href='file:///home/pengu/.local/lib/python3.10/site-packages/spacy/language.py?line=1017'>1018</a>\u001b[0m \u001b[39mexcept\u001b[39;00m \u001b[39mKeyError\u001b[39;00m \u001b[39mas\u001b[39;00m e:\n\u001b[1;32m   <a href='file:///home/pengu/.local/lib/python3.10/site-packages/spacy/language.py?line=1018'>1019</a>\u001b[0m     \u001b[39m# This typically happens if a component is not initialized\u001b[39;00m\n\u001b[0;32m-> <a href='file:///home/pengu/.local/lib/python3.10/site-packages/spacy/language.py?line=1019'>1020</a>\u001b[0m     \u001b[39mraise\u001b[39;00m \u001b[39mValueError\u001b[39;00m(Errors\u001b[39m.\u001b[39mE109\u001b[39m.\u001b[39mformat(name\u001b[39m=\u001b[39mname)) \u001b[39mfrom\u001b[39;00m \u001b[39me\u001b[39;00m\n\u001b[1;32m   <a href='file:///home/pengu/.local/lib/python3.10/site-packages/spacy/language.py?line=1020'>1021</a>\u001b[0m \u001b[39mexcept\u001b[39;00m \u001b[39mException\u001b[39;00m \u001b[39mas\u001b[39;00m e:\n\u001b[1;32m   <a href='file:///home/pengu/.local/lib/python3.10/site-packages/spacy/language.py?line=1021'>1022</a>\u001b[0m     error_handler(name, proc, [doc], e)\n",
      "\u001b[0;31mValueError\u001b[0m: [E109] Component 'tok2vec' could not be run. Did you forget to call `initialize()`?"
     ]
    }
   ],
   "source": [
    "# temporary testing\n",
    "df[\"Preprocessed_Text\"] = \"\"\n",
    "df[\"Preprocessed_Text\"][0] = preprocess(df[\"Body\"][0])\n",
    "\n",
    "\n",
    "\n",
    "\n",
    "# apply cleaning method to all articles\n",
    "# preprocess all articles\n",
    "# df[\"Preprocessed_Text\"] = df[\"Body\"].apply(preprocess)"
   ]
  },
  {
   "cell_type": "code",
   "execution_count": null,
   "metadata": {},
   "outputs": [
    {
     "ename": "ValueError",
     "evalue": "[E007] 'tok2vec' already exists in pipeline. Existing names: ['transformer', 'tagger', 'parser', 'attribute_ruler', 'lemmatizer', 'ner', 'tok2vec']",
     "output_type": "error",
     "traceback": [
      "\u001b[0;31m---------------------------------------------------------------------------\u001b[0m",
      "\u001b[0;31mValueError\u001b[0m                                Traceback (most recent call last)",
      "\u001b[1;32m/home/pengu/Documents/Code/Python/DSAI/main.ipynb Cell 28'\u001b[0m in \u001b[0;36m<cell line: 5>\u001b[0;34m()\u001b[0m\n\u001b[1;32m      <a href='vscode-notebook-cell:/home/pengu/Documents/Code/Python/DSAI/main.ipynb#ch0000031?line=2'>3</a>\u001b[0m \u001b[39mfrom\u001b[39;00m \u001b[39mspacy\u001b[39;00m\u001b[39m.\u001b[39;00m\u001b[39mpipeline\u001b[39;00m\u001b[39m.\u001b[39;00m\u001b[39mtok2vec\u001b[39;00m \u001b[39mimport\u001b[39;00m DEFAULT_TOK2VEC_MODEL\n\u001b[1;32m      <a href='vscode-notebook-cell:/home/pengu/Documents/Code/Python/DSAI/main.ipynb#ch0000031?line=3'>4</a>\u001b[0m config \u001b[39m=\u001b[39m {\u001b[39m\"\u001b[39m\u001b[39mmodel\u001b[39m\u001b[39m\"\u001b[39m: DEFAULT_TOK2VEC_MODEL}\n\u001b[0;32m----> <a href='vscode-notebook-cell:/home/pengu/Documents/Code/Python/DSAI/main.ipynb#ch0000031?line=4'>5</a>\u001b[0m tok2vec \u001b[39m=\u001b[39m nlp\u001b[39m.\u001b[39;49madd_pipe(\u001b[39m\"\u001b[39;49m\u001b[39mtok2vec\u001b[39;49m\u001b[39m\"\u001b[39;49m, config\u001b[39m=\u001b[39;49mconfig)\n\u001b[1;32m      <a href='vscode-notebook-cell:/home/pengu/Documents/Code/Python/DSAI/main.ipynb#ch0000031?line=6'>7</a>\u001b[0m \u001b[39mfor\u001b[39;00m doc \u001b[39min\u001b[39;00m tok2vec\u001b[39m.\u001b[39mpipe(tokens, batch_size\u001b[39m=\u001b[39m\u001b[39m1000\u001b[39m, n_threads\u001b[39m=\u001b[39m\u001b[39m4\u001b[39m):\n\u001b[1;32m      <a href='vscode-notebook-cell:/home/pengu/Documents/Code/Python/DSAI/main.ipynb#ch0000031?line=7'>8</a>\u001b[0m     \u001b[39mprint\u001b[39m(doc\u001b[39m.\u001b[39mvector)\n",
      "File \u001b[0;32m~/.local/lib/python3.10/site-packages/spacy/language.py:776\u001b[0m, in \u001b[0;36mLanguage.add_pipe\u001b[0;34m(self, factory_name, name, before, after, first, last, source, config, raw_config, validate)\u001b[0m\n\u001b[1;32m    <a href='file:///home/pengu/.local/lib/python3.10/site-packages/spacy/language.py?line=773'>774</a>\u001b[0m name \u001b[39m=\u001b[39m name \u001b[39mif\u001b[39;00m name \u001b[39mis\u001b[39;00m \u001b[39mnot\u001b[39;00m \u001b[39mNone\u001b[39;00m \u001b[39melse\u001b[39;00m factory_name\n\u001b[1;32m    <a href='file:///home/pengu/.local/lib/python3.10/site-packages/spacy/language.py?line=774'>775</a>\u001b[0m \u001b[39mif\u001b[39;00m name \u001b[39min\u001b[39;00m \u001b[39mself\u001b[39m\u001b[39m.\u001b[39mcomponent_names:\n\u001b[0;32m--> <a href='file:///home/pengu/.local/lib/python3.10/site-packages/spacy/language.py?line=775'>776</a>\u001b[0m     \u001b[39mraise\u001b[39;00m \u001b[39mValueError\u001b[39;00m(Errors\u001b[39m.\u001b[39mE007\u001b[39m.\u001b[39mformat(name\u001b[39m=\u001b[39mname, opts\u001b[39m=\u001b[39m\u001b[39mself\u001b[39m\u001b[39m.\u001b[39mcomponent_names))\n\u001b[1;32m    <a href='file:///home/pengu/.local/lib/python3.10/site-packages/spacy/language.py?line=776'>777</a>\u001b[0m \u001b[39mif\u001b[39;00m source \u001b[39mis\u001b[39;00m \u001b[39mnot\u001b[39;00m \u001b[39mNone\u001b[39;00m:\n\u001b[1;32m    <a href='file:///home/pengu/.local/lib/python3.10/site-packages/spacy/language.py?line=777'>778</a>\u001b[0m     \u001b[39m# We're loading the component from a model. After loading the\u001b[39;00m\n\u001b[1;32m    <a href='file:///home/pengu/.local/lib/python3.10/site-packages/spacy/language.py?line=778'>779</a>\u001b[0m     \u001b[39m# component, we know its real factory name\u001b[39;00m\n\u001b[1;32m    <a href='file:///home/pengu/.local/lib/python3.10/site-packages/spacy/language.py?line=779'>780</a>\u001b[0m     pipe_component, factory_name \u001b[39m=\u001b[39m \u001b[39mself\u001b[39m\u001b[39m.\u001b[39mcreate_pipe_from_source(\n\u001b[1;32m    <a href='file:///home/pengu/.local/lib/python3.10/site-packages/spacy/language.py?line=780'>781</a>\u001b[0m         factory_name, source, name\u001b[39m=\u001b[39mname\n\u001b[1;32m    <a href='file:///home/pengu/.local/lib/python3.10/site-packages/spacy/language.py?line=781'>782</a>\u001b[0m     )\n",
      "\u001b[0;31mValueError\u001b[0m: [E007] 'tok2vec' already exists in pipeline. Existing names: ['transformer', 'tagger', 'parser', 'attribute_ruler', 'lemmatizer', 'ner', 'tok2vec']"
     ]
    }
   ],
   "source": [
    "tokens = df[\"Preprocessed_Text\"][0]\n",
    "\n",
    "\n",
    "for doc in tok2vec.pipe(tokens, batch_size=1000, n_threads=4):\n",
    "    print(doc.vector)"
   ]
  },
  {
   "cell_type": "code",
   "execution_count": null,
   "metadata": {},
   "outputs": [],
   "source": []
  },
  {
   "cell_type": "markdown",
   "metadata": {},
   "source": [
    "# Data preparation"
   ]
  },
  {
   "cell_type": "markdown",
   "metadata": {},
   "source": [
    "## Define one hot encoding function"
   ]
  },
  {
   "cell_type": "code",
   "execution_count": null,
   "metadata": {},
   "outputs": [],
   "source": [
    "# # get unique values from a 2D array of strings\n",
    "# def get_unique_value_frequency(df_column):\n",
    "#     # create a dictionary to store the unique values\n",
    "#     unique_values = {}\n",
    "#     # iterate over the column\n",
    "#     for value_list in df_column:\n",
    "#         # iterate over the values in the list\n",
    "#         for value in value_list:\n",
    "#             if value not in unique_values:\n",
    "#                 # if the value is not in the dictionary, add it\n",
    "#                 unique_values[value] = 1\n",
    "#             else:\n",
    "#                 # if the value is in the dictionary, increment the value\n",
    "#                 unique_values[value] += 1\n",
    "#     # return the dictionary of unique values\n",
    "#     return unique_values\n",
    "\n",
    "# # check if a list contains a certain word and returns a binary boolean value\n",
    "# def list_has_word(l, word):\n",
    "#     return word in l and 1 or 0\n",
    "\n",
    "# # one hot encode a dataframe's column that contains lists of strings in each value\n",
    "# def custom_one_hot_encoding(df, column_name, prefix=None, prefix_sep=\"_\"):\n",
    "#     # create a dictionary to store the one hot encoded columns\n",
    "#     one_hot_encoded_columns = {}\n",
    "#     # get the unique values from the column\n",
    "#     unique_values = get_unique_value_frequency(df[column_name])\n",
    "#     # iterate over the unique values\n",
    "#     for unique_value in unique_values:\n",
    "#         # create a clean string of the unique value\n",
    "#         clean_unique_value = unique_value.replace(\" \", \"_\")\n",
    "#         # create a new column name\n",
    "#         new_column_name = prefix and f\"{prefix}{prefix_sep}{clean_unique_value}\" or f\"{column_name}{prefix_sep}{clean_unique_value}\"\n",
    "#         # one hot encode the column using the current unique value\n",
    "#         ohe_list = df[column_name].apply(lambda l: list_has_word(l, unique_value))\n",
    "#         # add the new list to the dictionary\n",
    "#         one_hot_encoded_columns[new_column_name] = ohe_list\n",
    "#     # return a new dataframe with the one hot encoded columns\n",
    "#     return pd.DataFrame(one_hot_encoded_columns)"
   ]
  },
  {
   "cell_type": "markdown",
   "metadata": {},
   "source": [
    "## Execute one hot encoding function"
   ]
  },
  {
   "cell_type": "code",
   "execution_count": null,
   "metadata": {},
   "outputs": [],
   "source": [
    "# # one hot encode the tags column of the dataframe\n",
    "# ohe_tags_df = custom_one_hot_encoding(df, \"Tags\", \"tag\")\n",
    "# # merge the one hot encoded tags dataframe with the main dataframe by index\n",
    "# df = df.join(ohe_tags_df)\n",
    "# # drop the tags column from the main dataframe\n",
    "# df.drop(columns=[\"Tags\"], inplace=True)\n",
    "# # delete the one hot encoded dataframe variable\n",
    "# del ohe_tags_df"
   ]
  }
 ],
 "metadata": {
  "interpreter": {
   "hash": "f58898b06f18e36864a817406fc3e65eeebc3856fff6a36ac1cd20b1ae6f51fe"
  },
  "kernelspec": {
   "display_name": "Python 3.10.0 64-bit",
   "language": "python",
   "name": "python3"
  },
  "language_info": {
   "codemirror_mode": {
    "name": "ipython",
    "version": 3
   },
   "file_extension": ".py",
   "mimetype": "text/x-python",
   "name": "python",
   "nbconvert_exporter": "python",
   "pygments_lexer": "ipython3",
   "version": "3.10.4"
  },
  "orig_nbformat": 4
 },
 "nbformat": 4,
 "nbformat_minor": 2
}
