{
 "cells": [
  {
   "cell_type": "markdown",
   "metadata": {},
   "source": [
    "# Import dependencies"
   ]
  },
  {
   "cell_type": "code",
   "execution_count": null,
   "metadata": {},
   "outputs": [],
   "source": [
    "import os\n",
    "import re\n",
    "import pandas as pd\n",
    "from matplotlib import pyplot as plt\n",
    "from dotenv import load_dotenv"
   ]
  },
  {
   "cell_type": "markdown",
   "metadata": {},
   "source": [
    "# Load dataset"
   ]
  },
  {
   "cell_type": "code",
   "execution_count": null,
   "metadata": {},
   "outputs": [],
   "source": [
    "# load the environment variables from the .env file\n",
    "load_dotenv()\n",
    "# get the dataset path from the environment variables\n",
    "dataset_path = os.environ.get(\"DATASET_PATH\")\n",
    "# get the articles path for the known publisher\n",
    "articles_path = os.path.join(dataset_path, \"articles\")\n",
    "# load the dataset into the notebook\n",
    "df = pd.read_csv(f\"{dataset_path}/article_info_V2.csv\", index_col=0, parse_dates=[1])"
   ]
  },
  {
   "cell_type": "markdown",
   "metadata": {},
   "source": [
    "# Data cleaning"
   ]
  },
  {
   "cell_type": "markdown",
   "metadata": {},
   "source": [
    "## Define cleaning functions"
   ]
  },
  {
   "cell_type": "code",
   "execution_count": null,
   "metadata": {},
   "outputs": [],
   "source": [
    "def clean_string(str):\n",
    "    # make the string lowercase\n",
    "    str = str.lower()\n",
    "    # remove all non-alphanumeric characters\n",
    "    str = re.sub(r\"[^\\w\\s]\", \"\", str)\n",
    "    # remove the leading and trailing spaces\n",
    "    return str.strip()\n",
    "\n",
    "def parse_list_from_string(str):\n",
    "    # split the string on each comma\n",
    "    raw_list = str.split(\",\")\n",
    "    # clean every string in the list\n",
    "    return list(map(clean_string, raw_list))"
   ]
  },
  {
   "cell_type": "markdown",
   "metadata": {},
   "source": [
    "## Drop unused columns"
   ]
  },
  {
   "cell_type": "code",
   "execution_count": null,
   "metadata": {},
   "outputs": [],
   "source": [
    "# drop the author, type and keywords columns\n",
    "df.drop(columns=[\"Author\", \"Type\", \"Keywords\"], inplace=True)"
   ]
  },
  {
   "cell_type": "markdown",
   "metadata": {},
   "source": [
    "## Drop empty rows"
   ]
  },
  {
   "cell_type": "code",
   "execution_count": null,
   "metadata": {},
   "outputs": [],
   "source": [
    "# remove rows with empty date values\n",
    "df.dropna(subset=[\"Date\"], inplace=True)"
   ]
  },
  {
   "cell_type": "markdown",
   "metadata": {},
   "source": [
    "## Merge datasets"
   ]
  },
  {
   "cell_type": "code",
   "execution_count": null,
   "metadata": {},
   "outputs": [],
   "source": [
    "# read the external dataset\n",
    "external_df = pd.read_csv(f\"{dataset_path}/other-articles.csv\", index_col=0, parse_dates=[1], sep=\";\")\n",
    "# remove the url column from the external dataset\n",
    "external_df.drop(columns=[\"Url\"], inplace=True)\n",
    "# add the external dataset to the main dataset\n",
    "df = pd.concat([df, external_df])\n",
    "# reset the index of the main dataset\n",
    "df.reset_index(drop=True, inplace=True)\n",
    "# clear the external dataset variable\n",
    "del external_df"
   ]
  },
  {
   "cell_type": "markdown",
   "metadata": {},
   "source": [
    "## Remove duplicate articles"
   ]
  },
  {
   "cell_type": "code",
   "execution_count": null,
   "metadata": {},
   "outputs": [],
   "source": [
    "# count the number of entries before duplicate removal\n",
    "entries_before_duplicate_removal = len(df)\n",
    "# remove duplicate entries by title and date\n",
    "df.drop_duplicates(subset=[\"Title\", \"Date\"], keep=\"first\", inplace=True)\n",
    "# count the number of entries after duplicate removal\n",
    "entries_after_duplicate_removal = len(df)\n",
    "# print removed duplicate count\n",
    "print(f\"Removed {entries_before_duplicate_removal - entries_after_duplicate_removal} duplicate entries.\")"
   ]
  },
  {
   "cell_type": "markdown",
   "metadata": {},
   "source": [
    "## Parse the string lists"
   ]
  },
  {
   "cell_type": "code",
   "execution_count": null,
   "metadata": {},
   "outputs": [],
   "source": [
    "# show the tags column before parsing\n",
    "print(f\"The type of values in the Tags column is {type(df.loc[0, 'Tags'])}.\")\n",
    "# convert the raw string values of the Tags column to lists of strings\n",
    "df[\"Tags\"] = df[\"Tags\"].apply(parse_list_from_string)\n",
    "# show the tags column after parsing\n",
    "print(f\"The type of values in the Tags column is {type(df.loc[0, 'Tags'])}.\")"
   ]
  },
  {
   "cell_type": "markdown",
   "metadata": {},
   "source": [
    "## Define article loading function"
   ]
  },
  {
   "cell_type": "code",
   "execution_count": null,
   "metadata": {},
   "outputs": [],
   "source": [
    "# load article by title\n",
    "def load_article(title, load_contents=False):\n",
    "    # create file name from title\n",
    "    file_name = f\"{title}.txt\"\n",
    "    # get the path of the article\n",
    "    file_path = os.path.join(articles_path, file_name)\n",
    "    # read the article\n",
    "    file = open(file_path, \"r\", encoding=\"utf-8\")\n",
    "    # return the contents of the article if requested\n",
    "    if load_contents:\n",
    "        return file.read()\n",
    "    # return the article path\n",
    "    return file"
   ]
  },
  {
   "cell_type": "markdown",
   "metadata": {},
   "source": [
    "## Remove articles which cannot be found"
   ]
  },
  {
   "cell_type": "code",
   "execution_count": null,
   "metadata": {},
   "outputs": [],
   "source": [
    "# new_df = df.copy()\n",
    "titles = df[\"Title\"]\n",
    "err_count = 0\n",
    "for title in titles:\n",
    "    try:\n",
    "        load_article(title)\n",
    "    except:\n",
    "        print(f\"Failed: {title}\")\n",
    "        err_count += 1\n",
    "\n",
    "print(f\"{err_count} files could not be loaded by title!\")"
   ]
  },
  {
   "cell_type": "markdown",
   "metadata": {},
   "source": [
    "# Data preparation"
   ]
  },
  {
   "cell_type": "markdown",
   "metadata": {},
   "source": [
    "## Define one hot encoding function"
   ]
  },
  {
   "cell_type": "code",
   "execution_count": null,
   "metadata": {},
   "outputs": [],
   "source": [
    "# get unique values from a 2D array of strings\n",
    "def get_unique_value_frequency(df_column):\n",
    "    # create a dictionary to store the unique values\n",
    "    unique_values = {}\n",
    "    # iterate over the column\n",
    "    for value_list in df_column:\n",
    "        # iterate over the values in the list\n",
    "        for value in value_list:\n",
    "            if value not in unique_values:\n",
    "                # if the value is not in the dictionary, add it\n",
    "                unique_values[value] = 1\n",
    "            else:\n",
    "                # if the value is in the dictionary, increment the value\n",
    "                unique_values[value] += 1\n",
    "    # return the dictionary of unique values\n",
    "    return unique_values\n",
    "\n",
    "# check if a list contains a certain word and returns a binary boolean value\n",
    "def list_has_word(l, word):\n",
    "    return word in l and 1 or 0\n",
    "\n",
    "# one hot encode a dataframe's column that contains lists of strings in each value\n",
    "def custom_one_hot_encoding(df, column_name, prefix=None, prefix_sep=\"_\"):\n",
    "    # create a dictionary to store the one hot encoded columns\n",
    "    one_hot_encoded_columns = {}\n",
    "    # get the unique values from the column\n",
    "    unique_values = get_unique_value_frequency(df[column_name])\n",
    "    # iterate over the unique values\n",
    "    for unique_value in unique_values:\n",
    "        # create a clean string of the unique value\n",
    "        clean_unique_value = unique_value.replace(\" \", \"_\")\n",
    "        # create a new column name\n",
    "        new_column_name = prefix and f\"{prefix}{prefix_sep}{clean_unique_value}\" or f\"{column_name}{prefix_sep}{clean_unique_value}\"\n",
    "        # one hot encode the column using the current unique value\n",
    "        ohe_list = df[column_name].apply(lambda l: list_has_word(l, unique_value))\n",
    "        # add the new list to the dictionary\n",
    "        one_hot_encoded_columns[new_column_name] = ohe_list\n",
    "    # return a new dataframe with the one hot encoded columns\n",
    "    return pd.DataFrame(one_hot_encoded_columns)"
   ]
  },
  {
   "cell_type": "markdown",
   "metadata": {},
   "source": [
    "## Execute one hot encoding function"
   ]
  },
  {
   "cell_type": "code",
   "execution_count": null,
   "metadata": {},
   "outputs": [],
   "source": [
    "# one hot encode the tags column of the dataframe\n",
    "ohe_tags_df = custom_one_hot_encoding(df, \"Tags\", \"tag\")\n",
    "# merge the one hot encoded tags dataframe with the main dataframe by index\n",
    "df = df.join(ohe_tags_df)\n",
    "# delete the one hot encoded dataframe variable\n",
    "del ohe_tags_df"
   ]
  },
  {
   "cell_type": "code",
   "execution_count": null,
   "metadata": {},
   "outputs": [],
   "source": []
  }
 ],
 "metadata": {
  "interpreter": {
   "hash": "369f2c481f4da34e4445cda3fffd2e751bd1c4d706f27375911949ba6bb62e1c"
  },
  "kernelspec": {
   "display_name": "Python 3.10.2 64-bit",
   "language": "python",
   "name": "python3"
  },
  "language_info": {
   "codemirror_mode": {
    "name": "ipython",
    "version": 3
   },
   "file_extension": ".py",
   "mimetype": "text/x-python",
   "name": "python",
   "nbconvert_exporter": "python",
   "pygments_lexer": "ipython3",
   "version": "3.10.4"
  },
  "orig_nbformat": 4
 },
 "nbformat": 4,
 "nbformat_minor": 2
}
