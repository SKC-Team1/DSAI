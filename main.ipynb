{
 "cells": [
  {
   "cell_type": "markdown",
   "metadata": {},
   "source": [
    "# Import dependencies"
   ]
  },
  {
   "cell_type": "code",
   "execution_count": 32,
   "metadata": {},
   "outputs": [],
   "source": [
    "import os\n",
    "import re\n",
    "import unicodedata\n",
    "import spacy\n",
    "import pandas as pd\n",
    "from matplotlib import pyplot as plt\n",
    "from dotenv import load_dotenv"
   ]
  },
  {
   "cell_type": "markdown",
   "metadata": {},
   "source": [
    "# Load dataset"
   ]
  },
  {
   "cell_type": "code",
   "execution_count": 33,
   "metadata": {},
   "outputs": [],
   "source": [
    "# load the environment variables from the .env file\n",
    "load_dotenv()\n",
    "# get the dataset path from the environment variables\n",
    "dataset_path = os.environ.get(\"DATASET_PATH\")\n",
    "# get the articles path for the known publisher\n",
    "articles_path = os.path.join(dataset_path, \"articles\")\n",
    "# load the dataset into the notebook\n",
    "df = pd.read_csv(f\"{dataset_path}/article_info_V2.csv\", index_col=0, parse_dates=[1])"
   ]
  },
  {
   "cell_type": "markdown",
   "metadata": {},
   "source": [
    "# Data cleaning"
   ]
  },
  {
   "cell_type": "markdown",
   "metadata": {},
   "source": [
    "## Define cleaning functions"
   ]
  },
  {
   "cell_type": "code",
   "execution_count": 34,
   "metadata": {},
   "outputs": [],
   "source": [
    "def clean_string(str):\n",
    "    # make the string lowercase\n",
    "    str = str.lower()\n",
    "    # remove all non-alphanumeric characters\n",
    "    str = re.sub(r\"[^\\w\\s]\", \"\", str)\n",
    "    # remove the leading and trailing spaces\n",
    "    return str.strip()\n",
    "\n",
    "def parse_list_from_string(str):\n",
    "    # split the string on each comma\n",
    "    raw_list = str.split(\",\")\n",
    "    # clean every string in the list\n",
    "    return list(map(clean_string, raw_list))"
   ]
  },
  {
   "cell_type": "markdown",
   "metadata": {},
   "source": [
    "## Drop unused columns"
   ]
  },
  {
   "cell_type": "code",
   "execution_count": 35,
   "metadata": {},
   "outputs": [],
   "source": [
    "# drop the author, type and keywords columns\n",
    "df.drop(columns=[\"Author\", \"Type\", \"Keywords\"], inplace=True)"
   ]
  },
  {
   "cell_type": "markdown",
   "metadata": {},
   "source": [
    "## Drop empty rows"
   ]
  },
  {
   "cell_type": "code",
   "execution_count": 36,
   "metadata": {},
   "outputs": [],
   "source": [
    "# remove rows with empty date values\n",
    "df.dropna(subset=[\"Date\"], inplace=True)"
   ]
  },
  {
   "cell_type": "markdown",
   "metadata": {},
   "source": [
    "## Merge datasets"
   ]
  },
  {
   "cell_type": "code",
   "execution_count": 37,
   "metadata": {},
   "outputs": [],
   "source": [
    "# read the external dataset\n",
    "external_df = pd.read_csv(f\"{dataset_path}/other-articles.csv\", index_col=0, parse_dates=[1], sep=\";\")\n",
    "# remove the url column from the external dataset\n",
    "external_df.drop(columns=[\"Url\"], inplace=True)\n",
    "# add the external dataset to the main dataset\n",
    "df = pd.concat([df, external_df])\n",
    "# reset the index of the main dataset\n",
    "df.reset_index(drop=True, inplace=True)\n",
    "# clear the external dataset variable\n",
    "del external_df"
   ]
  },
  {
   "cell_type": "markdown",
   "metadata": {},
   "source": [
    "## Remove duplicate articles"
   ]
  },
  {
   "cell_type": "code",
   "execution_count": 38,
   "metadata": {},
   "outputs": [
    {
     "name": "stdout",
     "output_type": "stream",
     "text": [
      "Removed 3 duplicate entries.\n"
     ]
    }
   ],
   "source": [
    "# count the number of entries before duplicate removal\n",
    "entries_before_duplicate_removal = len(df)\n",
    "# remove duplicate entries by title and date\n",
    "df.drop_duplicates(subset=[\"Title\", \"Date\"], keep=\"first\", inplace=True)\n",
    "# count the number of entries after duplicate removal\n",
    "entries_after_duplicate_removal = len(df)\n",
    "# print removed duplicate count\n",
    "print(f\"Removed {entries_before_duplicate_removal - entries_after_duplicate_removal} duplicate entries.\")"
   ]
  },
  {
   "cell_type": "markdown",
   "metadata": {},
   "source": [
    "## Parse the string lists"
   ]
  },
  {
   "cell_type": "code",
   "execution_count": 39,
   "metadata": {},
   "outputs": [
    {
     "name": "stdout",
     "output_type": "stream",
     "text": [
      "The type of values in the Tags column is <class 'str'>.\n",
      "The type of values in the Tags column is <class 'list'>.\n"
     ]
    }
   ],
   "source": [
    "# show the tags column before parsing\n",
    "print(f\"The type of values in the Tags column is {type(df.loc[0, 'Tags'])}.\")\n",
    "# convert the raw string values of the Tags column to lists of strings\n",
    "df[\"Tags\"] = df[\"Tags\"].apply(parse_list_from_string)\n",
    "# show the tags column after parsing\n",
    "print(f\"The type of values in the Tags column is {type(df.loc[0, 'Tags'])}.\")"
   ]
  },
  {
   "cell_type": "markdown",
   "metadata": {},
   "source": [
    "## Define article loading function"
   ]
  },
  {
   "cell_type": "code",
   "execution_count": 40,
   "metadata": {},
   "outputs": [],
   "source": [
    "# load article by title\n",
    "def load_article(title, load_contents=True):\n",
    "    # create file name from title\n",
    "    file_name = f\"{title}.txt\"\n",
    "    # get the path of the article\n",
    "    file_path = os.path.join(articles_path, file_name)\n",
    "    # read the article\n",
    "    file = open(file_path, \"r\", encoding=\"utf-8\")\n",
    "    # return the contents of the article if requested\n",
    "    if load_contents:\n",
    "        # read the contents of the article\n",
    "        contents = file.read()\n",
    "        # close the file\n",
    "        file.close()\n",
    "        # return the contents of the article\n",
    "        return contents\n",
    "    # close the file\n",
    "    file.close()\n",
    "    # return the article path\n",
    "    return file"
   ]
  },
  {
   "cell_type": "markdown",
   "metadata": {},
   "source": [
    "## Remove articles which cannot be found"
   ]
  },
  {
   "cell_type": "code",
   "execution_count": 41,
   "metadata": {},
   "outputs": [
    {
     "name": "stdout",
     "output_type": "stream",
     "text": [
      "42 files could not be loaded by title!\n"
     ]
    }
   ],
   "source": [
    "# initialize error count to 0 \n",
    "err_count = 0\n",
    "\n",
    "# iterate over dataset with index\n",
    "for index, row in df.iterrows():\n",
    "    # get the title of the article\n",
    "    title = row[\"Title\"]\n",
    "    try:\n",
    "        # attempt to load the article\n",
    "        article = load_article(title)\n",
    "    except:\n",
    "        # if the article cannot be loaded, increment the error count\n",
    "        err_count += 1\n",
    "        # remove row from dataset\n",
    "        df.drop(index, inplace=True)\n",
    "        # continue to next row\n",
    "        continue\n",
    "\n",
    "# print the number of errors\n",
    "print(f\"{err_count} files could not be loaded by title!\")"
   ]
  },
  {
   "cell_type": "markdown",
   "metadata": {},
   "source": [
    "## Define article cleaning methods"
   ]
  },
  {
   "cell_type": "code",
   "execution_count": 12,
   "metadata": {},
   "outputs": [],
   "source": []
  },
  {
   "cell_type": "code",
   "execution_count": 42,
   "metadata": {},
   "outputs": [],
   "source": [
    "# # replace accented characters with their unaccented counterparts\n",
    "# def remove_accented_characters(text):\n",
    "#     return unicodedata.normalize(\"NFKD\", text).encode(\"ascii\", \"ignore\").decode(\"utf-8\", \"ignore\")"
   ]
  },
  {
   "cell_type": "code",
   "execution_count": 61,
   "metadata": {},
   "outputs": [],
   "source": [
    "# mainly based on https://medium.com/analytics-vidhya/text-preprocessing-nlp-basics-430d54016048\n",
    "\n",
    "# load spacy model\n",
    "nlp = spacy.load(\"en_core_web_sm\")\n",
    "\n",
    "# remove any newline characters\n",
    "def remove_newlines(text):\n",
    "    # remove all newline characters\n",
    "    text = re.sub(r\"\\n\\n\", \" \", text)\n",
    "    text = re.sub(r\"\\n\", \" \", text)\n",
    "    text = re.sub(r\"\\r\\r\", \" \", text)\n",
    "    text = re.sub(r\"\\r\", \" \", text)\n",
    "    return text\n",
    "\n",
    "# remove double whitespace characters\n",
    "def remove_double_whitespace(text):\n",
    "    return re.sub(r\"\\s\\s+\", \" \", text)\n",
    "\n",
    "# replace shortened grammar with full grammar\n",
    "def replace_grammar(text):\n",
    "    # replace the grammar\n",
    "    text = text.replace(\"\\it's\", \"it is\")\n",
    "    text = re.sub(r\"it's\", \"it is\", text)\n",
    "    # TODO: NOT DONE YET, REPLACE THIS!\n",
    "\n",
    "    text = re.sub(r\"'s\", \"its\", text)\n",
    "\n",
    "    text = text.replace(\"\\'ve\", \" have\")\n",
    "    text = text.replace(\"n\\'t\", \" not\")\n",
    "    text = text.replace(\"\\'re\", \" are\")\n",
    "    text = text.replace(\"\\'d\", \" would\")\n",
    "    text = text.replace(\"\\'ll\", \" will\")\n",
    "    text = text.replace(\"\\'m\", \" am\")\n",
    "    # return the text\n",
    "    return text\n",
    "\n",
    "# remove noise from text\n",
    "def remove_noise(text):\n",
    "    # remove newline characters\n",
    "    text = remove_newlines(text)\n",
    "    # replace short grammar with full grammar\n",
    "    text = replace_grammar(text)\n",
    "    # remove punctuation\n",
    "    text = re.sub(r\"[^\\w\\s]\", \"\", text)\n",
    "    # remove digits\n",
    "    text = re.sub(r\"\\d+\", \"\", text)\n",
    "    # remove double whitespace characters\n",
    "    text = remove_double_whitespace(text)\n",
    "    # return the cleaned text\n",
    "    return text\n",
    "\n",
    "def tokenize(text):\n",
    "    # tokenize the text\n",
    "    tokens = nlp(text)\n",
    "    # return the tokens\n",
    "    return tokens\n",
    "\n",
    "def remove_stop_words(tokens):\n",
    "    # remove stop words\n",
    "    return [token for token in tokens if not token.is_stop]\n",
    "\n",
    "def lemmatize(tokens):\n",
    "    # lemmatize the text\n",
    "    return [token.lemma_ for token in tokens]\n",
    "\n",
    "def lowercase(tokens):\n",
    "    # lowercase the tokens\n",
    "    return [token.lower() for token in tokens]\n",
    "\n",
    "def preprocess_text(text):\n",
    "    text = remove_noise(text)\n",
    "    tokens = tokenize(text)\n",
    "    tokens = remove_stop_words(tokens)\n",
    "    tokens = lemmatize(tokens)\n",
    "    # return lowercase(tokens)\n",
    "    return tokens\n"
   ]
  },
  {
   "cell_type": "code",
   "execution_count": 62,
   "metadata": {},
   "outputs": [
    {
     "name": "stdout",
     "output_type": "stream",
     "text": [
      "['contraband', 'zetas', 'haiti', 'cocaine', 'el salvador', 'bolivia', 'judicial reform', 'elites and crime']\n",
      "['explosive', 'new', 'report', 'suggest', 'highprofile', 'assassination', 'Jovenel', 'Moïse', 'relate', 'crackdown', 'drug', 'trafficking', 'list', 'compile', 'haitian', 'business', 'political', 'elite', 'involve', 'trade', 'add', 'theory', 'possible', 'motive', 'president', 'kill', 'shoot', 'dead', 'President', 'Moïse', 'plan', 'hand', 'name', 'government', 'accord', 'New', 'York', 'Times', 'report', 'publish', 'December', 'Times', 'speak', 'senior', 'haitian', 'adviser', 'official', 'knowledge', 'document', 'unnamed', 'official', 'tell', 'Times', 'hitman', 'confess', 'ransack', 'Moïse', 'house', 'search', 'list', 'president', 'order', 'official', 'spare', 'power', 'broker', 'help', 'propel', 'office', 'Times', 'report', 'central', 'figure', 'include', 'list', 'accord', 'Times', 'businessman', 'Charles', 'SaintRémy', 'alia', 'Kiko', 'Times', 'previously', 'report', 'antidrug', 'official', 'work', 'Haiti', 'suspect', 'SaintRémys', 'involvement', 'drug', 'trafficking', 'SaintRémy', 'allegedly', 'meet', 'senior', 'Drug', 'Enforcement', 'Administration', 'DEA', 'official', 'raise', 'question', 'corruption', 'accord', 'Keith', 'McNichols', 'DEA', 'agent', 'investigate', 'smuggling', 'hundred', 'kilogram', 'cocaine', 'heroin', 'Colombia', 'Haiti', 'McNichols', 'DEA', 'whistleblower', 'speak', 'investigation', 'grossly', 'mishandle', 'SaintRémy', 'respond', 'Times', 'ask', 'allege', 'link', 'drug', 'trafficking', 'brotherinlaw', 'President', 'Michel', 'Martelly', 'close', 'friend', 'current', 'Prime', 'Minister', 'Ariel', 'Henry', 'Haiti', 'chief', 'prosecutor', 'previously', 'accuse', 'Henry', 'connect', 'Moïses', 'murder', 'dossier', 'not', 'Moïse', 'allegedly', 'drug', 'trafficking', 'mid', 'DEA', 'reportedly', 'Moïse', 'aware', 'clandestine', 'airstrip', 'receive', 'drug', 'flight', 'area', 'north', 'capital', 'PortauPrince', 'Moïse', 'order', 'airstrip', 'destroy', 'local', 'authority', 'reportedly', 'refuse', 'accord', 'Times', 'report', 'early', 'year', 'close', 'ally', 'president', 'allegedly', 'order', 'crackdown', 'country', 'eel', 'industry', 'way', 'launder', 'illicit', 'profit', 'Times', 'report', 'say', 'action', 'list', 'supposedly', 'compile', 'broad', 'series', 'clash', 'Moïse', 'powerful', 'political', 'business', 'figure', 'suspect', 'narcotic', 'arm', 'traffic', 'Times', 'report', 'InSight', 'Crime', 'Analysis', 'late', 'reporting', 'add', 'theory', 'possible', 'motive', 'President', 'Moïses', 'assassination', 'antidrug', 'crusade', 'ambitious', 'country', 'play', 'major', 'role', 'regional', 'cocaine', 'trade', 'aside', 'isolated', 'arrest', 'extradition', 'Haiti', 'security', 'force', 'fail', 'capture', 'major', 'drug', 'trafficker', 'powerful', 'elite', 'protect', 'Moïses', 'watch', 'arguably', 'major', 'blow', 'drug', 'trafficking', 'Haiti', 'come', 'arrest', 'Guy', 'Philippe', 'DEA', 'try', 'capture', 'later', 'convict', 'launder', 'drug', 'money', 'United', 'States', 'percent', 'cocaine', 'depart', 'South', 'America', 'transit', 'eastern', 'caribbean', 'corridor', 'Haiti', 'Dominican', 'Republic', 'accord', 'dea', 'National', 'Drug', 'Threat', 'Assessment', 'Haiti', 'neighbor', 'Dominican', 'Republic', 'emerge', 'big', 'player', 'transnational', 'cocaine', 'trade', 'thank', 'role', 'regional', 'hub', 'container', 'ship', 'especially', 'arrive', 'Venezuela', 'Graphic', 'courtesy', 'DEA', 'Drug', 'Threat', 'Assessment', 'sure', 'haitian', 'police', 'seize', 'total', 'kilogram', 'cocaine', 'number', 'rise', 'kilogram', 'accord', 'State', 'Departments', 'International', 'Narcotics', 'Control', 'Strategy', 'Report', 'INCSR', 'say', 'low', 'seizure', 'figure', 'likely', 'indication', 'haitian', 'police', 'woeful', 'antinarcotic', 'operation', 'suggest', 'cocaine', 'pass', 'high', 'notorious', 'drug', 'trafficker', 'like', 'Bedouin', 'Jaques', 'Ketant', 'past', 'rely', 'Haiti', 'transit', 'point', 'large', 'cocaine', 'shipment', 'vast', 'majority', 'cocaine', 'head', 'north', 'depart', 'South', 'America', 'Eastern', 'Pacific', 'route', 'shore', 'Colombia', 'Ecuador', 'drug', 'pass', 'Central', 'America', 'continue', 'Mexico', 'eventually', 'United', 'States', 'addition', 'clandestine', 'airstrip', 'like', 'reportedly', 'target', 'Moïse', 'abound', 'Haiti', 'nation', 'serve', 'major', 'aerial', 'passageway', 'Guatemala', 'Honduras', 'Honduras', 'armed', 'force', 'destroy', 'airstrip', 'year', 'accord', 'local', 'medium', 'report', 'security', 'force', 'uncover', 'airstrip', 'InSight', 'Crime', 'investigator', 'Sergio', 'Saffon', 'contribute', 'report', 'article']\n"
     ]
    }
   ],
   "source": [
    "article_contents = load_article(df[\"Title\"][1])\n",
    "\n",
    "tokens = preprocess_text(article_contents)\n",
    "\n",
    "print(df[\"Tags\"][1])\n",
    "print(tokens)"
   ]
  },
  {
   "cell_type": "markdown",
   "metadata": {},
   "source": [
    "# Data preparation"
   ]
  },
  {
   "cell_type": "markdown",
   "metadata": {},
   "source": [
    "## Define one hot encoding function"
   ]
  },
  {
   "cell_type": "code",
   "execution_count": null,
   "metadata": {},
   "outputs": [],
   "source": [
    "# get unique values from a 2D array of strings\n",
    "def get_unique_value_frequency(df_column):\n",
    "    # create a dictionary to store the unique values\n",
    "    unique_values = {}\n",
    "    # iterate over the column\n",
    "    for value_list in df_column:\n",
    "        # iterate over the values in the list\n",
    "        for value in value_list:\n",
    "            if value not in unique_values:\n",
    "                # if the value is not in the dictionary, add it\n",
    "                unique_values[value] = 1\n",
    "            else:\n",
    "                # if the value is in the dictionary, increment the value\n",
    "                unique_values[value] += 1\n",
    "    # return the dictionary of unique values\n",
    "    return unique_values\n",
    "\n",
    "# check if a list contains a certain word and returns a binary boolean value\n",
    "def list_has_word(l, word):\n",
    "    return word in l and 1 or 0\n",
    "\n",
    "# one hot encode a dataframe's column that contains lists of strings in each value\n",
    "def custom_one_hot_encoding(df, column_name, prefix=None, prefix_sep=\"_\"):\n",
    "    # create a dictionary to store the one hot encoded columns\n",
    "    one_hot_encoded_columns = {}\n",
    "    # get the unique values from the column\n",
    "    unique_values = get_unique_value_frequency(df[column_name])\n",
    "    # iterate over the unique values\n",
    "    for unique_value in unique_values:\n",
    "        # create a clean string of the unique value\n",
    "        clean_unique_value = unique_value.replace(\" \", \"_\")\n",
    "        # create a new column name\n",
    "        new_column_name = prefix and f\"{prefix}{prefix_sep}{clean_unique_value}\" or f\"{column_name}{prefix_sep}{clean_unique_value}\"\n",
    "        # one hot encode the column using the current unique value\n",
    "        ohe_list = df[column_name].apply(lambda l: list_has_word(l, unique_value))\n",
    "        # add the new list to the dictionary\n",
    "        one_hot_encoded_columns[new_column_name] = ohe_list\n",
    "    # return a new dataframe with the one hot encoded columns\n",
    "    return pd.DataFrame(one_hot_encoded_columns)"
   ]
  },
  {
   "cell_type": "markdown",
   "metadata": {},
   "source": [
    "## Execute one hot encoding function"
   ]
  },
  {
   "cell_type": "code",
   "execution_count": null,
   "metadata": {},
   "outputs": [],
   "source": [
    "# one hot encode the tags column of the dataframe\n",
    "ohe_tags_df = custom_one_hot_encoding(df, \"Tags\", \"tag\")\n",
    "# merge the one hot encoded tags dataframe with the main dataframe by index\n",
    "df = df.join(ohe_tags_df)\n",
    "# drop the tags column from the main dataframe\n",
    "print(\"CHANGE THIS LATER!!!!\")\n",
    "# df.drop(columns=[\"Tags\"], inplace=True)\n",
    "# delete the one hot encoded dataframe variable\n",
    "del ohe_tags_df"
   ]
  }
 ],
 "metadata": {
  "interpreter": {
   "hash": "369f2c481f4da34e4445cda3fffd2e751bd1c4d706f27375911949ba6bb62e1c"
  },
  "kernelspec": {
   "display_name": "Python 3.10.2 64-bit",
   "language": "python",
   "name": "python3"
  },
  "language_info": {
   "codemirror_mode": {
    "name": "ipython",
    "version": 3
   },
   "file_extension": ".py",
   "mimetype": "text/x-python",
   "name": "python",
   "nbconvert_exporter": "python",
   "pygments_lexer": "ipython3",
   "version": "3.10.4"
  },
  "orig_nbformat": 4
 },
 "nbformat": 4,
 "nbformat_minor": 2
}
