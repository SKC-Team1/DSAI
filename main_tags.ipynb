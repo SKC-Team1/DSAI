{
 "cells": [
  {
   "cell_type": "markdown",
   "metadata": {},
   "source": [
    "# Import packages"
   ]
  },
  {
   "cell_type": "code",
   "execution_count": null,
   "metadata": {},
   "outputs": [],
   "source": [
    "import os\n",
    "import re\n",
    "import spacy\n",
    "import pandas as pd\n",
    "import matplotlib.pyplot as plt\n",
    "from dotenv import load_dotenv"
   ]
  },
  {
   "cell_type": "markdown",
   "metadata": {},
   "source": [
    "# Load data"
   ]
  },
  {
   "cell_type": "code",
   "execution_count": null,
   "metadata": {},
   "outputs": [],
   "source": [
    "nlp = spacy.load(\"en_core_web_sm\")"
   ]
  },
  {
   "cell_type": "code",
   "execution_count": null,
   "metadata": {},
   "outputs": [],
   "source": [
    "# Load the environment variables\n",
    "load_dotenv()\n",
    "\n",
    "# Get the paths to the data\n",
    "data_dir = os.getenv(\"DATA_DIR\")\n",
    "articles_dir = os.path.join(data_dir, \"articles\")\n",
    "\n",
    "# Load the main dataset\n",
    "df = pd.read_csv(f\"{data_dir}/article_info_V2.csv\", index_col=0, parse_dates=[1])\n",
    "\n",
    "# Load the external dataset\n",
    "external_df = pd.read_csv(f\"{data_dir}/other-articles.csv\", index_col=0, parse_dates=[1], sep=\";\")"
   ]
  },
  {
   "cell_type": "markdown",
   "metadata": {},
   "source": [
    "# Cleaning"
   ]
  },
  {
   "cell_type": "code",
   "execution_count": null,
   "metadata": {},
   "outputs": [],
   "source": [
    "# Drop unused columns\n",
    "df.drop(columns=[\"Author\", \"Type\", \"Keywords\"], inplace=True)\n",
    "\n",
    "# Drop rows with empty date values\n",
    "df.dropna(subset=[\"Date\"], inplace=True)\n",
    "\n",
    "# Reset the index\n",
    "df.reset_index(drop=True, inplace=True)\n",
    "\n",
    "# Remove the url column from the external dataset\n",
    "external_df.drop(columns=[\"Url\"], inplace=True)"
   ]
  },
  {
   "cell_type": "markdown",
   "metadata": {},
   "source": [
    "# Merging datasets"
   ]
  },
  {
   "cell_type": "code",
   "execution_count": null,
   "metadata": {},
   "outputs": [],
   "source": [
    "# Add the external dataset to the main dataset\n",
    "df = pd.concat([df, external_df])\n",
    "\n",
    "# Reset the index\n",
    "df.reset_index(drop=True, inplace=True)\n",
    "\n",
    "# Clear the external dataset variable\n",
    "del external_df"
   ]
  },
  {
   "cell_type": "markdown",
   "metadata": {},
   "source": [
    "# Remove duplicates"
   ]
  },
  {
   "cell_type": "code",
   "execution_count": null,
   "metadata": {},
   "outputs": [],
   "source": [
    "# Count the number of entries before duplicate removal\n",
    "entries_count = len(df)\n",
    "\n",
    "# remove duplicate entries by title and date\n",
    "df.drop_duplicates(subset=[\"Title\", \"Date\"], keep=\"first\", inplace=True)\n",
    "\n",
    "# Drop the date column\n",
    "df.drop(columns=[\"Date\"], inplace=True)\n",
    "\n",
    "# Print the number of deleted entries\n",
    "print(f\"Removed {entries_count - len(df)} duplicate entries.\")\n",
    "\n",
    "# Clear the entries count variable\n",
    "del entries_count"
   ]
  },
  {
   "cell_type": "markdown",
   "metadata": {},
   "source": [
    "# Parse target"
   ]
  },
  {
   "cell_type": "code",
   "execution_count": null,
   "metadata": {},
   "outputs": [],
   "source": [
    "# Define functions to parse target\n",
    "def clean_string(str):\n",
    "    # Make the string lowercase\n",
    "    str = str.lower()\n",
    "    # Remove all non-alphanumeric characters\n",
    "    str = re.sub(r\"[^\\w\\s]\", \"\", str)\n",
    "    # Remove the leading and trailing spaces\n",
    "    return str.strip()\n",
    "\n",
    "def parse_tags(str):\n",
    "    # Split the string on each comma\n",
    "    raw_list = str.split(\",\")\n",
    "    # Clean every string in the list\n",
    "    return list(map(clean_string, raw_list))"
   ]
  },
  {
   "cell_type": "code",
   "execution_count": null,
   "metadata": {},
   "outputs": [],
   "source": [
    "# Convert the raw string values of the Tags column to lists of strings\n",
    "df[\"Tags\"] = df[\"Tags\"].apply(parse_tags)"
   ]
  },
  {
   "cell_type": "code",
   "execution_count": null,
   "metadata": {},
   "outputs": [],
   "source": [
    "# Clear the cleaning and parsing functions\n",
    "del clean_string, parse_tags"
   ]
  },
  {
   "cell_type": "markdown",
   "metadata": {},
   "source": [
    "# Load articles"
   ]
  },
  {
   "cell_type": "code",
   "execution_count": null,
   "metadata": {},
   "outputs": [],
   "source": [
    "# Article loading function\n",
    "def load_article(title):\n",
    "    # Create filename from title\n",
    "    file_name = f\"{title}.txt\"\n",
    "    # Get the path of the article\n",
    "    file_path = os.path.join(articles_dir, file_name)\n",
    "    try:\n",
    "        # Attempt to read the article\n",
    "        file = open(file_path, \"r\", encoding=\"utf-8\")\n",
    "    except:\n",
    "        # If the article could not be read, return None\n",
    "        return None\n",
    "    # Read the contents of the article\n",
    "    contents = file.read()\n",
    "    # Close the file\n",
    "    file.close()\n",
    "    # Return the contents of the article\n",
    "    return contents"
   ]
  },
  {
   "cell_type": "code",
   "execution_count": null,
   "metadata": {},
   "outputs": [],
   "source": [
    "# Load the articles\n",
    "df[\"Contents\"] = df[\"Title\"].apply(load_article)\n",
    "\n",
    "# Clear the article loading function\n",
    "del load_article"
   ]
  },
  {
   "cell_type": "code",
   "execution_count": null,
   "metadata": {},
   "outputs": [],
   "source": [
    "# Count the number of entries in the dataframe\n",
    "entries_count = len(df)\n",
    "\n",
    "# Remove rows without article contents\n",
    "df.dropna(subset=[\"Contents\"], inplace=True)\n",
    "\n",
    "# Reset the index\n",
    "df.reset_index(drop=True, inplace=True)\n",
    "\n",
    "# Print the number of deleted entries\n",
    "print(f\"Removed {entries_count - len(df)} entries without article contents.\")\n",
    "\n",
    "# Clear the entries count variable\n",
    "del entries_count"
   ]
  },
  {
   "cell_type": "markdown",
   "metadata": {},
   "source": [
    "# Create categories from tags"
   ]
  },
  {
   "cell_type": "code",
   "execution_count": null,
   "metadata": {},
   "outputs": [],
   "source": [
    "unique_tags = []\n",
    "for tag_list in df[\"Tags\"]:\n",
    "    for tag in tag_list:\n",
    "        if tag not in unique_tags:\n",
    "            unique_tags.append(tag)"
   ]
  },
  {
   "cell_type": "code",
   "execution_count": null,
   "metadata": {},
   "outputs": [],
   "source": [
    "# Load the custom categories dataset\n",
    "custom_categories = pd.read_csv(f\"{data_dir}/new-categories.csv\")\n",
    "\n",
    "# After receiving feedback from SKC, we decided to drop the following categories:\n",
    "custom_categories.drop(columns=[\"People\", \"Places\", \"Criminal groups\"], inplace=True)\n",
    "\n",
    "# Define a function to parse the custom categories into a list of strings\n",
    "def load_category(name):\n",
    "    try:\n",
    "        return custom_categories[name].dropna().tolist()\n",
    "    except:\n",
    "        return None"
   ]
  },
  {
   "cell_type": "code",
   "execution_count": null,
   "metadata": {},
   "outputs": [],
   "source": [
    "# Initiate the category dictionary\n",
    "categories = {}\n",
    "\n",
    "# Iterate over these custom_categories columns\n",
    "for category_name in custom_categories.columns:\n",
    "    # Load the category\n",
    "    categories[category_name] = load_category(category_name)"
   ]
  },
  {
   "cell_type": "code",
   "execution_count": null,
   "metadata": {},
   "outputs": [],
   "source": [
    "# Create a new column for the category\n",
    "df[\"Category\"] = \"\"\n",
    "\n",
    "# Iterate over the dataframe\n",
    "for index, row in df.iterrows():\n",
    "    # Get the tags of the current row\n",
    "    tag_list = row[\"Tags\"]\n",
    "    # Create a dictionary for the counters of the categories for this article\n",
    "    counters = {}\n",
    "    # Iterate over every tag in the tag list\n",
    "    for tag in tag_list:\n",
    "        # Iterate over the categories\n",
    "        for category_name in categories:\n",
    "            # Get the current category\n",
    "            category = categories[category_name]\n",
    "            # Check if the tag is in the category list\n",
    "            if tag in category:\n",
    "                # If it is, add it to the counters dictionary\n",
    "                if category_name not in counters:\n",
    "                    counters[category_name] = 1\n",
    "                else:\n",
    "                    counters[category_name] += 1    \n",
    "    # Get the category with the highest counter and assign it to the row\n",
    "    if len(counters) == 0:\n",
    "        row[\"Category\"] = \"Other\"\n",
    "    else:\n",
    "        row[\"Category\"] = max(counters, key=counters.get)"
   ]
  },
  {
   "cell_type": "markdown",
   "metadata": {},
   "source": [
    "# Drop the tags column"
   ]
  },
  {
   "cell_type": "code",
   "execution_count": null,
   "metadata": {},
   "outputs": [],
   "source": [
    "df.drop(columns=[\"Tags\"], inplace=True)"
   ]
  },
  {
   "cell_type": "code",
   "execution_count": null,
   "metadata": {},
   "outputs": [],
   "source": [
    "# drop rows with the other category\n",
    "df.drop(df[df[\"Category\"] == \"Other\"].index, inplace=True)"
   ]
  },
  {
   "cell_type": "markdown",
   "metadata": {},
   "source": [
    "# Visualizations"
   ]
  },
  {
   "cell_type": "code",
   "execution_count": null,
   "metadata": {},
   "outputs": [],
   "source": [
    "category_counts = df[\"Category\"].value_counts()\n",
    "plt.figure(figsize=(12, 8))\n",
    "plt.title(\"Category distribution\")\n",
    "plt.ylabel(\"Number of articles\")\n",
    "plt.bar(category_counts.index, category_counts.values)\n",
    "plt.show()"
   ]
  },
  {
   "cell_type": "code",
   "execution_count": null,
   "metadata": {},
   "outputs": [],
   "source": [
    "df.head(10)"
   ]
  },
  {
   "cell_type": "code",
   "execution_count": null,
   "metadata": {},
   "outputs": [],
   "source": [
    "import nltk\n",
    "import unicodedata\n",
    "from nltk.stem import WordNetLemmatizer\n",
    "from nltk.corpus import stopwords\n",
    "\n",
    "nltk.download(\"punkt\")\n",
    "stop_words = set(stopwords.words(\"english\"))\n",
    "lemmatizer = WordNetLemmatizer()\n",
    "\n",
    "def lemmatize_sentences(sentences):\n",
    "    cleaned_sentences = []\n",
    "    for sentence in sentences:\n",
    "        words = nltk.word_tokenize(sentence)\n",
    "        words = [word for word in words if not word.isdigit()]\n",
    "        words = [word for word in words if word not in stop_words]\n",
    "        words = [lemmatizer.lemmatize(word) for word in words]\n",
    "        # Remove words with less than 4 characters\n",
    "        words = [word for word in words if len(word) > 3]\n",
    "        if len(words) > 0:\n",
    "            cleaned_sentences.append(words)\n",
    "    return cleaned_sentences\n",
    "\n",
    "def text_to_sentences(text):\n",
    "    # Make text lowercase\n",
    "    text = text.lower()\n",
    "    # Replace non ascii characters with their ascii counterpart\n",
    "    text = unicodedata.normalize(\"NFKD\", text).encode(\"ascii\", \"ignore\").decode(\"utf-8\", \"ignore\")\n",
    "    # Remove digits from the text\n",
    "    text = re.sub(r\"\\d+\", \"\", text)\n",
    "    # Remove words with non-alphanumeric characters\n",
    "    text = re.sub(r\"[^a-zA-Z0-9]\", \" \", text)\n",
    "    # Remove double whitespace\n",
    "    text = re.sub(r\"\\s+\", \" \", text)\n",
    "    # Split the text into sentences\n",
    "    sentences = nltk.sent_tokenize(text)\n",
    "    # Lemmatize the sentences\n",
    "    sentences = lemmatize_sentences(sentences)\n",
    "    # Remove empty sentences\n",
    "    sentences = list(filter(None, sentences))\n",
    "    # Join the words in sentences together\n",
    "    sentences = list(map(lambda x: \" \".join(x), sentences))\n",
    "    # Return the list of sentences\n",
    "    return sentences\n",
    "\n",
    "df[\"Sentences\"] = df[\"Contents\"].apply(text_to_sentences)"
   ]
  },
  {
   "cell_type": "code",
   "execution_count": null,
   "metadata": {},
   "outputs": [],
   "source": [
    "from sklearn.feature_extraction.text import TfidfVectorizer\n",
    "\n",
    "documents = df[\"Sentences\"].apply(lambda x: \" \".join(x)).tolist()\n",
    "\n",
    "tfidf_vectorizer = TfidfVectorizer()\n",
    "values = tfidf_vectorizer.fit_transform(documents)\n",
    "feature_names = tfidf_vectorizer.get_feature_names_out()"
   ]
  },
  {
   "cell_type": "code",
   "execution_count": null,
   "metadata": {},
   "outputs": [],
   "source": [
    "vector_df = pd.DataFrame(values.toarray(), columns=feature_names)\n",
    "\n",
    "# Check if column has more than 100 values above 0\n",
    "def check_column(column):\n",
    "    count = column.value_counts()[column.value_counts() > 0].count()\n",
    "    return count >= 20\n",
    "\n",
    "columns_to_drop = list(filter(lambda x: not check_column(vector_df[x]), vector_df.columns))\n",
    "\n",
    "# apply check column to all columns and drop it if it doesn't pass the check\n",
    "vector_df.drop(columns=columns_to_drop, inplace=True)"
   ]
  },
  {
   "cell_type": "code",
   "execution_count": null,
   "metadata": {},
   "outputs": [],
   "source": [
    "from sklearn.model_selection import train_test_split\n",
    "from sklearn.metrics import recall_score, precision_score, f1_score, accuracy_score\n",
    "\n",
    "X = vector_df\n",
    "y = pd.get_dummies(df[\"Category\"])\n",
    "\n",
    "X_train, X_test, y_train, y_test = train_test_split(X, y, test_size=0.4)"
   ]
  },
  {
   "cell_type": "code",
   "execution_count": null,
   "metadata": {},
   "outputs": [],
   "source": [
    "def specificity_score(target, predictions):\n",
    "    return 1 - recall_score(target, predictions, average=\"weighted\")\n",
    "\n",
    "def get_metrics(target, predictions):\n",
    "    return {\n",
    "        \"recall\": recall_score(target, predictions, average=\"weighted\"),\n",
    "        \"precision\": precision_score(target, predictions, average=\"weighted\"),\n",
    "        \"accuracy\": accuracy_score(target, predictions),\n",
    "        \"specificity\": specificity_score(target, predictions),\n",
    "        \"f1\": f1_score(target, predictions, average=\"weighted\"),\n",
    "    }\n",
    "\n",
    "def print_metrics(target, predictions):\n",
    "    metrics = get_metrics(target=target, predictions=predictions)\n",
    "    for metric in metrics:\n",
    "        str_metric = \"{:.2f}\".format(metrics[metric] * 100)+\"%\"\n",
    "        print(f\"{metric}: {str_metric}\")"
   ]
  },
  {
   "cell_type": "code",
   "execution_count": null,
   "metadata": {},
   "outputs": [],
   "source": [
    "# import decision tree classifier\n",
    "from sklearn.tree import DecisionTreeClassifier\n",
    "\n",
    "dtc = DecisionTreeClassifier()\n",
    "dtc = dtc.fit(X_train, y_train)\n",
    "y_pred_dtc = dtc.predict(X_test)\n",
    "\n",
    "# Print the metrics of the model's performance\n",
    "print_metrics(y_test, y_pred_dtc)"
   ]
  },
  {
   "cell_type": "code",
   "execution_count": null,
   "metadata": {},
   "outputs": [],
   "source": [
    "# from spacy.matcher import Matcher\n",
    "# matcher = Matcher(nlp.vocab)\n",
    "\n",
    "# # Create a new column called Keywords\n",
    "# df[\"Keywords\"] = \"\"\n",
    "\n",
    "# # Write multiple patterns to find if an article contains cocaine etc.\n",
    "# pattern = [\n",
    "# # Drugs\n",
    "# [{\"LEMMA\": \"drug\"},{\"POS\": \"NOUN\", \"OP\": \"?\"}],\n",
    "# [{\"POS\": \"ADJ\", \"OP\": \"?\"},{\"TEXT\": \"cocaine\"},{\"POS\": \"NOUN\", \"OP\": \"?\"}],\n",
    "# # Environmental crimes\n",
    "# [{\"LEMMA\": \"deforestation\"}],\n",
    "# [{\"LEMMA\": \"environment\"}],\n",
    "# [{\"LEMMA\": \"illegal\"},{\"POS\": \"NOUN\", \"OP\": \"?\"}],\n",
    "# # Violence\n",
    "# [{\"LEMMA\": \"violence\"}],\n",
    "# [{\"TEXT\": \"violent\"},{\"POS\": \"NOUN\", \"OP\": \"?\"}],\n",
    "# [{\"LEMMA\": \"kidnap\"}],\n",
    "# [{\"POS\": \"NOUN\", \"OP\": \"?\"},{\"LEMMA\": \"threat\"}],\n",
    "# [{\"LEMMA\": \"murder\"}],\n",
    "# [{\"LEMMA\": \"shoot\"}],\n",
    "# [{\"TEXT\": \"death\"}],\n",
    "# [{\"TEXT\": \"assassin\"}],\n",
    "# [{\"LEMMA\": \"robbery\"}],\n",
    "# [{\"TEXT\": \"hitman\"}],\n",
    "# [{\"TEXT\": \"dead\"}],\n",
    "# [{\"TEXT\": \"execution\"}],\n",
    "# [{\"POS\": \"NOUN\", \"OP\": \"?\"},{\"LEMMA\": \"killing\"}],\n",
    "# # Weapons\n",
    "# [{\"POS\": \"ADJ\", \"OP\": \"?\"},{\"LEMMA\": \"weapon\"},{\"POS\": \"NOUN\", \"OP\": \"?\"}],\n",
    "# [{\"POS\": \"VERB\", \"OP\": \"?\"},{\"LEMMA\": \"weapon\"}],\n",
    "# [{\"LEMMA\": \"arms\"},{\"POS\": \"NOUN\", \"OP\": \"?\"}],\n",
    "# [{\"LEMMA\": \"gun\"},{\"POS\": \"NOUN\", \"OP\": \"?\"}],\n",
    "# [{\"TEXT\": \"AK-47\"}],\n",
    "# [{\"LEMMA\": \"explosive\"}],\n",
    "# [{\"POS\": \"NOUN\", \"OP\": \"?\"},{\"LEMMA\": \"rifle\"}],\n",
    "# # Trafficking\n",
    "# [{\"POS\": \"ADJ\", \"OP\": \"?\"},{\"LEMMA\": \"human\"},{\"POS\": \"NOUN\", \"OP\": \"?\"}],\n",
    "# [{\"POS\": \"NOUN\", \"OP\":\"?\"},{\"LEMMA\": \"trafficking\"}],\n",
    "# [{\"TEXT\": \"traffickers\"}],\n",
    "# # Money\n",
    "# [{\"POS\": \"ADJ\", \"OP\": \"?\"},{\"LEMMA\": \"laundering\"},{\"POS\": \"NOUN\", \"OP\": \"?\"}],\n",
    "# [{\"TEXT\": \"fraudulent\"}],\n",
    "# [{\"LEMMA\": \"fraude\"}],\n",
    "# [{\"LEMMA\": \"money\"}],\n",
    "# [{\"LEMMA\": \"corruption\"}],\n",
    "# # Other\n",
    "# ]\n",
    "\n",
    "# # Add the pattern to the matcher and \n",
    "# matcher.add(\"DETERMINE CATEGORY\", [pattern][0])\n",
    "\n",
    "# # Set the index of the article content\n",
    "# i = 0\n",
    "# # Loop over all articles contents\n",
    "# for content in df[\"Contents\"][0:10]:\n",
    "#     doc = nlp(content)\n",
    "#     # Apply the matcher to the doc\n",
    "#     matches = matcher(doc)\n",
    "#     # Create an empty array for all keywords per article\n",
    "#     all_generated_keywords = []\n",
    "#     # Iterate over the matches and append them to an array\n",
    "#     for match_id, start, end in matches:\n",
    "#         all_generated_keywords.append(doc[start:end].text)\n",
    "#     # Remove duplicates from array and assign them to variable\n",
    "#     duplicates_removed =  list(dict.fromkeys(all_generated_keywords))\n",
    "#     # Append keywords without duplicates to the Keywords column in the dataframe\n",
    "#     df[\"Keywords\"][i] = duplicates_removed\n",
    "#     # Increase the index of the article content\n",
    "#     i += 1"
   ]
  }
 ],
 "metadata": {
  "interpreter": {
   "hash": "c311e93685c2e1cf6d714a78dda97c5c1b6d9dea95c555422acd5389d6efca5f"
  },
  "kernelspec": {
   "display_name": "Python 3.10.5 ('.env-dir': venv)",
   "language": "python",
   "name": "python3"
  },
  "language_info": {
   "codemirror_mode": {
    "name": "ipython",
    "version": 3
   },
   "file_extension": ".py",
   "mimetype": "text/x-python",
   "name": "python",
   "nbconvert_exporter": "python",
   "pygments_lexer": "ipython3",
   "version": "3.10.5"
  },
  "orig_nbformat": 4,
  "vscode": {
   "interpreter": {
    "hash": "f58898b06f18e36864a817406fc3e65eeebc3856fff6a36ac1cd20b1ae6f51fe"
   }
  }
 },
 "nbformat": 4,
 "nbformat_minor": 2
}
