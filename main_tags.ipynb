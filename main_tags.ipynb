{
 "cells": [
  {
   "cell_type": "markdown",
   "metadata": {},
   "source": [
    "# Import packages"
   ]
  },
  {
   "cell_type": "code",
   "execution_count": 613,
   "metadata": {},
   "outputs": [],
   "source": [
    "import os\n",
    "import re\n",
    "import spacy\n",
    "import pandas as pd\n",
    "import matplotlib.pyplot as plt\n",
    "from dotenv import load_dotenv"
   ]
  },
  {
   "cell_type": "markdown",
   "metadata": {},
   "source": [
    "# Load data"
   ]
  },
  {
   "cell_type": "code",
   "execution_count": 614,
   "metadata": {},
   "outputs": [],
   "source": [
    "nlp = spacy.load(\"en_core_web_lg\")"
   ]
  },
  {
   "cell_type": "code",
   "execution_count": 615,
   "metadata": {},
   "outputs": [],
   "source": [
    "# Load the environment variables\n",
    "load_dotenv()\n",
    "\n",
    "# Get the paths to the data\n",
    "data_dir = os.getenv(\"DATA_DIR\")\n",
    "articles_dir = os.path.join(data_dir, \"articles\")\n",
    "\n",
    "# Load the main dataset\n",
    "df = pd.read_csv(f\"{data_dir}/article_info_V2.csv\", index_col=0, parse_dates=[1])\n",
    "\n",
    "# Load the external dataset\n",
    "external_df = pd.read_csv(f\"{data_dir}/other-articles.csv\", index_col=0, parse_dates=[1], sep=\";\")"
   ]
  },
  {
   "cell_type": "markdown",
   "metadata": {},
   "source": [
    "# Cleaning"
   ]
  },
  {
   "cell_type": "code",
   "execution_count": 616,
   "metadata": {},
   "outputs": [],
   "source": [
    "# Drop unused columns\n",
    "df.drop(columns=[\"Author\", \"Type\", \"Keywords\"], inplace=True)\n",
    "\n",
    "# Drop rows with empty date values\n",
    "df.dropna(subset=[\"Date\"], inplace=True)\n",
    "\n",
    "# Reset the index\n",
    "df.reset_index(drop=True, inplace=True)\n",
    "\n",
    "# Remove the url column from the external dataset\n",
    "external_df.drop(columns=[\"Url\"], inplace=True)"
   ]
  },
  {
   "cell_type": "markdown",
   "metadata": {},
   "source": [
    "# Merging datasets"
   ]
  },
  {
   "cell_type": "code",
   "execution_count": 617,
   "metadata": {},
   "outputs": [],
   "source": [
    "# Add the external dataset to the main dataset\n",
    "df = pd.concat([df, external_df])\n",
    "\n",
    "# Reset the index\n",
    "df.reset_index(drop=True, inplace=True)\n",
    "\n",
    "# Clear the external dataset variable\n",
    "del external_df"
   ]
  },
  {
   "cell_type": "markdown",
   "metadata": {},
   "source": [
    "# Remove duplicates"
   ]
  },
  {
   "cell_type": "code",
   "execution_count": 618,
   "metadata": {},
   "outputs": [
    {
     "name": "stdout",
     "output_type": "stream",
     "text": [
      "Removed 4 duplicate entries.\n"
     ]
    }
   ],
   "source": [
    "# Count the number of entries before duplicate removal\n",
    "entries_count = len(df)\n",
    "\n",
    "# remove duplicate entries by title and date\n",
    "df.drop_duplicates(subset=[\"Title\", \"Date\"], keep=\"first\", inplace=True)\n",
    "\n",
    "# Print the number of deleted entries\n",
    "print(f\"Removed {entries_count - len(df)} duplicate entries.\")\n",
    "\n",
    "# Clear the entries count variable\n",
    "del entries_count"
   ]
  },
  {
   "cell_type": "markdown",
   "metadata": {},
   "source": [
    "# Parse target"
   ]
  },
  {
   "cell_type": "code",
   "execution_count": 619,
   "metadata": {},
   "outputs": [],
   "source": [
    "# Define functions to parse target\n",
    "def clean_string(str):\n",
    "    # Make the string lowercase\n",
    "    str = str.lower()\n",
    "    # Remove all non-alphanumeric characters\n",
    "    str = re.sub(r\"[^\\w\\s]\", \"\", str)\n",
    "    # Remove the leading and trailing spaces\n",
    "    return str.strip()\n",
    "\n",
    "def parse_tags(str):\n",
    "    # Split the string on each comma\n",
    "    raw_list = str.split(\",\")\n",
    "    # Clean every string in the list\n",
    "    return list(map(clean_string, raw_list))"
   ]
  },
  {
   "cell_type": "code",
   "execution_count": 620,
   "metadata": {},
   "outputs": [],
   "source": [
    "# Convert the raw string values of the Tags column to lists of strings\n",
    "df[\"Tags\"] = df[\"Tags\"].apply(parse_tags)"
   ]
  },
  {
   "cell_type": "code",
   "execution_count": 621,
   "metadata": {},
   "outputs": [],
   "source": [
    "# Clear the cleaning and parsing functions\n",
    "del clean_string, parse_tags"
   ]
  },
  {
   "cell_type": "markdown",
   "metadata": {},
   "source": [
    "# Load articles"
   ]
  },
  {
   "cell_type": "code",
   "execution_count": 622,
   "metadata": {},
   "outputs": [],
   "source": [
    "# Article loading function\n",
    "def load_article(title):\n",
    "    # Create filename from title\n",
    "    file_name = f\"{title}.txt\"\n",
    "    # Get the path of the article\n",
    "    file_path = os.path.join(articles_dir, file_name)\n",
    "    try:\n",
    "        # Attempt to read the article\n",
    "        file = open(file_path, \"r\", encoding=\"utf-8\")\n",
    "    except:\n",
    "        # If the article could not be read, return None\n",
    "        return None\n",
    "    # Read the contents of the article\n",
    "    contents = file.read()\n",
    "    # Close the file\n",
    "    file.close()\n",
    "    # Return the contents of the article\n",
    "    return contents"
   ]
  },
  {
   "cell_type": "code",
   "execution_count": 623,
   "metadata": {},
   "outputs": [],
   "source": [
    "# Load the articles\n",
    "df[\"Contents\"] = df[\"Title\"].apply(load_article)\n",
    "\n",
    "# Clear the article loading function\n",
    "del load_article"
   ]
  },
  {
   "cell_type": "code",
   "execution_count": 624,
   "metadata": {},
   "outputs": [
    {
     "name": "stdout",
     "output_type": "stream",
     "text": [
      "Removed 292 entries without article contents.\n"
     ]
    }
   ],
   "source": [
    "# Count the number of entries in the dataframe\n",
    "entries_count = len(df)\n",
    "\n",
    "# Remove rows without article contents\n",
    "df.dropna(subset=[\"Contents\"], inplace=True)\n",
    "\n",
    "# Reset the index\n",
    "df.reset_index(drop=True, inplace=True)\n",
    "\n",
    "# Print the number of deleted entries\n",
    "print(f\"Removed {entries_count - len(df)} entries without article contents.\")\n",
    "\n",
    "# Clear the entries count variable\n",
    "del entries_count"
   ]
  },
  {
   "cell_type": "markdown",
   "metadata": {},
   "source": [
    "# Create categories from tags"
   ]
  },
  {
   "cell_type": "code",
   "execution_count": 625,
   "metadata": {},
   "outputs": [],
   "source": [
    "unique_tags = []\n",
    "for tag_list in df[\"Tags\"]:\n",
    "    for tag in tag_list:\n",
    "        if tag not in unique_tags:\n",
    "            unique_tags.append(tag)"
   ]
  },
  {
   "cell_type": "code",
   "execution_count": 626,
   "metadata": {},
   "outputs": [],
   "source": [
    "# Load the custom categories dataset\n",
    "custom_categories = pd.read_csv(f\"{data_dir}/custom-categories.csv\", sep=\";\")\n",
    "\n",
    "# After receiving feedback from SKC, we decided to drop the following categories:\n",
    "custom_categories.drop(columns=[\"People\", \"Places\", \"Criminal groups\"], inplace=True)\n",
    "\n",
    "# Define a function to parse the custom categories into a list of strings\n",
    "def load_category(name):\n",
    "    try:\n",
    "        return custom_categories[name].dropna().tolist()\n",
    "    except:\n",
    "        return None"
   ]
  },
  {
   "cell_type": "code",
   "execution_count": 627,
   "metadata": {},
   "outputs": [],
   "source": [
    "# Initiate the category dictionary\n",
    "categories = {}\n",
    "\n",
    "# Iterate over these custom_categories columns\n",
    "for category_name in custom_categories.columns:\n",
    "    # Load the category\n",
    "    categories[category_name] = load_category(category_name)"
   ]
  },
  {
   "cell_type": "code",
   "execution_count": 628,
   "metadata": {},
   "outputs": [],
   "source": [
    "# Create a new column for the category\n",
    "df[\"Category\"] = \"\"\n",
    "\n",
    "# Iterate over the dataframe\n",
    "for index, row in df.iterrows():\n",
    "    # Get the tags of the current row\n",
    "    tag_list = row[\"Tags\"]\n",
    "    # Create a dictionary for the counters of the categories for this article\n",
    "    counters = {}\n",
    "    # Iterate over every tag in the tag list\n",
    "    for tag in tag_list:\n",
    "        # Iterate over the categories\n",
    "        for category_name in categories:\n",
    "            # Get the current category\n",
    "            category = categories[category_name]\n",
    "            # Check if the tag is in the category list\n",
    "            if tag in category:\n",
    "                # If it is, add it to the counters dictionary\n",
    "                if category_name not in counters:\n",
    "                    counters[category_name] = 1\n",
    "                else:\n",
    "                    counters[category_name] += 1    \n",
    "    # Get the category with the highest counter and assign it to the row\n",
    "    if len(counters) == 0:\n",
    "        row[\"Category\"] = \"Other\"\n",
    "    else:\n",
    "        row[\"Category\"] = max(counters, key=counters.get)"
   ]
  },
  {
   "cell_type": "code",
   "execution_count": 629,
   "metadata": {},
   "outputs": [],
   "source": [
    "categories = df[\"Category\"].value_counts()"
   ]
  },
  {
   "cell_type": "code",
   "execution_count": 630,
   "metadata": {},
   "outputs": [
    {
     "data": {
      "image/png": "[encoded data removed]",
      "text/plain": [
       "<Figure size 864x576 with 1 Axes>"
      ]
     },
     "metadata": {
      "needs_background": "light"
     },
     "output_type": "display_data"
    }
   ],
   "source": [
    "plt.figure(figsize=(12, 8))\n",
    "plt.title(\"Category distribution\")\n",
    "plt.ylabel(\"Number of articles\")\n",
    "plt.bar(categories.index, categories.values)\n",
    "plt.show()"
   ]
  },
  {
   "cell_type": "code",
   "execution_count": 631,
   "metadata": {},
   "outputs": [
    {
     "data": {
      "text/html": [
       "<div>\n",
       "<style scoped>\n",
       "    .dataframe tbody tr th:only-of-type {\n",
       "        vertical-align: middle;\n",
       "    }\n",
       "\n",
       "    .dataframe tbody tr th {\n",
       "        vertical-align: top;\n",
       "    }\n",
       "\n",
       "    .dataframe thead th {\n",
       "        text-align: right;\n",
       "    }\n",
       "</style>\n",
       "<table border=\"1\" class=\"dataframe\">\n",
       "  <thead>\n",
       "    <tr style=\"text-align: right;\">\n",
       "      <th></th>\n",
       "      <th>Date</th>\n",
       "      <th>Title</th>\n",
       "      <th>Tags</th>\n",
       "      <th>Contents</th>\n",
       "      <th>Category</th>\n",
       "    </tr>\n",
       "  </thead>\n",
       "  <tbody>\n",
       "    <tr>\n",
       "      <th>0</th>\n",
       "      <td>2021-12-14 19:13:22+00:00</td>\n",
       "      <td>Did Anti-Drug Crusade Lead to Haiti President'...</td>\n",
       "      <td>[contraband, zetas, haiti, cocaine, el salvado...</td>\n",
       "      <td>An explosive new report suggests that the high...</td>\n",
       "      <td>Drugs</td>\n",
       "    </tr>\n",
       "    <tr>\n",
       "      <th>1</th>\n",
       "      <td>2021-12-14 14:18:15+00:00</td>\n",
       "      <td>Colombian Prosecutors Dismiss Memo Fantasma Li...</td>\n",
       "      <td>[invisibles, while scrambling to save himself ...</td>\n",
       "      <td>Prosecutors in Colombia have dismissed a crimi...</td>\n",
       "      <td>Other</td>\n",
       "    </tr>\n",
       "    <tr>\n",
       "      <th>2</th>\n",
       "      <td>2021-12-13 19:36:23+00:00</td>\n",
       "      <td>Could US Anti-Violence Models Work in Latin Am...</td>\n",
       "      <td>[chepe luna, mexico, security policy, while sc...</td>\n",
       "      <td>Efforts to reduce gang violence are often thou...</td>\n",
       "      <td>Other</td>\n",
       "    </tr>\n",
       "    <tr>\n",
       "      <th>3</th>\n",
       "      <td>2021-12-13 14:27:23+00:00</td>\n",
       "      <td>How Mexican Cartels Settled in Canada</td>\n",
       "      <td>[brazil, el paisa, guatemala personalities, me...</td>\n",
       "      <td>The story of the Mexican cartels and their inf...</td>\n",
       "      <td>Drugs</td>\n",
       "    </tr>\n",
       "    <tr>\n",
       "      <th>4</th>\n",
       "      <td>2021-12-10 19:11:18+00:00</td>\n",
       "      <td>Haiti Gangs Profit from Targeting Religious Gr...</td>\n",
       "      <td>[nicaragua, oficina de envigado, caribbean, lo...</td>\n",
       "      <td>Religious groups are among the final instituti...</td>\n",
       "      <td>Other</td>\n",
       "    </tr>\n",
       "    <tr>\n",
       "      <th>5</th>\n",
       "      <td>2021-12-10 13:29:09+00:00</td>\n",
       "      <td>Peru's Anti-Corruption Crusade Grows Weaker</td>\n",
       "      <td>[peru, brazil, colombia groups, sebastian pais...</td>\n",
       "      <td>Authorities in Peru have dismantled a complex ...</td>\n",
       "      <td>Other</td>\n",
       "    </tr>\n",
       "    <tr>\n",
       "      <th>6</th>\n",
       "      <td>2021-12-09 13:26:52+00:00</td>\n",
       "      <td>US Blacklists El Salvador Officials, Bolsterin...</td>\n",
       "      <td>[el chayo, amigos dos amigos, el salvador, usa...</td>\n",
       "      <td>In what appears to be a shot at El Salvador Pr...</td>\n",
       "      <td>Other</td>\n",
       "    </tr>\n",
       "    <tr>\n",
       "      <th>7</th>\n",
       "      <td>2021-12-08 19:30:00+00:00</td>\n",
       "      <td>Laborers from Mexico, Central America Exploite...</td>\n",
       "      <td>[el salvador groups, contraband, mexico, valen...</td>\n",
       "      <td>A transnational labor trafficking network brou...</td>\n",
       "      <td>Drugs</td>\n",
       "    </tr>\n",
       "    <tr>\n",
       "      <th>8</th>\n",
       "      <td>2021-12-08 13:30:04+00:00</td>\n",
       "      <td>FARC Dissidents First to be Charged Under New ...</td>\n",
       "      <td>[farc, environmental crime, el barney, exfarc ...</td>\n",
       "      <td>Colombia is rolling out a new strategy to figh...</td>\n",
       "      <td>Environmental crimes</td>\n",
       "    </tr>\n",
       "    <tr>\n",
       "      <th>9</th>\n",
       "      <td>2021-12-07 22:30:00+00:00</td>\n",
       "      <td>Daring Prison Break Shows Ongoing Influence of...</td>\n",
       "      <td>[brazil, fuel theft, mexico, pccbolivia, domin...</td>\n",
       "      <td>Oil theft gangs continue to be a dominant crim...</td>\n",
       "      <td>Environmental crimes</td>\n",
       "    </tr>\n",
       "  </tbody>\n",
       "</table>\n",
       "</div>"
      ],
      "text/plain": [
       "                        Date  \\\n",
       "0  2021-12-14 19:13:22+00:00   \n",
       "1  2021-12-14 14:18:15+00:00   \n",
       "2  2021-12-13 19:36:23+00:00   \n",
       "3  2021-12-13 14:27:23+00:00   \n",
       "4  2021-12-10 19:11:18+00:00   \n",
       "5  2021-12-10 13:29:09+00:00   \n",
       "6  2021-12-09 13:26:52+00:00   \n",
       "7  2021-12-08 19:30:00+00:00   \n",
       "8  2021-12-08 13:30:04+00:00   \n",
       "9  2021-12-07 22:30:00+00:00   \n",
       "\n",
       "                                               Title  \\\n",
       "0  Did Anti-Drug Crusade Lead to Haiti President'...   \n",
       "1  Colombian Prosecutors Dismiss Memo Fantasma Li...   \n",
       "2  Could US Anti-Violence Models Work in Latin Am...   \n",
       "3              How Mexican Cartels Settled in Canada   \n",
       "4  Haiti Gangs Profit from Targeting Religious Gr...   \n",
       "5        Peru's Anti-Corruption Crusade Grows Weaker   \n",
       "6  US Blacklists El Salvador Officials, Bolsterin...   \n",
       "7  Laborers from Mexico, Central America Exploite...   \n",
       "8  FARC Dissidents First to be Charged Under New ...   \n",
       "9  Daring Prison Break Shows Ongoing Influence of...   \n",
       "\n",
       "                                                Tags  \\\n",
       "0  [contraband, zetas, haiti, cocaine, el salvado...   \n",
       "1  [invisibles, while scrambling to save himself ...   \n",
       "2  [chepe luna, mexico, security policy, while sc...   \n",
       "3  [brazil, el paisa, guatemala personalities, me...   \n",
       "4  [nicaragua, oficina de envigado, caribbean, lo...   \n",
       "5  [peru, brazil, colombia groups, sebastian pais...   \n",
       "6  [el chayo, amigos dos amigos, el salvador, usa...   \n",
       "7  [el salvador groups, contraband, mexico, valen...   \n",
       "8  [farc, environmental crime, el barney, exfarc ...   \n",
       "9  [brazil, fuel theft, mexico, pccbolivia, domin...   \n",
       "\n",
       "                                            Contents              Category  \n",
       "0  An explosive new report suggests that the high...                 Drugs  \n",
       "1  Prosecutors in Colombia have dismissed a crimi...                 Other  \n",
       "2  Efforts to reduce gang violence are often thou...                 Other  \n",
       "3  The story of the Mexican cartels and their inf...                 Drugs  \n",
       "4  Religious groups are among the final instituti...                 Other  \n",
       "5  Authorities in Peru have dismantled a complex ...                 Other  \n",
       "6  In what appears to be a shot at El Salvador Pr...                 Other  \n",
       "7  A transnational labor trafficking network brou...                 Drugs  \n",
       "8  Colombia is rolling out a new strategy to figh...  Environmental crimes  \n",
       "9  Oil theft gangs continue to be a dominant crim...  Environmental crimes  "
      ]
     },
     "execution_count": 631,
     "metadata": {},
     "output_type": "execute_result"
    }
   ],
   "source": [
    "df.head(10)"
   ]
  },
  {
   "cell_type": "code",
   "execution_count": 715,
   "metadata": {},
   "outputs": [
    {
     "data": {
      "text/html": [
       "<div>\n",
       "<style scoped>\n",
       "    .dataframe tbody tr th:only-of-type {\n",
       "        vertical-align: middle;\n",
       "    }\n",
       "\n",
       "    .dataframe tbody tr th {\n",
       "        vertical-align: top;\n",
       "    }\n",
       "\n",
       "    .dataframe thead th {\n",
       "        text-align: right;\n",
       "    }\n",
       "</style>\n",
       "<table border=\"1\" class=\"dataframe\">\n",
       "  <thead>\n",
       "    <tr style=\"text-align: right;\">\n",
       "      <th></th>\n",
       "      <th>Date</th>\n",
       "      <th>Title</th>\n",
       "      <th>Tags</th>\n",
       "      <th>Contents</th>\n",
       "      <th>Category</th>\n",
       "    </tr>\n",
       "  </thead>\n",
       "  <tbody>\n",
       "    <tr>\n",
       "      <th>32</th>\n",
       "      <td>2021-11-11 15:33:22+00:00</td>\n",
       "      <td>Extradition of Mexico Governor Highlights Catt...</td>\n",
       "      <td>[chepe luna, el chayo, mexico, usmexico border...</td>\n",
       "      <td>The disgraced former governor of Chihuahua, Cé...</td>\n",
       "      <td>Money</td>\n",
       "    </tr>\n",
       "    <tr>\n",
       "      <th>58</th>\n",
       "      <td>2021-10-22 11:24:13+00:00</td>\n",
       "      <td>Indictment of Saab Partners Details Vast Venez...</td>\n",
       "      <td>[mexico, perfiles geográficos, money launderin...</td>\n",
       "      <td>Business partners of Álex Saab – an accused mo...</td>\n",
       "      <td>Money</td>\n",
       "    </tr>\n",
       "    <tr>\n",
       "      <th>103</th>\n",
       "      <td>2021-09-13 18:04:40+00:00</td>\n",
       "      <td>Is Dominican Republic Making Gains in Anti-Cor...</td>\n",
       "      <td>[caribbean, while scrambling to save himself f...</td>\n",
       "      <td>The dismantling of a drug trafficking and mone...</td>\n",
       "      <td>Money</td>\n",
       "    </tr>\n",
       "    <tr>\n",
       "      <th>104</th>\n",
       "      <td>2021-09-13 13:25:34+00:00</td>\n",
       "      <td>Costa Rica Struggles to Profit from Sale of Na...</td>\n",
       "      <td>[brazil, alex saab, argentina, don berna, el s...</td>\n",
       "      <td>In Costa Rica, the seizure of narco-assets pre...</td>\n",
       "      <td>Money</td>\n",
       "    </tr>\n",
       "    <tr>\n",
       "      <th>110</th>\n",
       "      <td>2021-09-08 02:43:45+00:00</td>\n",
       "      <td>Álex Saab, Venezuela’s Keeper of Financial Sec...</td>\n",
       "      <td>[brazil, belize, z42, money laundering, venezu...</td>\n",
       "      <td>A court in Cabo Verde has approved the extradi...</td>\n",
       "      <td>Money</td>\n",
       "    </tr>\n",
       "    <tr>\n",
       "      <th>...</th>\n",
       "      <td>...</td>\n",
       "      <td>...</td>\n",
       "      <td>...</td>\n",
       "      <td>...</td>\n",
       "      <td>...</td>\n",
       "    </tr>\n",
       "    <tr>\n",
       "      <th>9872</th>\n",
       "      <td>2010-11-01 20:28:19+00:00</td>\n",
       "      <td>Top FARC Leader 'Mono Jojoy' Dead</td>\n",
       "      <td>[did one last tour of his prime refuge, mono j...</td>\n",
       "      <td>In what President Juan Manuel Santos called th...</td>\n",
       "      <td>Money</td>\n",
       "    </tr>\n",
       "    <tr>\n",
       "      <th>9879</th>\n",
       "      <td>2010-11-01 19:12:03+00:00</td>\n",
       "      <td>Bolivia Cocaine Represents Up to 3 pc of GDP</td>\n",
       "      <td>[gentil duarte, peru personalities, counterfei...</td>\n",
       "      <td>Echoing a statistic published three months ago...</td>\n",
       "      <td>Money</td>\n",
       "    </tr>\n",
       "    <tr>\n",
       "      <th>9884</th>\n",
       "      <td>2010-11-01 12:40:35+00:00</td>\n",
       "      <td>37 Dead from Guerrilla Attacks in September</td>\n",
       "      <td>[brazil, chile, eln, mono jojoy, counterfeit, ...</td>\n",
       "      <td>September has been one of the bloodiest months...</td>\n",
       "      <td>Money</td>\n",
       "    </tr>\n",
       "    <tr>\n",
       "      <th>9892</th>\n",
       "      <td>2010-11-01 00:55:36+00:00</td>\n",
       "      <td>5 Peasants Killed in Border Area</td>\n",
       "      <td>[pgc, counterfeit, el ingeniero tijuana, knigh...</td>\n",
       "      <td>Five “peasant farmers” were killed and two mor...</td>\n",
       "      <td>Money</td>\n",
       "    </tr>\n",
       "    <tr>\n",
       "      <th>9900</th>\n",
       "      <td>2010-11-01 00:34:37+00:00</td>\n",
       "      <td>Panama to Set Up Another Airbase</td>\n",
       "      <td>[money laundering, colombia, panama, amauri ca...</td>\n",
       "      <td>Panamanian authorities announced the construct...</td>\n",
       "      <td>Money</td>\n",
       "    </tr>\n",
       "  </tbody>\n",
       "</table>\n",
       "<p>409 rows × 5 columns</p>\n",
       "</div>"
      ],
      "text/plain": [
       "                           Date  \\\n",
       "32    2021-11-11 15:33:22+00:00   \n",
       "58    2021-10-22 11:24:13+00:00   \n",
       "103   2021-09-13 18:04:40+00:00   \n",
       "104   2021-09-13 13:25:34+00:00   \n",
       "110   2021-09-08 02:43:45+00:00   \n",
       "...                         ...   \n",
       "9872  2010-11-01 20:28:19+00:00   \n",
       "9879  2010-11-01 19:12:03+00:00   \n",
       "9884  2010-11-01 12:40:35+00:00   \n",
       "9892  2010-11-01 00:55:36+00:00   \n",
       "9900  2010-11-01 00:34:37+00:00   \n",
       "\n",
       "                                                  Title  \\\n",
       "32    Extradition of Mexico Governor Highlights Catt...   \n",
       "58    Indictment of Saab Partners Details Vast Venez...   \n",
       "103   Is Dominican Republic Making Gains in Anti-Cor...   \n",
       "104   Costa Rica Struggles to Profit from Sale of Na...   \n",
       "110   Álex Saab, Venezuela’s Keeper of Financial Sec...   \n",
       "...                                                 ...   \n",
       "9872                  Top FARC Leader 'Mono Jojoy' Dead   \n",
       "9879       Bolivia Cocaine Represents Up to 3 pc of GDP   \n",
       "9884        37 Dead from Guerrilla Attacks in September   \n",
       "9892                   5 Peasants Killed in Border Area   \n",
       "9900                   Panama to Set Up Another Airbase   \n",
       "\n",
       "                                                   Tags  \\\n",
       "32    [chepe luna, el chayo, mexico, usmexico border...   \n",
       "58    [mexico, perfiles geográficos, money launderin...   \n",
       "103   [caribbean, while scrambling to save himself f...   \n",
       "104   [brazil, alex saab, argentina, don berna, el s...   \n",
       "110   [brazil, belize, z42, money laundering, venezu...   \n",
       "...                                                 ...   \n",
       "9872  [did one last tour of his prime refuge, mono j...   \n",
       "9879  [gentil duarte, peru personalities, counterfei...   \n",
       "9884  [brazil, chile, eln, mono jojoy, counterfeit, ...   \n",
       "9892  [pgc, counterfeit, el ingeniero tijuana, knigh...   \n",
       "9900  [money laundering, colombia, panama, amauri ca...   \n",
       "\n",
       "                                               Contents Category  \n",
       "32    The disgraced former governor of Chihuahua, Cé...    Money  \n",
       "58    Business partners of Álex Saab – an accused mo...    Money  \n",
       "103   The dismantling of a drug trafficking and mone...    Money  \n",
       "104   In Costa Rica, the seizure of narco-assets pre...    Money  \n",
       "110   A court in Cabo Verde has approved the extradi...    Money  \n",
       "...                                                 ...      ...  \n",
       "9872  In what President Juan Manuel Santos called th...    Money  \n",
       "9879  Echoing a statistic published three months ago...    Money  \n",
       "9884  September has been one of the bloodiest months...    Money  \n",
       "9892  Five “peasant farmers” were killed and two mor...    Money  \n",
       "9900  Panamanian authorities announced the construct...    Money  \n",
       "\n",
       "[409 rows x 5 columns]"
      ]
     },
     "execution_count": 715,
     "metadata": {},
     "output_type": "execute_result"
    }
   ],
   "source": [
    "px = df.loc[df['Category'].isin([\"Money\"])]\n",
    "px"
   ]
  },
  {
   "cell_type": "code",
   "execution_count": 730,
   "metadata": {},
   "outputs": [
    {
     "name": "stdout",
     "output_type": "stream",
     "text": [
      "Total matches found: 56\n",
      "Match found: explosive\n",
      "Match found: drug\n",
      "Match found: drug trafficking\n",
      "Match found: trafficking\n",
      "Match found: killing\n",
      "Match found: shot\n",
      "Match found: dead\n",
      "Match found: drug\n",
      "Match found: drug officials\n",
      "Match found: drug\n",
      "Match found: drug trafficking\n",
      "Match found: trafficking\n",
      "Match found: corruption\n",
      "Match found: cocaine\n",
      "Match found: drug\n",
      "Match found: drug trafficking\n",
      "Match found: trafficking\n",
      "Match found: murder\n",
      "Match found: drug\n",
      "Match found: drug trafficking\n",
      "Match found: trafficking\n",
      "Match found: drug\n",
      "Match found: drug flights\n",
      "Match found: arms trafficking\n",
      "Match found: trafficking\n",
      "Match found: drug\n",
      "Match found: drug crusade\n",
      "Match found: regional cocaine\n",
      "Match found: regional cocaine trade\n",
      "Match found: cocaine\n",
      "Match found: cocaine trade\n",
      "Match found: drug\n",
      "Match found: drug traffickers\n",
      "Match found: traffickers\n",
      "Match found: drug\n",
      "Match found: drug trafficking\n",
      "Match found: trafficking\n",
      "Match found: drug\n",
      "Match found: drug money\n",
      "Match found: money\n",
      "Match found: cocaine\n",
      "Match found: transnational cocaine\n",
      "Match found: transnational cocaine trade\n",
      "Match found: cocaine\n",
      "Match found: cocaine trade\n",
      "Match found: cocaine\n",
      "Match found: cocaine\n",
      "Match found: drug\n",
      "Match found: drug traffickers\n",
      "Match found: traffickers\n",
      "Match found: large cocaine\n",
      "Match found: large cocaine shipments\n",
      "Match found: cocaine\n",
      "Match found: cocaine shipments\n",
      "Match found: cocaine\n",
      "Match found: drugs\n"
     ]
    }
   ],
   "source": [
    "from spacy.matcher import Matcher\n",
    "matcher = Matcher(nlp.vocab)\n",
    "\n",
    "doc = nlp(df['Contents'][(0)])\n",
    "\n",
    "# Write multiple patterns to find if an article contains cocaine etc.\n",
    "pattern = [\n",
    "# drugs\n",
    "[{\"LEMMA\": \"drug\"},{\"POS\": \"NOUN\", \"OP\": \"?\"}],\n",
    "[{\"POS\": \"ADJ\", \"OP\": \"?\"},{\"TEXT\": \"cocaine\"},{\"POS\": \"NOUN\", \"OP\": \"?\"}],\n",
    "# environmental crimes\n",
    "[{\"LEMMA\": \"deforestation\"}],\n",
    "[{\"LEMMA\": \"environment\"}],\n",
    "[{\"LEMMA\": \"illegal\"},{\"POS\": \"NOUN\", \"OP\": \"?\"}],\n",
    "# violence\n",
    "[{\"LEMMA\": \"violence\"}],\n",
    "[{\"TEXT\": \"violent\"},{\"POS\": \"NOUN\", \"OP\": \"?\"}],\n",
    "[{\"LEMMA\": \"kidnap\"}],\n",
    "[{\"POS\": \"NOUN\", \"OP\": \"?\"},{\"LEMMA\": \"threat\"}],\n",
    "[{\"LEMMA\": \"murder\"}],\n",
    "[{\"LEMMA\": \"shoot\"}],\n",
    "[{\"TEXT\": \"death\"}],\n",
    "[{\"TEXT\": \"assassin\"}],\n",
    "[{\"LEMMA\": \"robbery\"}],\n",
    "[{\"TEXT\": \"hitman\"}],\n",
    "[{\"TEXT\": \"dead\"}],\n",
    "[{\"TEXT\": \"execution\"}],\n",
    "[{\"POS\": \"NOUN\", \"OP\": \"?\"},{\"LEMMA\": \"killing\"}],\n",
    "# weapons\n",
    "[{\"POS\": \"ADJ\", \"OP\": \"?\"},{\"LEMMA\": \"weapon\"},{\"POS\": \"NOUN\", \"OP\": \"?\"}],\n",
    "[{\"POS\": \"VERB\", \"OP\": \"?\"},{\"LEMMA\": \"weapon\"}],\n",
    "[{\"LEMMA\": \"arms\"},{\"POS\": \"NOUN\", \"OP\": \"?\"}],\n",
    "[{\"LEMMA\": \"gun\"},{\"POS\": \"NOUN\", \"OP\": \"?\"}],\n",
    "[{\"TEXT\": \"AK-47\"}],\n",
    "[{\"LEMMA\": \"explosive\"}],\n",
    "[{\"POS\": \"NOUN\", \"OP\": \"?\"},{\"LEMMA\": \"rifle\"}],\n",
    "# trafficking\n",
    "[{\"POS\": \"ADJ\", \"OP\": \"?\"},{\"LEMMA\": \"human\"},{\"POS\": \"NOUN\", \"OP\": \"?\"}],\n",
    "[{\"POS\": \"NOUN\", \"OP\":\"?\"},{\"LEMMA\": \"trafficking\"}],\n",
    "[{\"TEXT\": \"traffickers\"}],\n",
    "# money\n",
    "[{\"POS\": \"ADJ\", \"OP\": \"?\"},{\"LEMMA\": \"laundering\"},{\"POS\": \"NOUN\", \"OP\": \"?\"}],\n",
    "[{\"TEXT\": \"fraudulent\"}],\n",
    "[{\"LEMMA\": \"fraude\"}],\n",
    "[{\"LEMMA\": \"money\"}],\n",
    "[{\"LEMMA\": \"corruption\"}],\n",
    "#other\n",
    "]\n",
    "\n",
    "# Add the pattern to the matcher and apply the matcher to the doc\n",
    "matcher.add(\"DETERMINE CATEGORY\", [pattern][0])\n",
    "matches = matcher(doc)\n",
    "print(\"Total matches found:\", len(matches))\n",
    "\n",
    "# Iterate over the matches and print the span text\n",
    "for match_id, start, end in matches:\n",
    "    print(\"Match found:\", doc[start:end].text)"
   ]
  },
  {
   "cell_type": "code",
   "execution_count": 728,
   "metadata": {},
   "outputs": [
    {
     "data": {
      "text/plain": [
       "Panamanian authorities announced the construction of the fifth air station in the Veraguas province, along the Belén river, some 110 miles to the west of the capital city, the EFE agency reported . The government’s top anti-drug official, José Raúl Mulino, also said that authorities in that country had captured 71 tons of cocaine between July 2009 and August 2010, what he called “industrial-sized” quantities. The government hopes, he said, to have a dozen air and navel bases to control the passage of drugs through their waters, airspace and land."
      ]
     },
     "execution_count": 728,
     "metadata": {},
     "output_type": "execute_result"
    }
   ],
   "source": [
    "doc"
   ]
  },
  {
   "cell_type": "code",
   "execution_count": 729,
   "metadata": {},
   "outputs": [
    {
     "data": {
      "text/plain": [
       "'panamanian authority announce the construction of the fifth air station in the Veraguas province , along the Belén river , some 110 mile to the west of the capital city , the EFE agency report . the government ’s top anti - drug official , José Raúl Mulino , also say that authority in that country have capture 71 ton of cocaine between July 2009 and August 2010 , what he call \" industrial - sized \" quantity . the government hope , he say , to have a dozen air and navel basis to control the passage of drug through their water , airspace and land .'"
      ]
     },
     "execution_count": 729,
     "metadata": {},
     "output_type": "execute_result"
    }
   ],
   "source": [
    "\" \".join([token.lemma_ for token in doc])"
   ]
  }
 ],
 "metadata": {
  "interpreter": {
   "hash": "c311e93685c2e1cf6d714a78dda97c5c1b6d9dea95c555422acd5389d6efca5f"
  },
  "kernelspec": {
   "display_name": "Python 3.10.5 ('.env-dir': venv)",
   "language": "python",
   "name": "python3"
  },
  "language_info": {
   "codemirror_mode": {
    "name": "ipython",
    "version": 3
   },
   "file_extension": ".py",
   "mimetype": "text/x-python",
   "name": "python",
   "nbconvert_exporter": "python",
   "pygments_lexer": "ipython3",
   "version": "3.10.5"
  },
  "orig_nbformat": 4
 },
 "nbformat": 4,
 "nbformat_minor": 2
}
