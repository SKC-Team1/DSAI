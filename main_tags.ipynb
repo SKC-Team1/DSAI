{
 "cells": [
  {
   "cell_type": "markdown",
   "metadata": {},
   "source": [
    "# Import packages"
   ]
  },
  {
   "cell_type": "code",
   "execution_count": null,
   "metadata": {},
   "outputs": [],
   "source": [
    "import os\n",
    "import re\n",
    "import spacy\n",
    "import pandas as pd\n",
    "from dotenv import load_dotenv"
   ]
  },
  {
   "cell_type": "markdown",
   "metadata": {},
   "source": [
    "# Load data"
   ]
  },
  {
   "cell_type": "code",
   "execution_count": null,
   "metadata": {},
   "outputs": [],
   "source": [
    "nlp = spacy.load(\"en_core_web_sm\")"
   ]
  },
  {
   "cell_type": "code",
   "execution_count": null,
   "metadata": {},
   "outputs": [],
   "source": [
    "# Load the environment variables\n",
    "load_dotenv()\n",
    "\n",
    "# Get the paths to the data\n",
    "data_dir = os.getenv(\"DATA_DIR\")\n",
    "articles_dir = os.path.join(data_dir, \"articles\")\n",
    "\n",
    "# Load the main dataset\n",
    "df = pd.read_csv(f\"{data_dir}/article_info_V2.csv\", index_col=0, parse_dates=[1])\n",
    "\n",
    "# Load the external dataset\n",
    "external_df = pd.read_csv(f\"{data_dir}/other-articles.csv\", index_col=0, parse_dates=[1], sep=\";\")"
   ]
  },
  {
   "cell_type": "markdown",
   "metadata": {},
   "source": [
    "# Cleaning"
   ]
  },
  {
   "cell_type": "code",
   "execution_count": null,
   "metadata": {},
   "outputs": [],
   "source": [
    "# Drop unused columns\n",
    "df.drop(columns=[\"Author\", \"Type\", \"Keywords\"], inplace=True)\n",
    "\n",
    "# Drop rows with empty date values\n",
    "df.dropna(subset=[\"Date\"], inplace=True)\n",
    "\n",
    "# Reset the index\n",
    "df.reset_index(drop=True, inplace=True)\n",
    "\n",
    "# Remove the url column from the external dataset\n",
    "external_df.drop(columns=[\"Url\"], inplace=True)"
   ]
  },
  {
   "cell_type": "markdown",
   "metadata": {},
   "source": [
    "# Merging datasets"
   ]
  },
  {
   "cell_type": "code",
   "execution_count": null,
   "metadata": {},
   "outputs": [],
   "source": [
    "# Add the external dataset to the main dataset\n",
    "df = pd.concat([df, external_df])\n",
    "\n",
    "# Reset the index\n",
    "df.reset_index(drop=True, inplace=True)\n",
    "\n",
    "# Clear the external dataset variable\n",
    "del external_df"
   ]
  },
  {
   "cell_type": "markdown",
   "metadata": {},
   "source": [
    "# Remove duplicates"
   ]
  },
  {
   "cell_type": "code",
   "execution_count": null,
   "metadata": {},
   "outputs": [],
   "source": [
    "# Count the number of entries before duplicate removal\n",
    "entries_count = len(df)\n",
    "\n",
    "# remove duplicate entries by title and date\n",
    "df.drop_duplicates(subset=[\"Title\", \"Date\"], keep=\"first\", inplace=True)\n",
    "\n",
    "# Print the number of deleted entries\n",
    "print(f\"Removed {entries_count - len(df)} duplicate entries.\")\n",
    "\n",
    "# Clear the entries count variable\n",
    "del entries_count"
   ]
  },
  {
   "cell_type": "markdown",
   "metadata": {},
   "source": [
    "# Parse target"
   ]
  },
  {
   "cell_type": "code",
   "execution_count": null,
   "metadata": {},
   "outputs": [],
   "source": [
    "# Define functions to parse target\n",
    "def clean_string(str):\n",
    "    # Make the string lowercase\n",
    "    str = str.lower()\n",
    "    # Remove all non-alphanumeric characters\n",
    "    str = re.sub(r\"[^\\w\\s]\", \"\", str)\n",
    "    # Remove the leading and trailing spaces\n",
    "    return str.strip()\n",
    "\n",
    "def parse_tags(str):\n",
    "    # Split the string on each comma\n",
    "    raw_list = str.split(\",\")\n",
    "    # Clean every string in the list\n",
    "    return list(map(clean_string, raw_list))"
   ]
  },
  {
   "cell_type": "code",
   "execution_count": null,
   "metadata": {},
   "outputs": [],
   "source": [
    "# Convert the raw string values of the Tags column to lists of strings\n",
    "df[\"Tags\"] = df[\"Tags\"].apply(parse_tags)"
   ]
  },
  {
   "cell_type": "code",
   "execution_count": null,
   "metadata": {},
   "outputs": [],
   "source": [
    "# Clear the cleaning and parsing functions\n",
    "del clean_string, parse_tags"
   ]
  },
  {
   "cell_type": "markdown",
   "metadata": {},
   "source": [
    "# Load articles"
   ]
  },
  {
   "cell_type": "code",
   "execution_count": null,
   "metadata": {},
   "outputs": [],
   "source": [
    "# Article loading function\n",
    "def load_article(title):\n",
    "    # Create filename from title\n",
    "    file_name = f\"{title}.txt\"\n",
    "    # Get the path of the article\n",
    "    file_path = os.path.join(articles_dir, file_name)\n",
    "    try:\n",
    "        # Attempt to read the article\n",
    "        file = open(file_path, \"r\", encoding=\"utf-8\")\n",
    "    except:\n",
    "        # If the article could not be read, return None\n",
    "        return None\n",
    "    # Read the contents of the article\n",
    "    contents = file.read()\n",
    "    # Close the file\n",
    "    file.close()\n",
    "    # Return the contents of the article\n",
    "    return contents"
   ]
  },
  {
   "cell_type": "code",
   "execution_count": null,
   "metadata": {},
   "outputs": [],
   "source": [
    "# Load the articles\n",
    "df[\"Contents\"] = df[\"Title\"].apply(load_article)\n",
    "\n",
    "# Clear the article loading function\n",
    "del load_article"
   ]
  },
  {
   "cell_type": "code",
   "execution_count": null,
   "metadata": {},
   "outputs": [],
   "source": [
    "# Count the number of entries in the dataframe\n",
    "entries_count = len(df)\n",
    "\n",
    "# Remove rows without article contents\n",
    "df.dropna(subset=[\"Contents\"], inplace=True)\n",
    "\n",
    "# Reset the index\n",
    "df.reset_index(drop=True, inplace=True)\n",
    "\n",
    "# Print the number of deleted entries\n",
    "print(f\"Removed {entries_count - len(df)} entries without article contents.\")\n",
    "\n",
    "# Clear the entries count variable\n",
    "del entries_count"
   ]
  },
  {
   "cell_type": "markdown",
   "metadata": {},
   "source": [
    "# Create categories from tags"
   ]
  },
  {
   "cell_type": "code",
   "execution_count": null,
   "metadata": {},
   "outputs": [],
   "source": [
    "unique_tags = []\n",
    "for tag_list in df[\"Tags\"]:\n",
    "    for tag in tag_list:\n",
    "        if tag not in unique_tags:\n",
    "            unique_tags.append(tag)"
   ]
  },
  {
   "cell_type": "code",
   "execution_count": null,
   "metadata": {},
   "outputs": [],
   "source": [
    "custom_categories = pd.read_csv(f\"{data_dir}/custom-categories.csv\", sep=\";\")\n",
    "\n",
    "def load_category(name):\n",
    "    try:\n",
    "        return custom_categories[name].dropna().tolist()\n",
    "    except:\n",
    "        return None"
   ]
  },
  {
   "cell_type": "code",
   "execution_count": null,
   "metadata": {},
   "outputs": [],
   "source": [
    "# Initiate the category dictionary\n",
    "categories = {}\n",
    "\n",
    "# Iterate over these custom_categories columns\n",
    "for category in custom_categories.columns:\n",
    "    # Load the category\n",
    "    categories[category] = load_category(category)"
   ]
  },
  {
   "cell_type": "code",
   "execution_count": null,
   "metadata": {},
   "outputs": [],
   "source": [
    "# Create a new column for the category\n",
    "df[\"Category\"] = \"\"\n",
    "\n",
    "# Iterate over the dataframe\n",
    "for index, row in df.iterrows():\n",
    "    # Get the tags of the current row\n",
    "    tag_list = row[\"Tags\"]\n",
    "    # Create a dictionary for the counters of each category\n",
    "    counters = {}\n",
    "    # Iterate over every tag in the tag list\n",
    "    for tag in tag_list:\n",
    "        # Iterate over the categories\n",
    "        for category in categories:\n",
    "            # Check if the tag is in the category\n",
    "            if tag in categories[category]:\n",
    "                # If so, check if the category is already in the dictionary\n",
    "                if category in counters:\n",
    "                    # If so, increment the counter\n",
    "                    counters[category] += 1\n",
    "                else:\n",
    "                    # If not, add the category to the dictionary\n",
    "                    counters[category] = 1\n",
    "            # elif counters.get(\"Other\"):\n",
    "            #     counters[\"Other\"] += 1\n",
    "            # else:\n",
    "            #     counters[\"Other\"] = 1\n",
    "    \n",
    "    # Get the category with the highest counter and assign it to the row\n",
    "    row[\"Category\"] = max(counters, key=counters.get)\n",
    "    # Make sure that the counter is minimally 0\n",
    "\n",
    "\n",
    "\n",
    "# def get_most_frequent_category(environmental_count, violence_count, weapons_count, money_count, human_trafficking_count, drugs_count):\n",
    "#     highest_count = max(environmental_count, violence_count, weapons_count, human_trafficking_count, money_count, drugs_count)\n",
    "#     if highest_count == 0:\n",
    "#         return \"Other\"\n",
    "#     if environmental_count == highest_count:\n",
    "#         return \"Environmental\"\n",
    "#     elif violence_count == highest_count:\n",
    "#         return \"Violence\"\n",
    "#     elif weapons_count == highest_count:\n",
    "#         return \"Weapons\"\n",
    "#     elif human_trafficking_count == highest_count:\n",
    "#         return \"Human trafficking\"\n",
    "#     elif money_count == highest_count:\n",
    "#         return \"Money\"\n",
    "#     elif drugs_count == highest_count:\n",
    "#         return \"Drugs\"\n",
    "\n",
    "# for current_article_index in range(len(df)):\n",
    "#     tag_list = df[\"Tags\"][current_article_index]\n",
    "\n",
    "#     environmental_count = 0\n",
    "#     violence_count = 0\n",
    "#     weapons_count = 0\n",
    "#     human_trafficking_count = 0\n",
    "#     money_count = 0\n",
    "#     drugs_count = 0\n",
    "\n",
    "#     for tag in tag_list:\n",
    "#         if tag in environmental_tags:\n",
    "#             environmental_count += 1\n",
    "#         elif tag in violence_tags:\n",
    "#             violence_count += 1\n",
    "#         elif tag in weapons_tags:\n",
    "#             weapons_count += 1\n",
    "#         elif tag in human_trafficking_tags:\n",
    "#             human_trafficking_count += 1\n",
    "#         elif tag in drugs_tags:\n",
    "#             drugs_count += 1\n",
    "#         elif tag in money_tags:\n",
    "#             money_count += 1\n",
    "\n",
    "#     df[\"Category\"][current_article_index] = get_most_frequent_category(environmental_count, violence_count, weapons_count, money_count, human_trafficking_count, drugs_count)"
   ]
  },
  {
   "cell_type": "code",
   "execution_count": null,
   "metadata": {},
   "outputs": [],
   "source": [
    "df[\"Category\"].value_counts()"
   ]
  },
  {
   "cell_type": "code",
   "execution_count": null,
   "metadata": {},
   "outputs": [],
   "source": [
    "# # remove location, environmental, violence, weapons, money, human trafficking and drugs tags from the list of unique tags\n",
    "# remaining_tags = [tag for tag in unique_tags if tag not in environmental_tags and tag not in violence_tags and tag not in weapons_tags and tag not in money_tags and tag not in human_trafficking_tags and tag not in drugs_tags]\n",
    "# remaining_tags\n",
    "\n",
    "# print(f\"{len(remaining_tags)} / {len(unique_tags)} unique tags have not been categorized yet.\")\n",
    "\n",
    "# print(remaining_tags)"
   ]
  }
 ],
 "metadata": {
  "interpreter": {
   "hash": "f58898b06f18e36864a817406fc3e65eeebc3856fff6a36ac1cd20b1ae6f51fe"
  },
  "kernelspec": {
   "display_name": "Python 3.10.4 64-bit",
   "language": "python",
   "name": "python3"
  },
  "language_info": {
   "codemirror_mode": {
    "name": "ipython",
    "version": 3
   },
   "file_extension": ".py",
   "mimetype": "text/x-python",
   "name": "python",
   "nbconvert_exporter": "python",
   "pygments_lexer": "ipython3",
   "version": "3.10.4"
  },
  "orig_nbformat": 4
 },
 "nbformat": 4,
 "nbformat_minor": 2
}
