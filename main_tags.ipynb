{
 "cells": [
  {
   "cell_type": "markdown",
   "metadata": {},
   "source": [
    "# Import packages"
   ]
  },
  {
   "cell_type": "code",
   "execution_count": 132,
   "metadata": {},
   "outputs": [],
   "source": [
    "import os\n",
    "import re\n",
    "import spacy\n",
    "import pandas as pd\n",
    "import matplotlib.pyplot as plt\n",
    "from dotenv import load_dotenv"
   ]
  },
  {
   "cell_type": "markdown",
   "metadata": {},
   "source": [
    "# Load data"
   ]
  },
  {
   "cell_type": "code",
   "execution_count": 133,
   "metadata": {},
   "outputs": [],
   "source": [
    "nlp = spacy.load(\"en_core_web_sm\")"
   ]
  },
  {
   "cell_type": "code",
   "execution_count": 134,
   "metadata": {},
   "outputs": [],
   "source": [
    "# Load the environment variables\n",
    "load_dotenv()\n",
    "\n",
    "# Get the paths to the data\n",
    "data_dir = os.getenv(\"DATA_DIR\")\n",
    "articles_dir = os.path.join(data_dir, \"articles\")\n",
    "\n",
    "# Load the main dataset\n",
    "df = pd.read_csv(f\"{data_dir}/article_info_V2.csv\", index_col=0, parse_dates=[1])\n",
    "\n",
    "# Load the external dataset\n",
    "external_df = pd.read_csv(f\"{data_dir}/other-articles.csv\", index_col=0, parse_dates=[1], sep=\";\")"
   ]
  },
  {
   "cell_type": "markdown",
   "metadata": {},
   "source": [
    "# Cleaning"
   ]
  },
  {
   "cell_type": "code",
   "execution_count": 135,
   "metadata": {},
   "outputs": [],
   "source": [
    "# Drop unused columns\n",
    "df.drop(columns=[\"Author\", \"Type\", \"Keywords\"], inplace=True)\n",
    "\n",
    "# Drop rows with empty date values\n",
    "df.dropna(subset=[\"Date\"], inplace=True)\n",
    "\n",
    "# Reset the index\n",
    "df.reset_index(drop=True, inplace=True)\n",
    "\n",
    "# Remove the url column from the external dataset\n",
    "external_df.drop(columns=[\"Url\"], inplace=True)"
   ]
  },
  {
   "cell_type": "markdown",
   "metadata": {},
   "source": [
    "# Merging datasets"
   ]
  },
  {
   "cell_type": "code",
   "execution_count": 136,
   "metadata": {},
   "outputs": [],
   "source": [
    "# Add the external dataset to the main dataset\n",
    "df = pd.concat([df, external_df])\n",
    "\n",
    "# Reset the index\n",
    "df.reset_index(drop=True, inplace=True)\n",
    "\n",
    "# Clear the external dataset variable\n",
    "del external_df"
   ]
  },
  {
   "cell_type": "markdown",
   "metadata": {},
   "source": [
    "# Remove duplicates"
   ]
  },
  {
   "cell_type": "code",
   "execution_count": 137,
   "metadata": {},
   "outputs": [
    {
     "name": "stdout",
     "output_type": "stream",
     "text": [
      "Removed 3 duplicate entries.\n"
     ]
    }
   ],
   "source": [
    "# Count the number of entries before duplicate removal\n",
    "entries_count = len(df)\n",
    "\n",
    "# remove duplicate entries by title and date\n",
    "df.drop_duplicates(subset=[\"Title\", \"Date\"], keep=\"first\", inplace=True)\n",
    "\n",
    "# Drop the date column\n",
    "df.drop(columns=[\"Date\"], inplace=True)\n",
    "\n",
    "# Print the number of deleted entries\n",
    "print(f\"Removed {entries_count - len(df)} duplicate entries.\")\n",
    "\n",
    "# Clear the entries count variable\n",
    "del entries_count"
   ]
  },
  {
   "cell_type": "markdown",
   "metadata": {},
   "source": [
    "# Parse target"
   ]
  },
  {
   "cell_type": "code",
   "execution_count": 138,
   "metadata": {},
   "outputs": [],
   "source": [
    "# Define functions to parse target\n",
    "def clean_string(str):\n",
    "    # Make the string lowercase\n",
    "    str = str.lower()\n",
    "    # Remove all non-alphanumeric characters\n",
    "    str = re.sub(r\"[^\\w\\s]\", \"\", str)\n",
    "    # Remove the leading and trailing spaces\n",
    "    return str.strip()\n",
    "\n",
    "def parse_tags(str):\n",
    "    # Split the string on each comma\n",
    "    raw_list = str.split(\",\")\n",
    "    # Clean every string in the list\n",
    "    return list(map(clean_string, raw_list))"
   ]
  },
  {
   "cell_type": "code",
   "execution_count": 139,
   "metadata": {},
   "outputs": [],
   "source": [
    "# Convert the raw string values of the Tags column to lists of strings\n",
    "df[\"Tags\"] = df[\"Tags\"].apply(parse_tags)"
   ]
  },
  {
   "cell_type": "code",
   "execution_count": 140,
   "metadata": {},
   "outputs": [],
   "source": [
    "# Clear the cleaning and parsing functions\n",
    "del clean_string, parse_tags"
   ]
  },
  {
   "cell_type": "markdown",
   "metadata": {},
   "source": [
    "# Load articles"
   ]
  },
  {
   "cell_type": "code",
   "execution_count": 141,
   "metadata": {},
   "outputs": [],
   "source": [
    "# Article loading function\n",
    "def load_article(title):\n",
    "    # Create filename from title\n",
    "    file_name = f\"{title}.txt\"\n",
    "    # Get the path of the article\n",
    "    file_path = os.path.join(articles_dir, file_name)\n",
    "    try:\n",
    "        # Attempt to read the article\n",
    "        file = open(file_path, \"r\", encoding=\"utf-8\")\n",
    "    except:\n",
    "        # If the article could not be read, return None\n",
    "        return None\n",
    "    # Read the contents of the article\n",
    "    contents = file.read()\n",
    "    # Close the file\n",
    "    file.close()\n",
    "    # Return the contents of the article\n",
    "    return contents"
   ]
  },
  {
   "cell_type": "code",
   "execution_count": 142,
   "metadata": {},
   "outputs": [],
   "source": [
    "# Load the articles\n",
    "df[\"Contents\"] = df[\"Title\"].apply(load_article)\n",
    "\n",
    "# Clear the article loading function\n",
    "del load_article"
   ]
  },
  {
   "cell_type": "code",
   "execution_count": 143,
   "metadata": {},
   "outputs": [
    {
     "name": "stdout",
     "output_type": "stream",
     "text": [
      "Removed 42 entries without article contents.\n"
     ]
    }
   ],
   "source": [
    "# Count the number of entries in the dataframe\n",
    "entries_count = len(df)\n",
    "\n",
    "# Remove rows without article contents\n",
    "df.dropna(subset=[\"Contents\"], inplace=True)\n",
    "\n",
    "# Reset the index\n",
    "df.reset_index(drop=True, inplace=True)\n",
    "\n",
    "# Print the number of deleted entries\n",
    "print(f\"Removed {entries_count - len(df)} entries without article contents.\")\n",
    "\n",
    "# Clear the entries count variable\n",
    "del entries_count"
   ]
  },
  {
   "cell_type": "markdown",
   "metadata": {},
   "source": [
    "# Create categories from tags"
   ]
  },
  {
   "cell_type": "code",
   "execution_count": 144,
   "metadata": {},
   "outputs": [],
   "source": [
    "unique_tags = []\n",
    "for tag_list in df[\"Tags\"]:\n",
    "    for tag in tag_list:\n",
    "        if tag not in unique_tags:\n",
    "            unique_tags.append(tag)"
   ]
  },
  {
   "cell_type": "code",
   "execution_count": 145,
   "metadata": {},
   "outputs": [],
   "source": [
    "# Load the custom categories dataset\n",
    "custom_categories = pd.read_csv(f\"{data_dir}/custom-categories.csv\", sep=\";\")\n",
    "\n",
    "# After receiving feedback from SKC, we decided to drop the following categories:\n",
    "custom_categories.drop(columns=[\"People\", \"Places\", \"Criminal groups\"], inplace=True)\n",
    "\n",
    "# Define a function to parse the custom categories into a list of strings\n",
    "def load_category(name):\n",
    "    try:\n",
    "        return custom_categories[name].dropna().tolist()\n",
    "    except:\n",
    "        return None"
   ]
  },
  {
   "cell_type": "code",
   "execution_count": 146,
   "metadata": {},
   "outputs": [],
   "source": [
    "# Initiate the category dictionary\n",
    "categories = {}\n",
    "\n",
    "# Iterate over these custom_categories columns\n",
    "for category_name in custom_categories.columns:\n",
    "    # Load the category\n",
    "    categories[category_name] = load_category(category_name)"
   ]
  },
  {
   "cell_type": "code",
   "execution_count": 147,
   "metadata": {},
   "outputs": [],
   "source": [
    "# Create a new column for the category\n",
    "df[\"Category\"] = \"\"\n",
    "\n",
    "# Iterate over the dataframe\n",
    "for index, row in df.iterrows():\n",
    "    # Get the tags of the current row\n",
    "    tag_list = row[\"Tags\"]\n",
    "    # Create a dictionary for the counters of the categories for this article\n",
    "    counters = {}\n",
    "    # Iterate over every tag in the tag list\n",
    "    for tag in tag_list:\n",
    "        # Iterate over the categories\n",
    "        for category_name in categories:\n",
    "            # Get the current category\n",
    "            category = categories[category_name]\n",
    "            # Check if the tag is in the category list\n",
    "            if tag in category:\n",
    "                # If it is, add it to the counters dictionary\n",
    "                if category_name not in counters:\n",
    "                    counters[category_name] = 1\n",
    "                else:\n",
    "                    counters[category_name] += 1    \n",
    "    # Get the category with the highest counter and assign it to the row\n",
    "    if len(counters) == 0:\n",
    "        row[\"Category\"] = \"Other\"\n",
    "    else:\n",
    "        row[\"Category\"] = max(counters, key=counters.get)"
   ]
  },
  {
   "cell_type": "markdown",
   "metadata": {},
   "source": [
    "# Drop the tags column"
   ]
  },
  {
   "cell_type": "code",
   "execution_count": 148,
   "metadata": {},
   "outputs": [],
   "source": [
    "df.drop(columns=[\"Tags\"], inplace=True)"
   ]
  },
  {
   "cell_type": "markdown",
   "metadata": {},
   "source": [
    "# Visualizations"
   ]
  },
  {
   "cell_type": "code",
   "execution_count": 149,
   "metadata": {},
   "outputs": [],
   "source": [
    "categories = df[\"Category\"].value_counts()"
   ]
  },
  {
   "cell_type": "code",
   "execution_count": 150,
   "metadata": {},
   "outputs": [
    {
     "data": {
      "image/png": "[encoded data removed]",
      "text/plain": [
       "<Figure size 864x576 with 1 Axes>"
      ]
     },
     "metadata": {
      "needs_background": "light"
     },
     "output_type": "display_data"
    }
   ],
   "source": [
    "plt.figure(figsize=(12, 8))\n",
    "plt.title(\"Category distribution\")\n",
    "plt.ylabel(\"Number of articles\")\n",
    "plt.bar(categories.index, categories.values)\n",
    "plt.show()"
   ]
  },
  {
   "cell_type": "code",
   "execution_count": 152,
   "metadata": {},
   "outputs": [
    {
     "data": {
      "text/html": [
       "<div>\n",
       "<style scoped>\n",
       "    .dataframe tbody tr th:only-of-type {\n",
       "        vertical-align: middle;\n",
       "    }\n",
       "\n",
       "    .dataframe tbody tr th {\n",
       "        vertical-align: top;\n",
       "    }\n",
       "\n",
       "    .dataframe thead th {\n",
       "        text-align: right;\n",
       "    }\n",
       "</style>\n",
       "<table border=\"1\" class=\"dataframe\">\n",
       "  <thead>\n",
       "    <tr style=\"text-align: right;\">\n",
       "      <th></th>\n",
       "      <th>Title</th>\n",
       "      <th>Contents</th>\n",
       "      <th>Category</th>\n",
       "    </tr>\n",
       "  </thead>\n",
       "  <tbody>\n",
       "    <tr>\n",
       "      <th>0</th>\n",
       "      <td>Did Anti-Drug Crusade Lead to Haiti President'...</td>\n",
       "      <td>An explosive new report suggests that the high...</td>\n",
       "      <td>Drugs</td>\n",
       "    </tr>\n",
       "    <tr>\n",
       "      <th>1</th>\n",
       "      <td>Colombian Prosecutors Dismiss Memo Fantasma Li...</td>\n",
       "      <td>Prosecutors in Colombia have dismissed a crimi...</td>\n",
       "      <td>Other</td>\n",
       "    </tr>\n",
       "    <tr>\n",
       "      <th>2</th>\n",
       "      <td>Could US Anti-Violence Models Work in Latin Am...</td>\n",
       "      <td>Efforts to reduce gang violence are often thou...</td>\n",
       "      <td>Other</td>\n",
       "    </tr>\n",
       "    <tr>\n",
       "      <th>3</th>\n",
       "      <td>How Mexican Cartels Settled in Canada</td>\n",
       "      <td>The story of the Mexican cartels and their inf...</td>\n",
       "      <td>Drugs</td>\n",
       "    </tr>\n",
       "    <tr>\n",
       "      <th>4</th>\n",
       "      <td>Haiti Gangs Profit from Targeting Religious Gr...</td>\n",
       "      <td>Religious groups are among the final instituti...</td>\n",
       "      <td>Other</td>\n",
       "    </tr>\n",
       "    <tr>\n",
       "      <th>5</th>\n",
       "      <td>Peru's Anti-Corruption Crusade Grows Weaker</td>\n",
       "      <td>Authorities in Peru have dismantled a complex ...</td>\n",
       "      <td>Other</td>\n",
       "    </tr>\n",
       "    <tr>\n",
       "      <th>6</th>\n",
       "      <td>Top Ex-FARC Commanders, El Paisa and Romaña, C...</td>\n",
       "      <td>Colombia's Defense Minister has reported that ...</td>\n",
       "      <td>Drugs</td>\n",
       "    </tr>\n",
       "    <tr>\n",
       "      <th>7</th>\n",
       "      <td>US Blacklists El Salvador Officials, Bolsterin...</td>\n",
       "      <td>In what appears to be a shot at El Salvador Pr...</td>\n",
       "      <td>Other</td>\n",
       "    </tr>\n",
       "    <tr>\n",
       "      <th>8</th>\n",
       "      <td>Laborers from Mexico, Central America Exploite...</td>\n",
       "      <td>A transnational labor trafficking network brou...</td>\n",
       "      <td>Drugs</td>\n",
       "    </tr>\n",
       "    <tr>\n",
       "      <th>9</th>\n",
       "      <td>FARC Dissidents First to be Charged Under New ...</td>\n",
       "      <td>Colombia is rolling out a new strategy to figh...</td>\n",
       "      <td>Environmental crimes</td>\n",
       "    </tr>\n",
       "  </tbody>\n",
       "</table>\n",
       "</div>"
      ],
      "text/plain": [
       "                                               Title  \\\n",
       "0  Did Anti-Drug Crusade Lead to Haiti President'...   \n",
       "1  Colombian Prosecutors Dismiss Memo Fantasma Li...   \n",
       "2  Could US Anti-Violence Models Work in Latin Am...   \n",
       "3              How Mexican Cartels Settled in Canada   \n",
       "4  Haiti Gangs Profit from Targeting Religious Gr...   \n",
       "5        Peru's Anti-Corruption Crusade Grows Weaker   \n",
       "6  Top Ex-FARC Commanders, El Paisa and Romaña, C...   \n",
       "7  US Blacklists El Salvador Officials, Bolsterin...   \n",
       "8  Laborers from Mexico, Central America Exploite...   \n",
       "9  FARC Dissidents First to be Charged Under New ...   \n",
       "\n",
       "                                            Contents              Category  \n",
       "0  An explosive new report suggests that the high...                 Drugs  \n",
       "1  Prosecutors in Colombia have dismissed a crimi...                 Other  \n",
       "2  Efforts to reduce gang violence are often thou...                 Other  \n",
       "3  The story of the Mexican cartels and their inf...                 Drugs  \n",
       "4  Religious groups are among the final instituti...                 Other  \n",
       "5  Authorities in Peru have dismantled a complex ...                 Other  \n",
       "6  Colombia's Defense Minister has reported that ...                 Drugs  \n",
       "7  In what appears to be a shot at El Salvador Pr...                 Other  \n",
       "8  A transnational labor trafficking network brou...                 Drugs  \n",
       "9  Colombia is rolling out a new strategy to figh...  Environmental crimes  "
      ]
     },
     "execution_count": 152,
     "metadata": {},
     "output_type": "execute_result"
    }
   ],
   "source": [
    "df.head(10)"
   ]
  },
  {
   "cell_type": "code",
   "execution_count": null,
   "metadata": {},
   "outputs": [],
   "source": [
    "from spacy.matcher import Matcher\n",
    "matcher = Matcher(nlp.vocab)\n",
    "\n",
    "doc = nlp(load_article(df['Title'][0], load_contents=True))\n",
    "\n",
    "# Write multiple patterns to find if an article contains cocaine etc.\n",
    "pattern = [\n",
    "[{\"POS\": \"ADJ\"},{\"TEXT\": \"cocaine\"},{\"POS\": \"NOUN\", \"OP\": \"?\"}],\n",
    "[{\"TEXT\": \"drug\"},{\"POS\": \"NOUN\"}]\n",
    "]\n",
    "\n",
    "# Add the pattern to the matcher and apply the matcher to the doc\n",
    "matcher.add(\"DETERMINE COCAINE\", [pattern][0])\n",
    "matches = matcher(doc)\n",
    "print(\"Total matches found:\", len(matches))\n",
    "\n",
    "# Iterate over the matches and print the span text\n",
    "for match_id, start, end in matches:\n",
    "    print(\"Match found:\", doc[start:end].text)"
   ]
  }
 ],
 "metadata": {
  "interpreter": {
   "hash": "c311e93685c2e1cf6d714a78dda97c5c1b6d9dea95c555422acd5389d6efca5f"
  },
  "kernelspec": {
   "display_name": "Python 3.10.5 ('.env-dir': venv)",
   "language": "python",
   "name": "python3"
  },
  "language_info": {
   "codemirror_mode": {
    "name": "ipython",
    "version": 3
   },
   "file_extension": ".py",
   "mimetype": "text/x-python",
   "name": "python",
   "nbconvert_exporter": "python",
   "pygments_lexer": "ipython3",
   "version": "3.10.5"
  },
  "orig_nbformat": 4
 },
 "nbformat": 4,
 "nbformat_minor": 2
}
