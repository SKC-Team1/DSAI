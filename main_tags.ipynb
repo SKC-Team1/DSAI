{
 "cells": [
  {
   "cell_type": "markdown",
   "metadata": {},
   "source": [
    "# Import packages"
   ]
  },
  {
   "cell_type": "code",
   "execution_count": 95,
   "metadata": {},
   "outputs": [],
   "source": [
    "import os\n",
    "import re\n",
    "import spacy\n",
    "import pandas as pd\n",
    "import geonamescache\n",
    "from dotenv import load_dotenv"
   ]
  },
  {
   "cell_type": "markdown",
   "metadata": {},
   "source": [
    "# Load data"
   ]
  },
  {
   "cell_type": "code",
   "execution_count": 96,
   "metadata": {},
   "outputs": [],
   "source": [
    "nlp = spacy.load(\"en_core_web_sm\")"
   ]
  },
  {
   "cell_type": "code",
   "execution_count": 97,
   "metadata": {},
   "outputs": [],
   "source": [
    "# Load the environment variables\n",
    "load_dotenv()\n",
    "\n",
    "# Get the paths to the data\n",
    "data_dir = os.getenv(\"DATA_DIR\")\n",
    "articles_dir = os.path.join(data_dir, \"articles\")\n",
    "\n",
    "# Load the main dataset\n",
    "df = pd.read_csv(f\"{data_dir}/article_info_V2.csv\", index_col=0, parse_dates=[1])\n",
    "\n",
    "# Load the external dataset\n",
    "external_df = pd.read_csv(f\"{data_dir}/other-articles.csv\", index_col=0, parse_dates=[1], sep=\";\")"
   ]
  },
  {
   "cell_type": "markdown",
   "metadata": {},
   "source": [
    "# Cleaning"
   ]
  },
  {
   "cell_type": "code",
   "execution_count": 98,
   "metadata": {},
   "outputs": [],
   "source": [
    "# Drop unused columns\n",
    "df.drop(columns=[\"Author\", \"Type\", \"Keywords\"], inplace=True)\n",
    "\n",
    "# Drop rows with empty date values\n",
    "df.dropna(subset=[\"Date\"], inplace=True)\n",
    "\n",
    "# Reset the index\n",
    "df.reset_index(drop=True, inplace=True)\n",
    "\n",
    "# Remove the url column from the external dataset\n",
    "external_df.drop(columns=[\"Url\"], inplace=True)"
   ]
  },
  {
   "cell_type": "markdown",
   "metadata": {},
   "source": [
    "# Merging datasets"
   ]
  },
  {
   "cell_type": "code",
   "execution_count": 99,
   "metadata": {},
   "outputs": [],
   "source": [
    "# Add the external dataset to the main dataset\n",
    "df = pd.concat([df, external_df])\n",
    "\n",
    "# Reset the index\n",
    "df.reset_index(drop=True, inplace=True)\n",
    "\n",
    "# Clear the external dataset variable\n",
    "del external_df"
   ]
  },
  {
   "cell_type": "markdown",
   "metadata": {},
   "source": [
    "# Remove duplicates"
   ]
  },
  {
   "cell_type": "code",
   "execution_count": 100,
   "metadata": {},
   "outputs": [
    {
     "name": "stdout",
     "output_type": "stream",
     "text": [
      "Removed 3 duplicate entries.\n"
     ]
    }
   ],
   "source": [
    "# Count the number of entries before duplicate removal\n",
    "entries_count = len(df)\n",
    "\n",
    "# remove duplicate entries by title and date\n",
    "df.drop_duplicates(subset=[\"Title\", \"Date\"], keep=\"first\", inplace=True)\n",
    "\n",
    "# Print the number of deleted entries\n",
    "print(f\"Removed {entries_count - len(df)} duplicate entries.\")\n",
    "\n",
    "# Clear the entries count variable\n",
    "del entries_count"
   ]
  },
  {
   "cell_type": "markdown",
   "metadata": {},
   "source": [
    "# Parse target"
   ]
  },
  {
   "cell_type": "code",
   "execution_count": 101,
   "metadata": {},
   "outputs": [],
   "source": [
    "# Define functions to parse target\n",
    "def clean_string(str):\n",
    "    # Make the string lowercase\n",
    "    str = str.lower()\n",
    "    # Remove all non-alphanumeric characters\n",
    "    str = re.sub(r\"[^\\w\\s]\", \"\", str)\n",
    "    # Remove the leading and trailing spaces\n",
    "    return str.strip()\n",
    "\n",
    "def parse_tags(str):\n",
    "    # Split the string on each comma\n",
    "    raw_list = str.split(\",\")\n",
    "    # Clean every string in the list\n",
    "    return list(map(clean_string, raw_list))"
   ]
  },
  {
   "cell_type": "code",
   "execution_count": 102,
   "metadata": {},
   "outputs": [],
   "source": [
    "# Convert the raw string values of the Tags column to lists of strings\n",
    "df[\"Tags\"] = df[\"Tags\"].apply(parse_tags)"
   ]
  },
  {
   "cell_type": "code",
   "execution_count": 103,
   "metadata": {},
   "outputs": [],
   "source": [
    "# Clear the cleaning and parsing functions\n",
    "del clean_string, parse_tags"
   ]
  },
  {
   "cell_type": "markdown",
   "metadata": {},
   "source": [
    "# Load articles"
   ]
  },
  {
   "cell_type": "code",
   "execution_count": 104,
   "metadata": {},
   "outputs": [],
   "source": [
    "# Article loading function\n",
    "def load_article(title):\n",
    "    # Create filename from title\n",
    "    file_name = f\"{title}.txt\"\n",
    "    # Get the path of the article\n",
    "    file_path = os.path.join(articles_dir, file_name)\n",
    "    try:\n",
    "        # Attempt to read the article\n",
    "        file = open(file_path, \"r\", encoding=\"utf-8\")\n",
    "    except:\n",
    "        # If the article could not be read, return None\n",
    "        return None\n",
    "    # Read the contents of the article\n",
    "    contents = file.read()\n",
    "    # Close the file\n",
    "    file.close()\n",
    "    # Return the contents of the article\n",
    "    return contents"
   ]
  },
  {
   "cell_type": "code",
   "execution_count": 105,
   "metadata": {},
   "outputs": [],
   "source": [
    "# Load the articles\n",
    "df[\"Contents\"] = df[\"Title\"].apply(load_article)\n",
    "\n",
    "# Clear the article loading function\n",
    "del load_article"
   ]
  },
  {
   "cell_type": "code",
   "execution_count": 106,
   "metadata": {},
   "outputs": [
    {
     "name": "stdout",
     "output_type": "stream",
     "text": [
      "Removed 42 entries without article contents.\n"
     ]
    }
   ],
   "source": [
    "# Count the number of entries in the dataframe\n",
    "entries_count = len(df)\n",
    "\n",
    "# Remove rows without article contents\n",
    "df.dropna(subset=[\"Contents\"], inplace=True)\n",
    "\n",
    "# Reset the index\n",
    "df.reset_index(drop=True, inplace=True)\n",
    "\n",
    "# Print the number of deleted entries\n",
    "print(f\"Removed {entries_count - len(df)} entries without article contents.\")\n",
    "\n",
    "# Clear the entries count variable\n",
    "del entries_count"
   ]
  },
  {
   "cell_type": "markdown",
   "metadata": {},
   "source": [
    "# Create categories from tags"
   ]
  },
  {
   "cell_type": "code",
   "execution_count": 107,
   "metadata": {},
   "outputs": [],
   "source": [
    "unique_tags = []\n",
    "for tag_list in df[\"Tags\"]:\n",
    "    for tag in tag_list:\n",
    "        if tag not in unique_tags:\n",
    "            unique_tags.append(tag)"
   ]
  },
  {
   "cell_type": "code",
   "execution_count": 108,
   "metadata": {},
   "outputs": [],
   "source": [
    "custom_categories = pd.read_csv(f\"{data_dir}/custom-categories.csv\")\n",
    "\n",
    "def load_category(name):\n",
    "    try:\n",
    "        return custom_categories[name].dropna().tolist()\n",
    "    except:\n",
    "        return None"
   ]
  },
  {
   "cell_type": "code",
   "execution_count": 109,
   "metadata": {},
   "outputs": [],
   "source": [
    "environmental_tags = load_category(\"Environmental crimes\")\n",
    "violence_tags = load_category(\"Violence\")\n",
    "weapons_tags = load_category(\"Weapons\")\n",
    "money_tags = load_category(\"Money\")\n",
    "human_trafficking_tags = load_category(\"Human trafficking\")\n",
    "drugs_tags = load_category(\"Drugs\")"
   ]
  },
  {
   "cell_type": "code",
   "execution_count": 110,
   "metadata": {},
   "outputs": [],
   "source": [
    "df[\"Category\"] = \"\"\n",
    "\n",
    "def get_most_frequent_category(environmental_count, violence_count, weapons_count, money_count, human_trafficking_count, drugs_count):\n",
    "    highest_count = max(environmental_count, violence_count, weapons_count, human_trafficking_count, money_count, drugs_count)\n",
    "    if highest_count == 0:\n",
    "        return \"Other\"\n",
    "    if environmental_count == highest_count:\n",
    "        return \"Environmental\"\n",
    "    elif violence_count == highest_count:\n",
    "        return \"Violence\"\n",
    "    elif weapons_count == highest_count:\n",
    "        return \"Weapons\"\n",
    "    elif human_trafficking_count == highest_count:\n",
    "        return \"Human trafficking\"\n",
    "    elif money_count == highest_count:\n",
    "        return \"Money\"\n",
    "    elif drugs_count == highest_count:\n",
    "        return \"Drugs\"\n",
    "\n",
    "for current_article_index in range(len(df)):\n",
    "    tag_list = df[\"Tags\"][current_article_index]\n",
    "\n",
    "    environmental_count = 0\n",
    "    violence_count = 0\n",
    "    weapons_count = 0\n",
    "    human_trafficking_count = 0\n",
    "    money_count = 0\n",
    "    drugs_count = 0\n",
    "\n",
    "    for tag in tag_list:\n",
    "        if tag in environmental_tags:\n",
    "            environmental_count += 1\n",
    "        elif tag in violence_tags:\n",
    "            violence_count += 1\n",
    "        elif tag in weapons_tags:\n",
    "            weapons_count += 1\n",
    "        elif tag in human_trafficking_tags:\n",
    "            human_trafficking_count += 1\n",
    "        elif tag in drugs_tags:\n",
    "            drugs_count += 1\n",
    "        elif tag in money_tags:\n",
    "            money_count += 1\n",
    "\n",
    "    df[\"Category\"][current_article_index] = get_most_frequent_category(environmental_count, violence_count, weapons_count, money_count, human_trafficking_count, drugs_count)"
   ]
  },
  {
   "cell_type": "code",
   "execution_count": 111,
   "metadata": {},
   "outputs": [
    {
     "data": {
      "text/plain": [
       "Other                3086\n",
       "Drugs                2106\n",
       "Violence             1843\n",
       "Environmental        1449\n",
       "Weapons               705\n",
       "Human trafficking     509\n",
       "Money                 470\n",
       "Name: Category, dtype: int64"
      ]
     },
     "execution_count": 111,
     "metadata": {},
     "output_type": "execute_result"
    }
   ],
   "source": [
    "df[\"Category\"].value_counts()"
   ]
  },
  {
   "cell_type": "code",
   "execution_count": 113,
   "metadata": {},
   "outputs": [
    {
     "name": "stdout",
     "output_type": "stream",
     "text": [
      "608 / 717 unique tags have not been categorized yet.\n",
      "['zetas', 'haiti', 'el salvador', 'bolivia', 'judicial reform', 'elites and crime', 'invisibles', 'while scrambling to save himself from brazilian authorities', 'leones', 'don berna', 'colombia', 'mexico personalities', 'los machos', 'chepe luna', 'mexico', 'security policy', 'mi sangre', 'el chango', 'honduras', 'merida initiative', 'usmexico border', 'brazil', 'el paisa', 'guatemala personalities', 'juarez cartel', 'red scorpions', 'jamaica', 'canada', 'ndrangheta', 'sinaloa cartel', 'nicaragua', 'oficina de envigado', 'caribbean', 'los monos', 'g9', 'red command', 'haiti groups', 'peru', 'colombia groups', 'sebastian paisas', 'pijarbey', 'colombia mafia', 'pccbolivia', 'second marquetalia', 'iván márquez', 'venezuela', 'exfarc mafia', 'los caparrapos', 'el chayo', 'amigos dos amigos', 'usa', 'el salvador groups', 'valenciano', 'carsi', 'guatemala', 'ayotzinapa', 'farc', 'el barney', 'venezuela groups', 'displacement', 'el chapo', 'dominican republic', 'eln peace', 'gamechangers', 'uruguay', 'otoniel', 'panama', 'podcast', 'urabeños', 'caracho', 'argentina', 'el salvador personalities', 'honduras groups', 'argentina groups', 'epl', 'tony hernández', 'alex saab', 'europe crime', 'cartel de los soles', 'rastrojos', 'megabandas', 'coca', 'barrio azteca', 'alejandro flores cacho', 'prisons', 'guyana', 'honduras personalities', 'iván mordisco', 'northern triangle', 'barrio 18', 'ciacs', 'ms13', 'covid and crime', 'puntilla', 'costa rica', 'extradition', 'surina', 'reñazcos', 'paraguay', 'brazil militias', 'z3', 'farc peace', 'gentil duarte', 'hector beltran leyva', 'pgc', 'eln', 'ecuador', 'colectivos', 'el ingeniero juarez', 'bagdad', 'tarzanes', 'valles', 'haiti personalities', 'paraguay personalities', 'tren de aragua', 'cybercrime', 'chepe diablo', 'el azul', 'alfonso cano', 'el koki', 'human rights', 'victor carranza', 'knights templar', 'reynerio flores', 'criminal migration', 'beltran leyva org', 'clan rotela', 'there were few better at money laundering than the brazilian dario messer', 'jimmy cherizier', 'geographic profiles', 'calor calor', 'jalisco cartel', 'el mencho', 'northeast cartel', 'featured', 'cachiros', 'china and crime', 'coverage of china and crime', 'brazil groups', 'paraguay groups', 'dominican republic groups', 'z42', 'argentina personalities', 'el viceroy', 'el coss', 'belize', 'guerreros unidos', 'gulf cartel', 'el ingeniero tijuana', 'chile', 'la familia michoacana', 'águilas negras', 'erpac', 'auc', 'impact', 'in colombia', 'la organización', 'timochenko', 'alias 24', 'police reform', 'infographics', 'plan colombia', 'epr', 'panama personalities', 'vigilantes', 'suriname', 'gold', 'antonio garcía', 'cuba', 'x20', 'war for juarez', 'paisas', 'panama groups', 'juan chamale', 'lorenzanas', 'gabino', 'perfiles geográficos', 'what works', 'la tuta', 'comba', 'ecuador groups', 'peru personalities', 'perrones cartel', 'who', 'nicaragua personalities', 'did one last tour of his prime refuge', 'el loco barrera', 'cartel de jalisco', 'crimen cibernético', 'cartel de sinaloa', 'pcc', 'operation archimedes', 'venezuela personalities', 'gender and crime', 'norte del valle', 'ecuador personalities', 'giovanni', 'el doctor', 'covid y crimen', 'epp', 'dominican republic personalities', 'mexico groups', 'puerto rico', 'diego rastrojo', 'walid makled', 'la unión tepito', 'megateo', 'peru groups', 'triple frontier', 'fbl', 'texis cartel', 'guatemala groups', 'sebastian oficina', 'pure third command', 'francisco zeledon', 'coverage of puerto rico', 'colombia personalities', 'coverage of belize', 'shining path', 'ecuador news and profiles', 'libertadores del vichada', 'walter overdick', 'mono jojoy', 'nicaragua groups', 'tijuana cartel', 'baja california', 'brazil personalities', 'el salvador gang truce', 'where he sought help from many of his partners in crime', 'coverage of covid19 and crime', 'generated', 'tony tormenta', 'el mayo', 'z40', 'guyana news and profile', 'amauri carmona morelos', 'mendozas', 'coverage of the dominican republic', 'coverage of haiti', 'coverage of gender and crime', 'truce', 'soccer crime', 'militia groups', 'dutch caribbean', 'coverage of brazil militias', 'demobilized', 'peru news and profile', 'militia organizations', 'r', 'operation horus', 'all about elites and crime', 'colombians charged in massive chinabased money laundering scheme', 'operation', 'caribe', 'coverage of european crime', 'reforma policial', 'coverage of usmexico border', 'the truce', 'coverage of gender and organized crime', 'élites y crimen', 'coverage of what works', 'coverage of cybercrime', 'coverage of coronavirus and organized crime', 'gender', 'rollercoaster ride', 'descent into chaos', 'políticas de seguridad', 'increased', 'published', 'crimen europeo', 'coverage of epp', 'coverage of jamaica', 'coronavirus and organized crime', 'indepth coverage of illegal mining', 'brazil news and profiles', 'coverage of the usmexico border', 'migrants easy prey under us remain in mexico program', 'coverage of cuba', 'during the coronavirus pandemic', 'jalisco cartel news and profile', 'coverage of suriname', 'coverage of security policy', 'venezuela news and profile', 'countrys largest corruption case', 'perú', 'coverage of prisons', 'infografías', 'farc peace process', 'gender and organized crime news', 'signing a peace agreement', 'coverage of european organized crime', 'detecta', 'coverage of el salvadors gang truce', 'continue', 'elites and organized crime', 'corrupt state officials', 'truces', 'destacado', 'los chamalé', 'created', 'guyana news', '', 'coverage of peace process with the farc', 'coverage of megabandas', 'megabanda', '75 clandestine airstrips nationwide', 'coverage of displacement', 'coverage of the epp', 'local media reports', 'popular liberation army', 'reforma judicial', 'alias el mencho', 'have not issued a warrant', 'coverage of cyber crime', 'coverage of el salvador gang truce', 'coverage of farc peace process', 'coverage of soccer crime', 'armed colectivos', 'coverage farc peace', 'coverage of farc peace', 'bolivarian liberation forces', 'coverage of elites and organized crime', 'el chapo news and profile', 'first rejecting', 'coverage of exfarc mafia', 'coverage of police reform', 'dissident members', 'former revolutionary armed forces of colombia', 'coverage of the farc peace process', 'coverage of criminal migration', 'indepth coverage of human smuggling', 'indepth coverage of the epl', 'joaquín guzmán loera', 'dissident groups', 'jalisco cartel new generation', 'more cases', 'coverage of the oficina de envigado', 'coverage of el chapo', 'coverage of eln peace', 'indepth coverage of elites and organized crime', 'coverage of human rights', 'linked', 'local provision and production committees', 'coverage of canada', 'indepth coverage of prisons', 'coverage of soccer and crime', 'coverage of extradition', 'coverage of soccer and organized crime', 'venezuela a mafia state', 'coverage of judicial reform', 'coverage of vigilantes', 'peace agreement', 'coverage on security policies', 'coverage of the epl', 'peace process', 'tauted', 'reported', 'pcc news and profile', 'honduras news and profiles', 'coverage of argentina', 'coverage of ciacs', 'coverage of costa rica', 'coverage of paraguay', 'venezuelan', 'coverage of police corruption in el salvador', 'el salvador seguro', 'mérida initiative', 'european organized crime', 'coverage of venezuela megabandas', 'coverage on criminal migration', 'here', 'coverage of the farc peace', 'ministries', 'coverage of the farc peace agreement', 'coverage of the lorenzanas', 'coverage of the eln peace', 'coverage of beltrán leva organization', '50year long civil war', 'see also human trafficking coverage', 'coverage of infographics', 'coverage of ecuador', 'coverage of dominican republic', 'coverage on security policy', 'coverage of plan colombia', 'coverage of eln peace process', 'peace talks', 'see also coverage of heroin', 'paraguay news', 'the eln and the government of juan manuel santos', 'coverage of the farcs road to peace', 'coverage of chepe diablo', 'cjng news and profiles', 'coverage of panama', 'against the peace process', 'coverage of chile', 'coverage of the beltrán leyva organization', 'coverage of bacrim', 'coverage of the caribbean', 'apj', 'see also', 'coverage of the eln peace process', 'process of the demobilization', 'many other positives', 'coverage of the jalisco cartel', 'frequently turned to their military to try to restore order', 'coverage of mi sangre', 'security dilemma', 'bacrim', 'coverage of colombias peace process', 'jalisco', 'coverage of colombias peace process with the farc', 'paraguay news and profile', 'coverage of erpac', 'coverage of el loco barrera', 'coverage of the beltran leyva org', 'coverage of the bacrim', 'detailed by insight crime', 'coverage of epl', 'chepe', 'coverage of victor carranza', 'coverage of the guerreros unidos', 'legalization  the gorilla in the room', 'antonio garcia', 'coverage of the peace process with the farc', 'coverage of farc  government peace talks', 'coverage of the mérida initiative', 'bolivia south americas new drug hub', 'elites and organized crime coverage', 'los valle news coverage', 'coverage of jalisco cartel', 'was a midfielder', 'coverage of mendozas', 'coverage of bolivia', 'coverage of tools and data', 'corruption in el salvador politicians', 'police and transportistas', 'guerrero unidos coverage', 'colombia news and profiles', 'profile of jalisco cartel  new generation', 'organized crime and the politics of drugs', 'coverage of colombia', 'jalisco cartel news', 'coverage of the merida initiative', 'argentina news and coverage', 'coverage of colombia peace process', 'coverage of uruguay legalization', 'coverage of tarzanes', 'as detailed in a special report by insight crime', 'the war for guatemalas courts', 'full coverage of joaquin el chapo guzman', 'nicaragua paradise lost', 'complete coverage of el chapo', 'coverage of lorenzanas', 'mexico news and profiles', 'the victory of the urabeños', 'evos challenge bolivia the drug hub', 'coverage of uruguay marijuana legalization', 'paramilitary militias', 'coverage of merida initiative', 'law enforcement', 'coverage of costa', 'rica', 'gang truce', 'coverage of la tuta', 'overage of prisons', 'c', 'more epp coverage', 'coverage of the shining path', 'our coverage on homicide rates', 'chile news and profiles', 'ms13 and barrio 18 negotiated a truce in el salvador', 'the war of paz y paz', 'celebrated former attorney general', 'coverage of guyana', 'guatemala the war of paz y paz', 'peru news and profiles', 'nicaragua news and profiles', 'coverage of mexico vigilantes', 'peru news', 'the infiltrators', 'coverage of the zetas', 'coverage of the pcc', 'bolivia news and profiles', 'coverage of the red command', 'coverage of pcc', 'jalisco cartel  new generation cjng', 'coverage of texis cartel', 'coverage of shining path', 'coverage of the texis cartel', 'coverage of the sinaloa cartel', 'coverage of the knights templar', 'coverage of ms13', 'vigilante forces', 'coverage of the machos', 'coverage of venezuela', 'rapidly proliferating selfdefense militias', 'michoacan vigilante movement', 'peace process with the farc', 'spread of vigilantism', 'coverage of the farc', 'coverage of sinaloa cartel', 'we have some 70 articles', 'coverage of knights templar', 'covergae of knights templar', 'coverage of elites  organized crime', 'coverage of the urabeños', 'coverage of the rastrojos', 'nicaragua news', 'coverage of red command', 'coverage of farc', 'longrunning investigation', 'argentina news and profiles', 'coverage of urabeños', 'coverage of mexico', 'coverage of cartel de los soles', 'ecuador news', 'argentina news', 'bolivia news', 'urabeños news and profile', 'pcc profile', 'urabeños profiles and news', 'honduras news', 'more shining path coverage', 'coverage on the zetas', 'coverage on judicial reform', 'see insight crimes coverage of organized crime in honduras', 'see insight crimes coverage of organized crime in belize', 'see insight crimes coverage of the lorenzanas', 'see insight crimes coverage of the leones', 'see insight crimes coverage of the texis cartel', 'see insight crimes complete coverage of money laundering in latin america', 'complete coverage', 'organized crime in costa rica', 'drug policy in the americas', 'see insight crimes complete news coverage of organized crime in nicaragua', 'the barrio 18', 'the ms13', 'see insight crimes coverage of the el salvador gang truce', 'read insight crimes coverage of the perrones', 'read insight crimes coverage of chepe luna', 'see insight crimes coverage of organized crime in el salvador', 'see insight crimes coverage of colombias 2011 elections', 'read insight crimes coverage of the bacrim', 'see insight crimes coverage of the aucs legacy in colombia', 'méxico', 'first capital command', 'salvadoran', 'sources', 'jalisco cartel  new generation', 'sources say', 'justice department', 'casc', 'asec', 'mx', 'snar', 'pgov', 'prel', 'pter', 'kjus', 'co', 'pinr', 'turkey', 'corruption', 'mexican cartels', 'geopolitical instability', 'hezbollah', 'terrorist organization', 'growing influence', 'prosecutor of organized crime', 'beach', 'honeymoon', 'interpol', 'seized', 'coordinated operation', 'hotspot', 'south america', 'tunnel', 'dairo antonio úsuga', 'the gulf clan', 'gang', 'gang members', 'salvadoran prison', 'president nayib bukele', 'arrest', 'guayama', 'eduardo cintrón', 'asphalt projects', 'humanitarian crises', 'meghan lopez', 'marcelo pecci', 'organizedcrime', 'prosecutor', 'latin america', 'carribean', 'transnational organized crime', 'nayib bukele', 'gangs', 'graves', 'organized crime', 'logs', 'forest', 'carlos gonzález vaca', 'david landaeta garlotti', 'el tren de aragua', 'shipments', 'diego benítez cañete', 'strengthening international cooperation', 'cargo']\n"
     ]
    }
   ],
   "source": [
    "# remove location, environmental, violence, weapons, money, human trafficking and drugs tags from the list of unique tags\n",
    "remaining_tags = [tag for tag in unique_tags if tag not in environmental_tags and tag not in violence_tags and tag not in weapons_tags and tag not in money_tags and tag not in human_trafficking_tags and tag not in drugs_tags]\n",
    "remaining_tags\n",
    "\n",
    "print(f\"{len(remaining_tags)} / {len(unique_tags)} unique tags have not been categorized yet.\")\n",
    "\n",
    "print(remaining_tags)"
   ]
  }
 ],
 "metadata": {
  "interpreter": {
   "hash": "c311e93685c2e1cf6d714a78dda97c5c1b6d9dea95c555422acd5389d6efca5f"
  },
  "kernelspec": {
   "display_name": "Python 3.10.5 ('.env-dir': venv)",
   "language": "python",
   "name": "python3"
  },
  "language_info": {
   "codemirror_mode": {
    "name": "ipython",
    "version": 3
   },
   "file_extension": ".py",
   "mimetype": "text/x-python",
   "name": "python",
   "nbconvert_exporter": "python",
   "pygments_lexer": "ipython3",
   "version": "3.10.5"
  },
  "orig_nbformat": 4
 },
 "nbformat": 4,
 "nbformat_minor": 2
}
