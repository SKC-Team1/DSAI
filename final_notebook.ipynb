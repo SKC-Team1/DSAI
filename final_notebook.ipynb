{
 "cells": [
  {
   "cell_type": "markdown",
   "metadata": {},
   "source": [
    "# Import packages"
   ]
  },
  {
   "cell_type": "code",
   "execution_count": 1,
   "metadata": {},
   "outputs": [
    {
     "name": "stderr",
     "output_type": "stream",
     "text": [
      "c:\\Users\\Misch\\AppData\\Local\\Programs\\Python\\Python310\\lib\\site-packages\\tqdm\\auto.py:22: TqdmWarning: IProgress not found. Please update jupyter and ipywidgets. See https://ipywidgets.readthedocs.io/en/stable/user_install.html\n",
      "  from .autonotebook import tqdm as notebook_tqdm\n"
     ]
    }
   ],
   "source": [
    "import os\n",
    "import re\n",
    "import unicodedata\n",
    "# %pip install spacy --quiet\n",
    "import spacy\n",
    "# %pip install pandas --quiet\n",
    "import pandas as pd\n",
    "# %pip install matplotlib --quiet\n",
    "import matplotlib.pyplot as plt\n",
    "# %pip install python-dotenv --quiet\n",
    "from dotenv import load_dotenv\n",
    "# %pip install sklearn --quiet\n",
    "from sklearn.feature_extraction.text import TfidfVectorizer\n",
    "from sklearn.model_selection import train_test_split\n",
    "from sklearn.metrics import recall_score, precision_score, f1_score, accuracy_score\n",
    "# %pip install nltk --quiet\n",
    "import nltk\n",
    "from nltk.stem import WordNetLemmatizer\n",
    "# !python -m spacy download en_core_web_sm"
   ]
  },
  {
   "cell_type": "markdown",
   "metadata": {},
   "source": [
    "# Load data"
   ]
  },
  {
   "cell_type": "code",
   "execution_count": 2,
   "metadata": {},
   "outputs": [],
   "source": [
    "# Load the environment variables\n",
    "load_dotenv()\n",
    "\n",
    "# Get the directory of the datasets\n",
    "data_dir = os.getenv(\"DATA_DIR\")\n",
    "\n",
    "# Get the directory of the articles\n",
    "articles_dir = os.path.join(data_dir, \"articles\")"
   ]
  },
  {
   "cell_type": "code",
   "execution_count": 3,
   "metadata": {},
   "outputs": [],
   "source": [
    "# Load the main dataset\n",
    "df = pd.read_csv(f\"{data_dir}/article_info_V2.csv\", index_col=0, parse_dates=[1])\n",
    "\n",
    "# Load the external dataset\n",
    "external_df = pd.read_csv(f\"{data_dir}/other-articles.csv\", index_col=0, parse_dates=[1], sep=\";\")\n",
    "\n",
    "# Load the custom categories dataset\n",
    "custom_categories = pd.read_csv(f\"{data_dir}/new-categories.csv\")"
   ]
  },
  {
   "cell_type": "code",
   "execution_count": 4,
   "metadata": {},
   "outputs": [
    {
     "name": "stderr",
     "output_type": "stream",
     "text": [
      "[nltk_data] Downloading package punkt to\n",
      "[nltk_data]     C:\\Users\\Misch\\AppData\\Roaming\\nltk_data...\n",
      "[nltk_data]   Package punkt is already up-to-date!\n",
      "[nltk_data] Downloading package wordnet to\n",
      "[nltk_data]     C:\\Users\\Misch\\AppData\\Roaming\\nltk_data...\n",
      "[nltk_data]   Package wordnet is already up-to-date!\n",
      "[nltk_data] Downloading package omw-1.4 to\n",
      "[nltk_data]     C:\\Users\\Misch\\AppData\\Roaming\\nltk_data...\n",
      "[nltk_data]   Package omw-1.4 is already up-to-date!\n"
     ]
    },
    {
     "data": {
      "text/plain": [
       "True"
      ]
     },
     "execution_count": 4,
     "metadata": {},
     "output_type": "execute_result"
    }
   ],
   "source": [
    "# Load the English spaCy model\n",
    "nlp = spacy.load(\"en_core_web_sm\")\n",
    "\n",
    "# Load the stopwords from spacy\n",
    "stop_words = spacy.lang.en.stop_words.STOP_WORDS\n",
    "\n",
    "# Load NLTK punkt package\n",
    "nltk.download(\"punkt\")\n",
    "\n",
    "# Load NLTK wordnet package\n",
    "nltk.download(\"wordnet\")\n",
    "\n",
    "# Load NLTK omw package\n",
    "nltk.download(\"omw-1.4\")"
   ]
  },
  {
   "cell_type": "code",
   "execution_count": 5,
   "metadata": {},
   "outputs": [
    {
     "name": "stdout",
     "output_type": "stream",
     "text": [
      "<class 'pandas.core.frame.DataFrame'>\n",
      "Int64Index: 10194 entries, 0 to 10193\n",
      "Data columns (total 6 columns):\n",
      " #   Column    Non-Null Count  Dtype              \n",
      "---  ------    --------------  -----              \n",
      " 0   Date      10193 non-null  datetime64[ns, UTC]\n",
      " 1   Type      10194 non-null  object             \n",
      " 2   Title     10194 non-null  object             \n",
      " 3   Tags      10194 non-null  object             \n",
      " 4   Keywords  10194 non-null  object             \n",
      " 5   Author    10194 non-null  object             \n",
      "dtypes: datetime64[ns, UTC](1), object(5)\n",
      "memory usage: 557.5+ KB\n"
     ]
    }
   ],
   "source": [
    "df.info()"
   ]
  },
  {
   "cell_type": "markdown",
   "metadata": {},
   "source": [
    "# Merge preparation"
   ]
  },
  {
   "cell_type": "code",
   "execution_count": 6,
   "metadata": {},
   "outputs": [],
   "source": [
    "# Drop unused columns\n",
    "df.drop(columns=[\"Author\", \"Type\", \"Keywords\"], inplace=True)\n",
    "\n",
    "# Reset the index of the dataframe\n",
    "df.reset_index(drop=True, inplace=True)\n",
    "\n",
    "# Remove the url column from the external dataset\n",
    "external_df.drop(columns=[\"Url\"], inplace=True)"
   ]
  },
  {
   "cell_type": "markdown",
   "metadata": {},
   "source": [
    "# Merge external dataset"
   ]
  },
  {
   "cell_type": "code",
   "execution_count": 7,
   "metadata": {},
   "outputs": [],
   "source": [
    "# Add the external dataset to the main dataset\n",
    "df = pd.concat([df, external_df])\n",
    "\n",
    "# Reset the index of the dataframe\n",
    "df.reset_index(drop=True, inplace=True)\n",
    "\n",
    "# Delete the external dataset variable\n",
    "del external_df"
   ]
  },
  {
   "cell_type": "markdown",
   "metadata": {},
   "source": [
    "# Cleaning"
   ]
  },
  {
   "cell_type": "code",
   "execution_count": 8,
   "metadata": {},
   "outputs": [],
   "source": [
    "# Remove duplicate entries by title and date\n",
    "df.drop_duplicates(subset=[\"Title\", \"Date\"], keep=\"first\", inplace=True)\n",
    "\n",
    "# Drop the date column\n",
    "df.drop(columns=[\"Date\"], inplace=True)\n",
    "\n",
    "# After receiving feedback from SKC, we decided to drop the following categories:\n",
    "custom_categories.drop(columns=[\"People\", \"Places\", \"Criminal groups\"], inplace=True)"
   ]
  },
  {
   "cell_type": "markdown",
   "metadata": {},
   "source": [
    "# Load the contents of articles"
   ]
  },
  {
   "cell_type": "code",
   "execution_count": 9,
   "metadata": {},
   "outputs": [],
   "source": [
    "# Article loading function\n",
    "def load_article(title):\n",
    "    # Create filename from title\n",
    "    file_name = f\"{title}.txt\"\n",
    "    # Get the path of the article\n",
    "    file_path = os.path.join(articles_dir, file_name)\n",
    "    try:\n",
    "        # Attempt to read the article\n",
    "        file = open(file_path, \"r\", encoding=\"utf-8\")\n",
    "    except:\n",
    "        # If the article could not be read, return None\n",
    "        return None\n",
    "    # Read the contents of the article\n",
    "    contents = file.read()\n",
    "    # Close the file\n",
    "    file.close()\n",
    "    # Return the contents of the article\n",
    "    return contents\n",
    "\n",
    "# Load the articles\n",
    "df[\"Contents\"] = df[\"Title\"].apply(load_article)\n",
    "\n",
    "# Delete the article loading function\n",
    "del load_article"
   ]
  },
  {
   "cell_type": "markdown",
   "metadata": {},
   "source": [
    "# Remove articles which cannot be found"
   ]
  },
  {
   "cell_type": "code",
   "execution_count": 10,
   "metadata": {},
   "outputs": [],
   "source": [
    "# Remove rows without article contents\n",
    "df.dropna(subset=[\"Contents\"], inplace=True)\n",
    "\n",
    "# Reset the index of the dataframe\n",
    "df.reset_index(drop=True, inplace=True)"
   ]
  },
  {
   "cell_type": "markdown",
   "metadata": {},
   "source": [
    "# Parse the old target"
   ]
  },
  {
   "cell_type": "code",
   "execution_count": 11,
   "metadata": {},
   "outputs": [
    {
     "name": "stdout",
     "output_type": "stream",
     "text": [
      "['brazil militias', 'ecuador news', 'criminal migration', 'see also', 'honeymoon', 'gang', 'chepe diablo', 'violence', 'hector beltran leyva', 'uruguay', 'otoniel', 'security policy', 'perú', 'asec', 'paraguay groups', 'gulf cartel', 'farc', 'illegal mining', 'colombia personalities', 'continue', 'invisibles', 'methamphetamine', 'trafficking in wildlife', 'bagdad', 'honduras', 'coverage of ms13', 'the truce', 'coverage of pcc', 'colombia', 'farc peace process', 'illegal mining coverage', 'profitable', 'coverage of microtrafficking', 'el ingeniero tijuana', 'alex saab', 'contrabando', 'antonio garcia', 'coverage of panama', 'sources say', 'tauted', 'mexico personalities', 'dominican republic', 'soccer crime', 'libertadores del vichada', 'cocaine traffickers', 'extorti', 'coverage of counterfeiting', 'growing influence', 'the infiltrators', 'pinr', 'el paisa', 'prel', 'el koki', 'el salvador seguro', 'money laundering', 'bacrim', 'coverage of displacement', 'coverage of infographics', 'coverage of costa', 'detecta', 'brazil', 'arrest', 'caribbean', 'coverage of coca', 'terrorist organization', 'coverage of counterfeit', 'militia groups', 'reforma policial', 'published', 'los monos', 'pgov', 'smuggling', 'chepe luna', 'timber trafficking', 'michoacan vigilante movement', 'infographics', 'coverage of argentina', 'cocaína', 'honduras personalities', 'haiti groups', 'guyana news', 'jalisco cartel news', 'cybercrime', 'valles', 'juarez cartel', 'shining path', 'bolivarian liberation forces', 'transnational organized crime', 'coverage of marijuana', 'trafficking', 'haiti personalities', 'clan rotela', 'control de droga', 'displacement', 'environmental crime', 'peace talks', 'interpol', 'salvadoran prison', 'el salvador groups', 'peace agreement', 'el mencho', 'sebastian paisas', 'the ms13', 'northeast cartel', 'guyana', 'juan chamale', 'mexico groups', 'impact', 'el chango', 'cuchillo', 'narco', 'gangs', 'peru groups', 'argentina personalities', 'police reform', 'drug policy', 'second marquetalia', 'colombia groups', 'rollercoaster ride', 'antonio garcía', 'gabino', 'diego benítez cañete', 'tarzanes', 'money laundering capacity', 'coverage of ecotrafficking', 'local media reports', 'podcast', 'walid makled', 'coverage of cuba', 'reforma judicial', 'first rejecting', 'vigilantes', 'jimmy cherizier', 'drug seizures', 'urabeños', 'canada', 'panama', 'coverage of mexico', 'eduardo cintrón', 'spread of vigilantism', 'guerrero unidos coverage', 'coverage of lorenzanas', 'belize', 'dutch caribbean', 'operation horus', 'pccbolivia', 'oil theft coverage', 'barrio 18', 'pcc profile', 'coverage of urabeños', 'drug shipments', 'ciacs', 'caribe', 'demobilized', 'knights templar', 'delitos ambientales', 'overage of prisons', 'salvadoran', 'guatemala personalities', 'arms trafficking coverage', 'coverage of farc', 'forest', 'coverage of mendozas', 'walter overdick', 'logging', 'perrones cartel', 'gender and crime', 'strengthening international cooperation', 'argentina', 'cocaine seizures', 'coverage of extradition', 'microtrafficking', 'corruption', 'el loco barrera', 'mono jojoy', 'many other positives', 'ecuador', 'coverage of gold', 'beach', 'puntilla', 'casc', 'coverage of environme', 'drug smuggling', 'generated', 'argentina groups', 'militia organizations', 'justice department', 'illegal gold mining', 'coverage of ecuador', 'paramilitary militias', 'baja california', 'dissident members', 'caracho', 'homicides', 'coverage of erpac', 'bolivia news', 'nicaragua personalities', 'crimen europeo', 'see all', 'victor carranza', 'bribery', 'dominican republic personalities', 'coverage of ciacs', 'war for juarez', 'el mayo', 'valenciano', 'paisas', 'turkey', 'coverage of guyana', 'environmental degradation', 'plan colombia', 'la tuta', 'dominican republic groups', 'guayama', 'graves', 'pijarbey', 'nicaragua paradise lost', 'coverage of chile', 'human trafficking', 'exfarc mafia', 'chile', 'homicidios', 'coverage of colombia', 'coverage of homicides', 'seizures', 'ecuador groups', 'heroin', 'coverage of suriname', 'honduras groups', 'created', 'deforestation', 'peru', 'gender', 'iván mordisco', 'coverage of vigilantes', 'linked', 'venezuela personalities', 'cartel de jalisco', 'mexico', 'méxico', 'chepe', 'políticas de seguridad', 'la unión tepito', 'bolivia', 'truce', 'crimen cibernético', 'coverage of jamaica', 'people smuggling', 'china and crime', 'pure third command', 'illegal firearms', 'leones', 'infografías', 'el doctor', 'guerreros unidos', 'asphalt projects', 'venezuelan', 'coverage on extortion', 'oficina de envigado', 'calor calor', 'law enforcement', 'coverage of megabandas', 'narcotrafficking', 'prosecutor', 'drug cartels', 'triple frontier', 'rastrojos', 'cocaine production coverage', 'shipments', 'megateo', 'coverage of bacrim', 'increased', 'organizedcrime', 'los machos', 'francisco zeledon', 'colectivos', 'ecuador personalities', 'prisons', 'the gulf clan', 'murder', 'argentina news', 'wildlife trafficking', 'alias el mencho', 'élites y crimen', 'el salvador', 'president nayib bukele', 'los caparrapos', 'in colombia', 'surina', 'kidnapping', 'tunnel', 'la organización', 'dairo antonio úsuga', 'narcoculture', 'red scorpions', 'cuba', 'pter', 'corrupt state officials', 'carribean', 'oil theft', 'tony hernández', 'drug trafficking', 'coverage of narcoculture', 'mérida initiative', 'sources', 'northern triangle', 'diego rastrojo', 'venezuela groups', 'farc peace', 'panama personalities', 'alfonso cano', 'sinaloa cartel', 'megabandas', 'more cases', 'narcocultura', 'coverage farc peace', 'jalisco', 'south america', 'coverage of homicide', 'all about contraband', 'covid y crimen', 'el chayo', 'more epp coverage', 'hezbollah', 'destacado', 'featured', 'armed colectivos', 'nicaragua groups', 'longrunning investigation', 'tren de aragua', 'synthetics', 'security dilemma', 'operation', 'usmexico border', 'fuel theft', 'human rights', 'assissination', 'zetas', 'mi sangre', 'marijuana', 'coverage of tarzanes', 'el coss', 'complete coverage', 'peru personalities', 'truces', 'coverage of kidnapping', 'coverage of paraguay', 'la familia michoacana', 'arms trafficking', 'paraguay personalities', 'norte del valle', 'coverage of canada', 'rica', 'covid and crime', 'operation archimedes', 'reported', 'ntal crime', 'judicial reform', 'gang truce', 'erpac', 'peru news', 'brazil groups', 'european organized crime', 'coverage of belize', 'timochenko', 'coverage of heroin', 'geopolitical instability', 'amigos dos amigos', 'illegal fishing', 'coca', 'texis cartel', 'europe crime', 'fentanyl', 'cargo', 'coverage of extortion', 'panama groups', 'ayotzinapa', 'suriname', 'coverage of cocaine', 'elites and crime', 'what works', 'paraguay', 'perfiles geográficos', 'extradition', 'jamaica', 'cartel de sinaloa', 'comba', 'puerto rico', 'coverage of contraband', 'popular liberation army', 'synthetic drugs', 'don berna', 'el barney', 'barrio azteca', 'reñazcos', 'el azul', 'coverage of epp', 'microtrafficking coverage', 'coverage of venezuela', 'here', 'was a midfielder', 'hotspot', 'the barrio 18', 'tijuana cartel', 'human smuggling', 'coverage of slavery', 'amauri carmona morelos', 'coverage of bolivia', 'los chamalé', 'police and transportistas', 'nayib bukele', 'vigilante forces', 'guatemala groups', 'jalisco cartel', 'extortion', 'carlos gonzález vaca', 'sebastian oficina', 'descent into chaos', 'contraband', 'geographic profiles', 'megabanda', 'cachiros', 'surging gold prices', 'alias 24', 'tony tormenta', 'el salvador personalities', 'nicaragua', 'colombia mafia', 'cocaine', 'haiti', 'iván márquez', 'marcelo pecci', 'dissident groups', 'carsi', 'ms13', 'counterfeit', 'venezuela', 'gamechangers', 'first capital command', 'eln peace', 'red command', 'violent crimes', 'alejandro flores cacho', 'coverage of prisons', 'mexican cartels', 'david landaeta garlotti', 'environmental crimes', 'beltran leyva org', 'coverage of cybercrime', 'coca coverage', 'el viceroy', 'costa rica', 'ministries', 'gentil duarte', 'el ingeniero juarez', 'coverage of haiti', 'nicaragua news', 'el chapo', 'coverage of epl', 'kjus', 'coverage of fentanyl', 'coverage of mining', 'timber', 'snar', 'slain by gunmen', 'giovanni', 'mendozas', 'honduras news', 'gold', 'latin america', 'joaquín guzmán loera', 'gang members', 'reynerio flores', 'brazil personalities', 'peace process', 'ndrangheta', 'águilas negras', 'lorenzanas', 'merida initiative', 'paraguay news', 'guatemala']\n"
     ]
    }
   ],
   "source": [
    "# Define functions to parse target\n",
    "def clean_string(str):\n",
    "    # Make the string lowercase\n",
    "    str = str.lower()\n",
    "    # Remove all non-alphanumeric characters\n",
    "    str = re.sub(r\"[^\\w\\s]\", \"\", str)\n",
    "    # Remove the leading and trailing spaces\n",
    "    return str.strip()\n",
    "\n",
    "def parse_tags(str):\n",
    "    # Split the string on each comma\n",
    "    raw_list = str.split(\",\")\n",
    "    # Clean every string in the list\n",
    "    return list(map(clean_string, raw_list))\n",
    "\n",
    "\n",
    "def get_unique_values(list_of_lists):\n",
    "    # Get a list of unique tags from a list of lists\n",
    "    unique_values = list(set([value for value_list in list_of_lists for value in value_list]))\n",
    "    # Filter out any values that are empty\n",
    "    unique_values = [tag for tag in unique_values if tag]\n",
    "    # Return the unique values\n",
    "    return unique_values\n",
    "\n",
    "# Convert the raw string values of the Tags column to lists of strings\n",
    "df[\"Tags\"] = df[\"Tags\"].apply(parse_tags)\n",
    "\n",
    "# Get all the unique tags from the Tags column\n",
    "unique_tags = get_unique_values(df[\"Tags\"])\n",
    "\n",
    "# Create a list of words which should not occur in the tags\n",
    "forbidden_words = [\"COVERAGE\", \"SEE\", \"INSIGHT CRIME\", \"SOURCES\", \"THE\", \"LINKED\", \"MEDIA\", \"CREATED\", \"HOTSPOT\", \"CARGO\", \"MORE\"]\n",
    "\n",
    "# Remove any tag that contains forbidden words\n",
    "unique_tags = [tag for tag in unique_tags if not any(word in tag for word in forbidden_words)]\n",
    "\n",
    "# Remove any tag that contains less than 3 characters\n",
    "unique_tags = [tag for tag in unique_tags if len(tag) > 3]\n",
    "\n",
    "# Remove any tag that contains more than 3 words\n",
    "unique_tags = [tag for tag in unique_tags if len(tag.split()) <= 3]\n",
    "\n",
    "print(unique_tags)\n",
    "\n",
    "# Delete the variables that are no longer needed\n",
    "del clean_string, parse_tags, forbidden_words, get_unique_values"
   ]
  },
  {
   "cell_type": "markdown",
   "metadata": {},
   "source": [
    "# (Temporary) Validate all the remaining tags using the InSight Crime website"
   ]
  },
  {
   "cell_type": "code",
   "execution_count": 12,
   "metadata": {},
   "outputs": [],
   "source": [
    "# import requests\n",
    "\n",
    "# # Make all unique tags lowercase\n",
    "# unique_tags = [tag.lower() for tag in unique_tags]\n",
    "# # Replace all non-ascii characters with ascii equivalents\n",
    "# unique_tags = [unicodedata.normalize(\"NFKD\", tag).encode(\"ascii\", \"ignore\").decode(\"ascii\") for tag in unique_tags]\n",
    "# # Join the words in every unique tag together with dashes\n",
    "# unique_tags = [\"-\".join(tag.split()) for tag in unique_tags]\n",
    "# # Create a url using the unique tags and https://insightcrime.org/tag/ as the prefix\n",
    "# urls = [\"https://insightcrime.org/tag/\" + tag for tag in unique_tags]\n",
    "# # Send a GET request to each of the urls\n",
    "# for url in urls:\n",
    "#     # Send a GET request to the tag\n",
    "#     response = requests.get(url)\n",
    "#     # Print the current tag and response code to the console\n",
    "#     print(f\"{url} - {response.status_code}\")\n",
    "#     # If the response is 404, then remove the tag from the list\n",
    "#     if response.status_code == 404:\n",
    "#         # Remove the prefix from the url\n",
    "#         tag = url.replace(\"https://insightcrime.org/tag/\", \"\")\n",
    "#         # Remove the unique tag\n",
    "#         unique_tags.remove(tag)\n",
    "\n",
    "# # Advice: Replace tags that are similar by the valid tag - e.g. paraguay news, paraguay -> paraguay"
   ]
  },
  {
   "cell_type": "markdown",
   "metadata": {},
   "source": [
    "# Create the new target"
   ]
  },
  {
   "cell_type": "code",
   "execution_count": 13,
   "metadata": {},
   "outputs": [],
   "source": [
    "def increment_counters(counters, category_name):\n",
    "    # Check if the category is in the counters dictionary\n",
    "    if category_name not in counters:\n",
    "        # If the category does not exist in the counters, create it\n",
    "        counters[category_name] = 1\n",
    "    else:\n",
    "        # If the category exists in the counters, increment the counter\n",
    "        counters[category_name] += 1\n",
    "\n",
    "def iterate_categories(counters, tag):\n",
    "    # Iterate over the categories\n",
    "    for category_name in categories:\n",
    "        # Get the current category\n",
    "        category = categories[category_name]\n",
    "        # Check if the tag is in the category list\n",
    "        if tag in category:\n",
    "            # Increment the counter of the category\n",
    "            increment_counters(counters, category_name)\n",
    "\n",
    "# Define a function to parse the custom categories into a list of strings\n",
    "def load_category(name):\n",
    "    try:\n",
    "        # Load the category as a list while removing empty values\n",
    "        return custom_categories[name].dropna().tolist()\n",
    "    except:\n",
    "        return None\n",
    "\n",
    "# Initiate the category dictionary\n",
    "categories = {}\n",
    "\n",
    "# Iterate over these custom_categories columns\n",
    "for category_name in custom_categories.columns:\n",
    "    # Load the category\n",
    "    categories[category_name] = load_category(category_name)\n",
    "\n",
    "# Create a new column for the category\n",
    "df[\"Category\"] = \"\"\n",
    "\n",
    "# Iterate over the dataframe to create the category for each article\n",
    "for index, row in df.iterrows():\n",
    "    # Get the tags of the current row\n",
    "    tag_list = row[\"Tags\"]\n",
    "\n",
    "    # Create a dictionary for the counters of the categories for this article\n",
    "    counters = {}\n",
    "\n",
    "    # Iterate over every tag in the tag list\n",
    "    for tag in tag_list:\n",
    "        iterate_categories(counters, tag)\n",
    "\n",
    "    # Check if any category was found for this article\n",
    "    if len(counters) == 0:\n",
    "        # If no matching category was found, assign the default category to the row\n",
    "        row[\"Category\"] = \"Other\"\n",
    "    else:\n",
    "        # Get the category with the highest counter and assign it to the row\n",
    "        row[\"Category\"] = max(counters, key=counters.get)\n",
    "\n",
    "# Delete the variables that are no longer needed\n",
    "del load_category"
   ]
  },
  {
   "cell_type": "markdown",
   "metadata": {},
   "source": [
    "# Drop the old target column"
   ]
  },
  {
   "cell_type": "code",
   "execution_count": 14,
   "metadata": {},
   "outputs": [],
   "source": [
    "# Removes the tags column from the dataframe\n",
    "df.drop(columns=[\"Tags\"], inplace=True)"
   ]
  },
  {
   "cell_type": "markdown",
   "metadata": {},
   "source": [
    "# Remove articles with the \"Other\" (default) category"
   ]
  },
  {
   "cell_type": "code",
   "execution_count": 15,
   "metadata": {},
   "outputs": [],
   "source": [
    "# Drop rows with the other category\n",
    "df.drop(df[df[\"Category\"] == \"Other\"].index, inplace=True)"
   ]
  },
  {
   "cell_type": "markdown",
   "metadata": {},
   "source": [
    "# Visualizations"
   ]
  },
  {
   "cell_type": "code",
   "execution_count": 16,
   "metadata": {},
   "outputs": [
    {
     "data": {
      "image/png": "[encoded data removed]",
      "text/plain": [
       "<Figure size 864x576 with 1 Axes>"
      ]
     },
     "metadata": {
      "needs_background": "light"
     },
     "output_type": "display_data"
    }
   ],
   "source": [
    "category_counts = df[\"Category\"].value_counts()\n",
    "plt.figure(figsize=(12, 8))\n",
    "plt.title(\"Category distribution\")\n",
    "plt.ylabel(\"Number of articles\")\n",
    "plt.bar(category_counts.index, category_counts.values)\n",
    "plt.show()"
   ]
  },
  {
   "cell_type": "markdown",
   "metadata": {},
   "source": [
    "# Prepare input data"
   ]
  },
  {
   "cell_type": "code",
   "execution_count": 17,
   "metadata": {},
   "outputs": [],
   "source": [
    "lemmatizer = WordNetLemmatizer()\n",
    "\n",
    "# Lemmatize the words in sentences\n",
    "def lemmatize_sentences(sentences):\n",
    "    # Create a new list of lemmatized sentences\n",
    "    cleaned_sentences = []\n",
    "    # Iterate over every sentence\n",
    "    for sentence in sentences:\n",
    "        # Convert the sentence tokens\n",
    "        words = nltk.word_tokenize(sentence)\n",
    "        # Remove digits from the words\n",
    "        words = [word for word in words if not word.isdigit()]\n",
    "        # Remove stopwords from the words\n",
    "        words = [word for word in words if word not in stop_words]\n",
    "        # Lemmatize the words\n",
    "        words = [lemmatizer.lemmatize(word) for word in words]\n",
    "        # Remove words with less than 4 characters\n",
    "        words = [word for word in words if len(word) > 3]\n",
    "        # Check if the number of words is greater than 0\n",
    "        if len(words) > 0:\n",
    "            # Add the words to the list of cleaned sentences\n",
    "            cleaned_sentences.append(words)\n",
    "    # Return the cleaned sentences\n",
    "    return cleaned_sentences\n",
    "\n",
    "def text_to_sentences(text):\n",
    "    # Make text lowercase\n",
    "    text = text.lower()\n",
    "    # Replace non ascii characters with their ascii counterpart\n",
    "    text = unicodedata.normalize(\"NFKD\", text).encode(\"ascii\", \"ignore\").decode(\"utf-8\", \"ignore\")\n",
    "    # Remove digits from the text\n",
    "    text = re.sub(r\"\\d+\", \"\", text)\n",
    "    # Remove words with non-alphanumeric characters\n",
    "    text = re.sub(r\"[^a-zA-Z0-9]\", \" \", text)\n",
    "    # Remove double whitespace\n",
    "    text = re.sub(r\"\\s+\", \" \", text)\n",
    "    # Split the text into sentences\n",
    "    sentences = nltk.sent_tokenize(text)\n",
    "    # Lemmatize the sentences\n",
    "    sentences = lemmatize_sentences(sentences)\n",
    "    # Remove empty sentences\n",
    "    sentences = list(filter(None, sentences))\n",
    "    # Join the words in sentences together as a string\n",
    "    sentences = list(map(lambda x: \" \".join(x), sentences))\n",
    "    # Return the list of sentences\n",
    "    return sentences\n",
    "\n",
    "# Create a new column for the sentences of the articles\n",
    "df[\"Sentences\"] = df[\"Contents\"].apply(text_to_sentences)\n",
    "\n",
    "# Delete variables that are no longer needed\n",
    "del lemmatizer"
   ]
  },
  {
   "cell_type": "markdown",
   "metadata": {},
   "source": [
    "# Convert input data to a TfidfVector"
   ]
  },
  {
   "cell_type": "code",
   "execution_count": 18,
   "metadata": {},
   "outputs": [],
   "source": [
    "# Check if a column/word occurs in at least 20 articles and in max 50% of the articles\n",
    "def check_column(column):\n",
    "    count = column.value_counts()[column.value_counts() > 0].count()\n",
    "    return count >= 20 and count / len(column) < 0.5\n",
    "\n",
    "# Create a vocabulary of words from the sentences\n",
    "documents = df[\"Sentences\"].apply(lambda x: \" \".join(x)).tolist()\n",
    "\n",
    "# Create a new TfidfVectorizer\n",
    "tfidf_vectorizer = TfidfVectorizer()\n",
    "\n",
    "# Create a TFIDF matrix from the sentences\n",
    "values = tfidf_vectorizer.fit_transform(documents)\n",
    "\n",
    "# Get the column names of the TFIDF matrix\n",
    "feature_names = tfidf_vectorizer.get_feature_names_out()\n",
    "\n",
    "# Create a new dataframe from the TFIDF matrix\n",
    "vector_df = pd.DataFrame(values.toarray(), columns=feature_names)\n",
    "\n",
    "# Get columns that do not match the criteria of the check_column function\n",
    "columns_to_drop = list(filter(lambda x: not check_column(vector_df[x]), vector_df.columns))\n",
    "\n",
    "# Remove all columns that did not match the criteria\n",
    "vector_df.drop(columns=columns_to_drop, inplace=True)"
   ]
  },
  {
   "cell_type": "markdown",
   "metadata": {},
   "source": [
    "# Modelling"
   ]
  },
  {
   "cell_type": "code",
   "execution_count": 19,
   "metadata": {},
   "outputs": [],
   "source": [
    "# Some functions to display metrics of a model's performance\n",
    "def specificity_score(target, predictions):\n",
    "    return 1 - recall_score(target, predictions, average=\"weighted\")\n",
    "\n",
    "def get_metrics(target, predictions):\n",
    "    return {\n",
    "        \"recall\": recall_score(target, predictions, average=\"weighted\"),\n",
    "        \"precision\": precision_score(target, predictions, average=\"weighted\"),\n",
    "        \"accuracy\": accuracy_score(target, predictions),\n",
    "        \"specificity\": specificity_score(target, predictions),\n",
    "        \"f1\": f1_score(target, predictions, average=\"weighted\"),\n",
    "    }\n",
    "\n",
    "def print_metrics(target, predictions):\n",
    "    metrics = get_metrics(target=target, predictions=predictions)\n",
    "    for metric in metrics:\n",
    "        str_metric = \"{:.2f}\".format(metrics[metric] * 100)+\"%\"\n",
    "        print(f\"{metric}: {str_metric}\")"
   ]
  },
  {
   "cell_type": "markdown",
   "metadata": {},
   "source": [
    "# Split train and test data"
   ]
  },
  {
   "cell_type": "code",
   "execution_count": 20,
   "metadata": {},
   "outputs": [],
   "source": [
    "# Get input data\n",
    "X = vector_df\n",
    "# Get target data\n",
    "y = pd.get_dummies(df[\"Category\"])\n",
    "\n",
    "# Split the data into training, testing and validation data\n",
    "X_train, X_test, y_train, y_test = train_test_split(X, y, test_size=0.2)\n",
    "X_train, X_val, y_train, y_val = train_test_split(X_train, y_train, test_size=0.25)"
   ]
  },
  {
   "cell_type": "markdown",
   "metadata": {},
   "source": [
    "# Decision Tree Classifier"
   ]
  },
  {
   "cell_type": "code",
   "execution_count": 21,
   "metadata": {},
   "outputs": [],
   "source": [
    "from sklearn.tree import DecisionTreeClassifier\n",
    "\n",
    "# Create a DecisionTreeClassifier model\n",
    "dtc = DecisionTreeClassifier(max_depth=50, random_state=42)\n",
    "\n",
    "# Fit and train the model\n",
    "dtc = dtc.fit(X_train, y_train)"
   ]
  },
  {
   "cell_type": "code",
   "execution_count": 36,
   "metadata": {},
   "outputs": [
    {
     "name": "stdout",
     "output_type": "stream",
     "text": [
      "Test data:\n",
      "recall: 36.93%\n",
      "precision: 36.95%\n",
      "accuracy: 36.93%\n",
      "specificity: 63.07%\n",
      "f1: 36.88%\n",
      "\n",
      "Train data:\n",
      "recall: 99.84%\n",
      "precision: 100.00%\n",
      "accuracy: 99.84%\n",
      "specificity: 0.16%\n",
      "f1: 99.92%\n",
      "\n",
      "Validation data:\n",
      "recall: 38.25%\n",
      "precision: 38.02%\n",
      "accuracy: 38.25%\n",
      "specificity: 61.75%\n",
      "f1: 38.07%\n"
     ]
    }
   ],
   "source": [
    "# Predict the test data\n",
    "y_pred_dtc = dtc.predict(X_test)\n",
    "\n",
    "# Predict the training data\n",
    "y_pred_dtc_train = dtc.predict(X_train)\n",
    "\n",
    "# Predict the validation data\n",
    "y_pred_dtc_val = dtc.predict(X_val)\n",
    "\n",
    "# Print the metrics of the test data\n",
    "print(\"Test data:\")\n",
    "print_metrics(y_test, y_pred_dtc)\n",
    "\n",
    "# Print the metrics of the training data\n",
    "print(\"\\nTrain data:\")\n",
    "print_metrics(y_train, y_pred_dtc_train)\n",
    "\n",
    "# Print the metrics of the validation data\n",
    "print(\"\\nValidation data:\")\n",
    "print_metrics(y_val, y_pred_dtc_val)"
   ]
  },
  {
   "cell_type": "markdown",
   "metadata": {},
   "source": [
    "# Random Forest Classifier"
   ]
  },
  {
   "cell_type": "code",
   "execution_count": 23,
   "metadata": {},
   "outputs": [],
   "source": [
    "from sklearn.ensemble import RandomForestClassifier\n",
    "\n",
    "# Create a DecisionTreeClassifier model\n",
    "rfc = RandomForestClassifier()\n",
    "\n",
    "# Fit and train the model\n",
    "rfc = rfc.fit(X_train,y_train)"
   ]
  },
  {
   "cell_type": "code",
   "execution_count": 37,
   "metadata": {},
   "outputs": [
    {
     "name": "stdout",
     "output_type": "stream",
     "text": [
      "Test data:\n",
      "recall: 22.95%\n",
      "precision: 64.50%\n",
      "accuracy: 22.95%\n",
      "specificity: 77.05%\n",
      "f1: 29.76%\n",
      "\n",
      "Train data:\n",
      "recall: 99.82%\n",
      "precision: 100.00%\n",
      "accuracy: 99.82%\n",
      "specificity: 0.18%\n",
      "f1: 99.91%\n",
      "\n",
      "Validation data:\n",
      "recall: 24.73%\n",
      "precision: 64.24%\n",
      "accuracy: 24.73%\n",
      "specificity: 75.27%\n",
      "f1: 31.08%\n"
     ]
    },
    {
     "name": "stderr",
     "output_type": "stream",
     "text": [
      "c:\\Users\\Misch\\AppData\\Local\\Programs\\Python\\Python310\\lib\\site-packages\\sklearn\\metrics\\_classification.py:1327: UndefinedMetricWarning: Precision is ill-defined and being set to 0.0 in labels with no predicted samples. Use `zero_division` parameter to control this behavior.\n",
      "  _warn_prf(average, modifier, msg_start, len(result))\n",
      "c:\\Users\\Misch\\AppData\\Local\\Programs\\Python\\Python310\\lib\\site-packages\\sklearn\\metrics\\_classification.py:1327: UndefinedMetricWarning: Precision is ill-defined and being set to 0.0 in labels with no predicted samples. Use `zero_division` parameter to control this behavior.\n",
      "  _warn_prf(average, modifier, msg_start, len(result))\n"
     ]
    }
   ],
   "source": [
    "# Predict the test data\n",
    "y_pred_rfc = rfc.predict(X_test)\n",
    "\n",
    "# Predict the training data\n",
    "y_pred_rfc_train = rfc.predict(X_train)\n",
    "\n",
    "# Predict the validation data\n",
    "y_pred_rfc_val = rfc.predict(X_val)\n",
    "\n",
    "# Print the metrics of the test data\n",
    "print(\"Test data:\")\n",
    "print_metrics(y_test, y_pred_rfc)\n",
    "\n",
    "# Print the metrics of the training data\n",
    "print(\"\\nTrain data:\")\n",
    "print_metrics(y_train, y_pred_rfc_train)\n",
    "\n",
    "# Print the metrics of the validation data\n",
    "print(\"\\nValidation data:\")\n",
    "print_metrics(y_val, y_pred_rfc_val)"
   ]
  },
  {
   "cell_type": "markdown",
   "metadata": {},
   "source": [
    "# K-Neighbors Classifier"
   ]
  },
  {
   "cell_type": "code",
   "execution_count": 35,
   "metadata": {},
   "outputs": [],
   "source": [
    "from sklearn.neighbors import KNeighborsClassifier\n",
    "\n",
    "# Create the KNeighborsClassifier model\n",
    "knn = KNeighborsClassifier()\n",
    "\n",
    "# Fit and train the model\n",
    "knn = knn.fit(X_train,y_train)"
   ]
  },
  {
   "cell_type": "code",
   "execution_count": 38,
   "metadata": {},
   "outputs": [
    {
     "name": "stdout",
     "output_type": "stream",
     "text": [
      "Test data:\n",
      "recall: 19.42%\n",
      "precision: 52.14%\n",
      "accuracy: 19.42%\n",
      "specificity: 80.58%\n",
      "f1: 23.62%\n",
      "\n",
      "Train data:\n",
      "recall: 34.19%\n",
      "precision: 78.52%\n",
      "accuracy: 34.19%\n",
      "specificity: 65.81%\n",
      "f1: 41.18%\n",
      "\n",
      "Validation data:\n",
      "recall: 21.13%\n",
      "precision: 55.54%\n",
      "accuracy: 21.13%\n",
      "specificity: 78.87%\n",
      "f1: 26.10%\n"
     ]
    }
   ],
   "source": [
    "# Predict the test data\n",
    "y_pred_knn = knn.predict(X_test)\n",
    "\n",
    "# Predict the training data\n",
    "y_pred_knn_train = knn.predict(X_train)\n",
    "\n",
    "# Predict the validation data\n",
    "y_pred_knn_val = knn.predict(X_val)\n",
    "\n",
    "# Print the metrics of the test data\n",
    "print(\"Test data:\")\n",
    "print_metrics(y_test, y_pred_knn)\n",
    "\n",
    "# Print the metrics of the training data\n",
    "print(\"\\nTrain data:\")\n",
    "print_metrics(y_train, y_pred_knn_train)\n",
    "\n",
    "# Print the metrics of the validation data\n",
    "print(\"\\nValidation data:\")\n",
    "print_metrics(y_val, y_pred_knn_val)"
   ]
  },
  {
   "cell_type": "code",
   "execution_count": 41,
   "metadata": {},
   "outputs": [
    {
     "name": "stderr",
     "output_type": "stream",
     "text": [
      "c:\\Users\\Misch\\AppData\\Local\\Programs\\Python\\Python310\\lib\\site-packages\\sklearn\\metrics\\_classification.py:1327: UndefinedMetricWarning: Precision is ill-defined and being set to 0.0 in labels with no predicted samples. Use `zero_division` parameter to control this behavior.\n",
      "  _warn_prf(average, modifier, msg_start, len(result))\n"
     ]
    },
    {
     "data": {
      "image/png": "[encoded data removed]",
      "text/plain": [
       "<Figure size 432x288 with 1 Axes>"
      ]
     },
     "metadata": {
      "needs_background": "light"
     },
     "output_type": "display_data"
    }
   ],
   "source": [
    "dtc_metrics = get_metrics(y_test, y_pred_dtc)\n",
    "rfc_metrics = get_metrics(y_test, y_pred_rfc)\n",
    "knn_metrics = get_metrics(y_test, y_pred_knn)\n",
    "# Show all metrics in a bar chart\n",
    "plt.title(\"Performance of the models\")\n",
    "plt.ylabel(\"F1 score\")\n",
    "plt.bar([\"Decision Tree\", \"Random Forest\", \"KNN\"], [dtc_metrics[\"f1\"], rfc_metrics[\"f1\"], knn_metrics[\"f1\"]])\n",
    "plt.show()"
   ]
  },
  {
   "cell_type": "code",
   "execution_count": 27,
   "metadata": {},
   "outputs": [],
   "source": [
    "from spacy.matcher import Matcher\n",
    "matcher = Matcher(nlp.vocab)\n",
    "\n",
    "# Create a new column called Keywords\n",
    "df[\"Keywords\"] = \"\"\n",
    "\n",
    "# Write multiple patterns to find if an article contains cocaine etc.\n",
    "pattern = [\n",
    "# Drugs\n",
    "[{\"LEMMA\": \"drug\"},{\"POS\": \"NOUN\", \"OP\": \"?\"}],\n",
    "[{\"POS\": \"ADJ\", \"OP\": \"?\"},{\"TEXT\": \"cocaine\"},{\"POS\": \"NOUN\", \"OP\": \"?\"}],\n",
    "# Environmental crimes\n",
    "[{\"LEMMA\": \"deforestation\"}],\n",
    "[{\"LEMMA\": \"environment\"}],\n",
    "[{\"LEMMA\": \"illegal\"},{\"POS\": \"NOUN\", \"OP\": \"?\"}],\n",
    "# Violence\n",
    "[{\"LEMMA\": \"violence\"}],\n",
    "[{\"TEXT\": \"violent\"},{\"POS\": \"NOUN\", \"OP\": \"?\"}],\n",
    "[{\"LEMMA\": \"kidnap\"}],\n",
    "[{\"POS\": \"NOUN\", \"OP\": \"?\"},{\"LEMMA\": \"threat\"}],\n",
    "[{\"LEMMA\": \"murder\"}],\n",
    "[{\"LEMMA\": \"shoot\"}],\n",
    "[{\"TEXT\": \"death\"}],\n",
    "[{\"TEXT\": \"assassin\"}],\n",
    "[{\"LEMMA\": \"robbery\"}],\n",
    "[{\"TEXT\": \"hitman\"}],\n",
    "[{\"TEXT\": \"dead\"}],\n",
    "[{\"TEXT\": \"execution\"}],\n",
    "[{\"POS\": \"NOUN\", \"OP\": \"?\"},{\"LEMMA\": \"killing\"}],\n",
    "# Weapons\n",
    "[{\"POS\": \"ADJ\", \"OP\": \"?\"},{\"LEMMA\": \"weapon\"},{\"POS\": \"NOUN\", \"OP\": \"?\"}],\n",
    "[{\"POS\": \"VERB\", \"OP\": \"?\"},{\"LEMMA\": \"weapon\"}],\n",
    "[{\"LEMMA\": \"arms\"},{\"POS\": \"NOUN\", \"OP\": \"?\"}],\n",
    "[{\"LEMMA\": \"gun\"},{\"POS\": \"NOUN\", \"OP\": \"?\"}],\n",
    "[{\"TEXT\": \"AK-47\"}],\n",
    "[{\"LEMMA\": \"explosive\"}],\n",
    "[{\"POS\": \"NOUN\", \"OP\": \"?\"},{\"LEMMA\": \"rifle\"}],\n",
    "# Trafficking\n",
    "[{\"POS\": \"ADJ\", \"OP\": \"?\"},{\"LEMMA\": \"human\"},{\"POS\": \"NOUN\", \"OP\": \"?\"}],\n",
    "[{\"POS\": \"NOUN\", \"OP\":\"?\"},{\"LEMMA\": \"trafficking\"}],\n",
    "[{\"TEXT\": \"traffickers\"}],\n",
    "# Money\n",
    "[{\"POS\": \"ADJ\", \"OP\": \"?\"},{\"LEMMA\": \"laundering\"},{\"POS\": \"NOUN\", \"OP\": \"?\"}],\n",
    "[{\"TEXT\": \"fraudulent\"}],\n",
    "[{\"LEMMA\": \"fraude\"}],\n",
    "[{\"LEMMA\": \"money\"}],\n",
    "[{\"LEMMA\": \"corruption\"}],\n",
    "# Other\n",
    "]\n",
    "\n",
    "# Add the pattern to the matcher and \n",
    "matcher.add(\"DETERMINE CATEGORY\", [pattern][0])\n",
    "\n",
    "# Set the index of the article content\n",
    "i = 0\n",
    "# Loop over all articles contents\n",
    "for content in df[\"Contents\"][0:10]:\n",
    "    doc = nlp(content)\n",
    "    # Apply the matcher to the doc\n",
    "    matches = matcher(doc)\n",
    "    # Create an empty array for all keywords per article\n",
    "    all_generated_keywords = []\n",
    "    # Iterate over the matches and append them to an array\n",
    "    for match_id, start, end in matches:\n",
    "        all_generated_keywords.append(doc[start:end].text)\n",
    "    # Remove duplicates from array and assign them to variable\n",
    "    duplicates_removed =  list(dict.fromkeys(all_generated_keywords))\n",
    "    # Append keywords without duplicates to the Keywords column in the dataframe\n",
    "    df[\"Keywords\"][i] = duplicates_removed\n",
    "    # Increase the index of the article content\n",
    "    i += 1"
   ]
  },
  {
   "cell_type": "code",
   "execution_count": 28,
   "metadata": {},
   "outputs": [],
   "source": [
    "# Check if a column/word occurs in at least 20 articles and in max 50% of the articles\n",
    "def check_column(column):\n",
    "    count = column.value_counts()[column.value_counts() > 0].count()\n",
    "    return count >= 20 and count / len(column) < 0.5\n",
    "\n",
    "# Create a vocabulary of words from the sentences\n",
    "documents = df[\"Keywords\"].apply(lambda x: \" \".join(x)).tolist()\n",
    "\n",
    "# Create a new TfidfVectorizer\n",
    "tfidf_vectorizer = TfidfVectorizer()\n",
    "\n",
    "# Create a TFIDF matrix from the sentences\n",
    "values = tfidf_vectorizer.fit_transform(documents)\n",
    "\n",
    "# Get the column names of the TFIDF matrix\n",
    "feature_names = tfidf_vectorizer.get_feature_names_out()\n",
    "\n",
    "# Create a new dataframe from the TFIDF matrix\n",
    "new_vector_df = pd.DataFrame(values.toarray(), columns=feature_names)\n",
    "\n",
    "# Drop rows that contain 0 values in all columns\n",
    "new_vector_df = new_vector_df.loc[new_vector_df.apply(lambda x: sum(x) > 0, axis=1)]"
   ]
  },
  {
   "cell_type": "code",
   "execution_count": 29,
   "metadata": {},
   "outputs": [
    {
     "data": {
      "text/html": [
       "<div>\n",
       "<style scoped>\n",
       "    .dataframe tbody tr th:only-of-type {\n",
       "        vertical-align: middle;\n",
       "    }\n",
       "\n",
       "    .dataframe tbody tr th {\n",
       "        vertical-align: top;\n",
       "    }\n",
       "\n",
       "    .dataframe thead th {\n",
       "        text-align: right;\n",
       "    }\n",
       "</style>\n",
       "<table border=\"1\" class=\"dataframe\">\n",
       "  <thead>\n",
       "    <tr style=\"text-align: right;\">\n",
       "      <th></th>\n",
       "      <th>activity</th>\n",
       "      <th>arms</th>\n",
       "      <th>cargo</th>\n",
       "      <th>cocaine</th>\n",
       "      <th>consumer</th>\n",
       "      <th>corruption</th>\n",
       "      <th>crusade</th>\n",
       "      <th>dead</th>\n",
       "      <th>deforestation</th>\n",
       "      <th>drug</th>\n",
       "      <th>...</th>\n",
       "      <th>significant</th>\n",
       "      <th>smuggling</th>\n",
       "      <th>threats</th>\n",
       "      <th>trade</th>\n",
       "      <th>trafficker</th>\n",
       "      <th>traffickers</th>\n",
       "      <th>trafficking</th>\n",
       "      <th>transnational</th>\n",
       "      <th>use</th>\n",
       "      <th>violence</th>\n",
       "    </tr>\n",
       "  </thead>\n",
       "  <tbody>\n",
       "    <tr>\n",
       "      <th>0</th>\n",
       "      <td>0.000000</td>\n",
       "      <td>0.078852</td>\n",
       "      <td>0.000000</td>\n",
       "      <td>0.656263</td>\n",
       "      <td>0.000000</td>\n",
       "      <td>0.078852</td>\n",
       "      <td>0.078852</td>\n",
       "      <td>0.078852</td>\n",
       "      <td>0.000000</td>\n",
       "      <td>0.510427</td>\n",
       "      <td>...</td>\n",
       "      <td>0.000000</td>\n",
       "      <td>0.000000</td>\n",
       "      <td>0.000000</td>\n",
       "      <td>0.226143</td>\n",
       "      <td>0.000000</td>\n",
       "      <td>0.150762</td>\n",
       "      <td>0.213024</td>\n",
       "      <td>0.157704</td>\n",
       "      <td>0.000000</td>\n",
       "      <td>0.000000</td>\n",
       "    </tr>\n",
       "    <tr>\n",
       "      <th>1</th>\n",
       "      <td>0.000000</td>\n",
       "      <td>0.000000</td>\n",
       "      <td>0.000000</td>\n",
       "      <td>0.000000</td>\n",
       "      <td>0.000000</td>\n",
       "      <td>0.000000</td>\n",
       "      <td>0.000000</td>\n",
       "      <td>0.000000</td>\n",
       "      <td>0.000000</td>\n",
       "      <td>0.000000</td>\n",
       "      <td>...</td>\n",
       "      <td>0.000000</td>\n",
       "      <td>0.000000</td>\n",
       "      <td>0.225821</td>\n",
       "      <td>0.000000</td>\n",
       "      <td>0.000000</td>\n",
       "      <td>0.000000</td>\n",
       "      <td>0.610071</td>\n",
       "      <td>0.000000</td>\n",
       "      <td>0.000000</td>\n",
       "      <td>0.225821</td>\n",
       "    </tr>\n",
       "    <tr>\n",
       "      <th>2</th>\n",
       "      <td>0.000000</td>\n",
       "      <td>0.000000</td>\n",
       "      <td>0.000000</td>\n",
       "      <td>0.406417</td>\n",
       "      <td>0.000000</td>\n",
       "      <td>0.000000</td>\n",
       "      <td>0.000000</td>\n",
       "      <td>0.000000</td>\n",
       "      <td>0.000000</td>\n",
       "      <td>0.406417</td>\n",
       "      <td>...</td>\n",
       "      <td>0.000000</td>\n",
       "      <td>0.219745</td>\n",
       "      <td>0.000000</td>\n",
       "      <td>0.000000</td>\n",
       "      <td>0.000000</td>\n",
       "      <td>0.000000</td>\n",
       "      <td>0.593654</td>\n",
       "      <td>0.000000</td>\n",
       "      <td>0.000000</td>\n",
       "      <td>0.000000</td>\n",
       "    </tr>\n",
       "    <tr>\n",
       "      <th>3</th>\n",
       "      <td>0.215484</td>\n",
       "      <td>0.000000</td>\n",
       "      <td>0.000000</td>\n",
       "      <td>0.000000</td>\n",
       "      <td>0.000000</td>\n",
       "      <td>0.000000</td>\n",
       "      <td>0.000000</td>\n",
       "      <td>0.000000</td>\n",
       "      <td>0.430968</td>\n",
       "      <td>0.000000</td>\n",
       "      <td>...</td>\n",
       "      <td>0.000000</td>\n",
       "      <td>0.000000</td>\n",
       "      <td>0.000000</td>\n",
       "      <td>0.000000</td>\n",
       "      <td>0.000000</td>\n",
       "      <td>0.000000</td>\n",
       "      <td>0.000000</td>\n",
       "      <td>0.000000</td>\n",
       "      <td>0.000000</td>\n",
       "      <td>0.000000</td>\n",
       "    </tr>\n",
       "    <tr>\n",
       "      <th>4</th>\n",
       "      <td>0.000000</td>\n",
       "      <td>0.000000</td>\n",
       "      <td>0.066305</td>\n",
       "      <td>0.858420</td>\n",
       "      <td>0.132611</td>\n",
       "      <td>0.000000</td>\n",
       "      <td>0.000000</td>\n",
       "      <td>0.000000</td>\n",
       "      <td>0.000000</td>\n",
       "      <td>0.306579</td>\n",
       "      <td>...</td>\n",
       "      <td>0.132611</td>\n",
       "      <td>0.000000</td>\n",
       "      <td>0.000000</td>\n",
       "      <td>0.126773</td>\n",
       "      <td>0.066305</td>\n",
       "      <td>0.126773</td>\n",
       "      <td>0.119419</td>\n",
       "      <td>0.000000</td>\n",
       "      <td>0.066305</td>\n",
       "      <td>0.000000</td>\n",
       "    </tr>\n",
       "  </tbody>\n",
       "</table>\n",
       "<p>5 rows × 45 columns</p>\n",
       "</div>"
      ],
      "text/plain": [
       "   activity      arms     cargo   cocaine  consumer  corruption   crusade  \\\n",
       "0  0.000000  0.078852  0.000000  0.656263  0.000000    0.078852  0.078852   \n",
       "1  0.000000  0.000000  0.000000  0.000000  0.000000    0.000000  0.000000   \n",
       "2  0.000000  0.000000  0.000000  0.406417  0.000000    0.000000  0.000000   \n",
       "3  0.215484  0.000000  0.000000  0.000000  0.000000    0.000000  0.000000   \n",
       "4  0.000000  0.000000  0.066305  0.858420  0.132611    0.000000  0.000000   \n",
       "\n",
       "       dead  deforestation      drug  ...  significant  smuggling   threats  \\\n",
       "0  0.078852       0.000000  0.510427  ...     0.000000   0.000000  0.000000   \n",
       "1  0.000000       0.000000  0.000000  ...     0.000000   0.000000  0.225821   \n",
       "2  0.000000       0.000000  0.406417  ...     0.000000   0.219745  0.000000   \n",
       "3  0.000000       0.430968  0.000000  ...     0.000000   0.000000  0.000000   \n",
       "4  0.000000       0.000000  0.306579  ...     0.132611   0.000000  0.000000   \n",
       "\n",
       "      trade  trafficker  traffickers  trafficking  transnational       use  \\\n",
       "0  0.226143    0.000000     0.150762     0.213024       0.157704  0.000000   \n",
       "1  0.000000    0.000000     0.000000     0.610071       0.000000  0.000000   \n",
       "2  0.000000    0.000000     0.000000     0.593654       0.000000  0.000000   \n",
       "3  0.000000    0.000000     0.000000     0.000000       0.000000  0.000000   \n",
       "4  0.126773    0.066305     0.126773     0.119419       0.000000  0.066305   \n",
       "\n",
       "   violence  \n",
       "0  0.000000  \n",
       "1  0.225821  \n",
       "2  0.000000  \n",
       "3  0.000000  \n",
       "4  0.000000  \n",
       "\n",
       "[5 rows x 45 columns]"
      ]
     },
     "execution_count": 29,
     "metadata": {},
     "output_type": "execute_result"
    }
   ],
   "source": [
    "new_vector_df"
   ]
  },
  {
   "cell_type": "code",
   "execution_count": 30,
   "metadata": {},
   "outputs": [],
   "source": [
    "from sklearn.tree import DecisionTreeClassifier\n",
    "\n",
    "# Create a DecisionTreeClassifier model\n",
    "dtc = DecisionTreeClassifier(random_state=42)\n",
    "\n",
    "# Fit and train the model\n",
    "dtc = dtc.fit(X_train, y_train)"
   ]
  },
  {
   "cell_type": "code",
   "execution_count": 31,
   "metadata": {},
   "outputs": [
    {
     "name": "stdout",
     "output_type": "stream",
     "text": [
      "Test data:\n",
      "recall: 36.93%\n",
      "precision: 36.95%\n",
      "accuracy: 36.93%\n",
      "specificity: 63.07%\n",
      "f1: 36.88%\n",
      "\n",
      "Train data:\n",
      "recall: 99.84%\n",
      "precision: 100.00%\n",
      "accuracy: 99.84%\n",
      "specificity: 0.16%\n",
      "f1: 99.92%\n"
     ]
    }
   ],
   "source": [
    "# Predict the test data\n",
    "y_pred = dtc.predict(X_test)\n",
    "\n",
    "# Predict the training data\n",
    "y_pred_train = dtc.predict(X_train)\n",
    "\n",
    "# Print the metrics of the test data\n",
    "print(\"Test data:\")\n",
    "print_metrics(y_test, y_pred)\n",
    "\n",
    "# Print the metrics of the training data\n",
    "print(\"\\nTrain data:\")\n",
    "print_metrics(y_train, y_pred_train)"
   ]
  }
 ],
 "metadata": {
  "kernelspec": {
   "display_name": "Python 3.10.4 64-bit",
   "language": "python",
   "name": "python3"
  },
  "language_info": {
   "codemirror_mode": {
    "name": "ipython",
    "version": 3
   },
   "file_extension": ".py",
   "mimetype": "text/x-python",
   "name": "python",
   "nbconvert_exporter": "python",
   "pygments_lexer": "ipython3",
   "version": "3.10.4"
  },
  "orig_nbformat": 4,
  "vscode": {
   "interpreter": {
    "hash": "f58898b06f18e36864a817406fc3e65eeebc3856fff6a36ac1cd20b1ae6f51fe"
   }
  }
 },
 "nbformat": 4,
 "nbformat_minor": 2
}
