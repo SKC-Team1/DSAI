{
 "cells": [
  {
   "cell_type": "markdown",
   "metadata": {},
   "source": [
    "# Import dependencies"
   ]
  },
  {
   "cell_type": "code",
   "execution_count": 92,
   "metadata": {},
   "outputs": [],
   "source": [
    "import os\n",
    "import re\n",
    "# python -m pip install pandas --user\n",
    "import pandas as pd\n",
    "# python -m pip install matplotlib --user\n",
    "import matplotlib.pyplot as plt\n",
    "# python -m pip install python-dotenv --user\n",
    "from dotenv import load_dotenv"
   ]
  },
  {
   "cell_type": "markdown",
   "metadata": {},
   "source": [
    "# Loading the dataset"
   ]
  },
  {
   "cell_type": "code",
   "execution_count": 93,
   "metadata": {},
   "outputs": [],
   "source": [
    "# Load the environment variables from the .env file\n",
    "load_dotenv()\n",
    "# Get the dataset path from the environment variables\n",
    "dataset_path = os.environ.get(\"DATASET_PATH\")\n",
    "# Load the dataset into the notebook\n",
    "df = pd.read_csv(f\"{dataset_path}/article_info_V2.csv\", index_col=0, parse_dates=[1])"
   ]
  },
  {
   "cell_type": "markdown",
   "metadata": {},
   "source": [
    "# Cleaning the dataset"
   ]
  },
  {
   "cell_type": "markdown",
   "metadata": {},
   "source": [
    "### Define cleaning methods"
   ]
  },
  {
   "cell_type": "code",
   "execution_count": 94,
   "metadata": {},
   "outputs": [],
   "source": [
    "def clean_string(str):\n",
    "    # Make the string lowercase\n",
    "    str = str.lower()\n",
    "    # Remove all non-alphanumeric characters\n",
    "    str = re.sub(r\"[^\\w\\s]\", \"\", str)\n",
    "    # Remove the leading and trailing spaces\n",
    "    return str.strip()\n",
    "\n",
    "def parse_list_from_string(str):\n",
    "    # Split the string on each comma\n",
    "    raw_list = str.split(\",\")\n",
    "    # Clean every string in the list\n",
    "    return list(map(clean_string, raw_list))"
   ]
  },
  {
   "cell_type": "markdown",
   "metadata": {},
   "source": [
    "### Change columns of the dataset"
   ]
  },
  {
   "cell_type": "code",
   "execution_count": 95,
   "metadata": {},
   "outputs": [],
   "source": [
    "# Clean the empty values from the dataset\n",
    "df.dropna()\n",
    "\n",
    "# Remove rows with missing dates from the dataset\n",
    "df = df[~df.Date.isna()]\n",
    "\n",
    "# Replace empty strings with unknown\n",
    "df[\"Author\"].replace(\"\", \"Unknown\", inplace=True)\n",
    "\n",
    "# Clean the author strings\n",
    "df[\"Author\"] = df[\"Author\"].apply(clean_string)\n",
    "\n",
    "# Extract the types as a list from the string values\n",
    "df[\"Type\"] = df[\"Type\"].apply(parse_list_from_string)\n",
    "\n",
    "# Extract the tags as a list from the string values\n",
    "df[\"Tags\"] = df[\"Tags\"].apply(parse_list_from_string)\n",
    "\n",
    "# Extract the keywords as a list from the string values\n",
    "df[\"Keywords\"] = df[\"Keywords\"].apply(parse_list_from_string)"
   ]
  },
  {
   "cell_type": "markdown",
   "metadata": {},
   "source": [
    "### Show the dataframe"
   ]
  },
  {
   "cell_type": "code",
   "execution_count": 97,
   "metadata": {},
   "outputs": [
    {
     "data": {
      "text/html": [
       "<div>\n",
       "<style scoped>\n",
       "    .dataframe tbody tr th:only-of-type {\n",
       "        vertical-align: middle;\n",
       "    }\n",
       "\n",
       "    .dataframe tbody tr th {\n",
       "        vertical-align: top;\n",
       "    }\n",
       "\n",
       "    .dataframe thead th {\n",
       "        text-align: right;\n",
       "    }\n",
       "</style>\n",
       "<table border=\"1\" class=\"dataframe\">\n",
       "  <thead>\n",
       "    <tr style=\"text-align: right;\">\n",
       "      <th></th>\n",
       "      <th>Date</th>\n",
       "      <th>Type</th>\n",
       "      <th>Title</th>\n",
       "      <th>Tags</th>\n",
       "      <th>Keywords</th>\n",
       "      <th>Author</th>\n",
       "    </tr>\n",
       "  </thead>\n",
       "  <tbody>\n",
       "    <tr>\n",
       "      <th>0</th>\n",
       "      <td>2021-12-15 12:30:00+00:00</td>\n",
       "      <td>[news]</td>\n",
       "      <td>The Battle to Save Brazil's Freshwater Giant, ...</td>\n",
       "      <td>[brazil, coverage of illegal fishing, wildlife...</td>\n",
       "      <td>[arapaima, giant, river, freshwater, save, ton...</td>\n",
       "      <td>alessandro ford</td>\n",
       "    </tr>\n",
       "    <tr>\n",
       "      <th>1</th>\n",
       "      <td>2021-12-14 19:13:22+00:00</td>\n",
       "      <td>[news]</td>\n",
       "      <td>Did Anti-Drug Crusade Lead to Haiti President'...</td>\n",
       "      <td>[contraband, zetas, haiti, cocaine, el salvado...</td>\n",
       "      <td>[presidents, trafficking, haiti, according, le...</td>\n",
       "      <td>parker asmann</td>\n",
       "    </tr>\n",
       "    <tr>\n",
       "      <th>2</th>\n",
       "      <td>2021-12-14 14:18:15+00:00</td>\n",
       "      <td>[news]</td>\n",
       "      <td>Colombian Prosecutors Dismiss Memo Fantasma Li...</td>\n",
       "      <td>[invisibles, while scrambling to save himself ...</td>\n",
       "      <td>[prosecutors, complaint, insight, libel, aceve...</td>\n",
       "      <td>insight crime</td>\n",
       "    </tr>\n",
       "    <tr>\n",
       "      <th>3</th>\n",
       "      <td>2021-12-13 19:36:23+00:00</td>\n",
       "      <td>[news]</td>\n",
       "      <td>Could US Anti-Violence Models Work in Latin Am...</td>\n",
       "      <td>[chepe luna, mexico, security policy, while sc...</td>\n",
       "      <td>[mexico, program, approach, antiviolence, mode...</td>\n",
       "      <td>kai bernierchen</td>\n",
       "    </tr>\n",
       "    <tr>\n",
       "      <th>4</th>\n",
       "      <td>2021-12-13 14:27:23+00:00</td>\n",
       "      <td>[news]</td>\n",
       "      <td>How Mexican Cartels Settled in Canada</td>\n",
       "      <td>[brazil, el paisa, guatemala personalities, me...</td>\n",
       "      <td>[organized, group, settled, north, criminal, c...</td>\n",
       "      <td>alessandro ford</td>\n",
       "    </tr>\n",
       "  </tbody>\n",
       "</table>\n",
       "</div>"
      ],
      "text/plain": [
       "                       Date    Type  \\\n",
       "0 2021-12-15 12:30:00+00:00  [news]   \n",
       "1 2021-12-14 19:13:22+00:00  [news]   \n",
       "2 2021-12-14 14:18:15+00:00  [news]   \n",
       "3 2021-12-13 19:36:23+00:00  [news]   \n",
       "4 2021-12-13 14:27:23+00:00  [news]   \n",
       "\n",
       "                                               Title  \\\n",
       "0  The Battle to Save Brazil's Freshwater Giant, ...   \n",
       "1  Did Anti-Drug Crusade Lead to Haiti President'...   \n",
       "2  Colombian Prosecutors Dismiss Memo Fantasma Li...   \n",
       "3  Could US Anti-Violence Models Work in Latin Am...   \n",
       "4              How Mexican Cartels Settled in Canada   \n",
       "\n",
       "                                                Tags  \\\n",
       "0  [brazil, coverage of illegal fishing, wildlife...   \n",
       "1  [contraband, zetas, haiti, cocaine, el salvado...   \n",
       "2  [invisibles, while scrambling to save himself ...   \n",
       "3  [chepe luna, mexico, security policy, while sc...   \n",
       "4  [brazil, el paisa, guatemala personalities, me...   \n",
       "\n",
       "                                            Keywords           Author  \n",
       "0  [arapaima, giant, river, freshwater, save, ton...  alessandro ford  \n",
       "1  [presidents, trafficking, haiti, according, le...    parker asmann  \n",
       "2  [prosecutors, complaint, insight, libel, aceve...    insight crime  \n",
       "3  [mexico, program, approach, antiviolence, mode...  kai bernierchen  \n",
       "4  [organized, group, settled, north, criminal, c...  alessandro ford  "
      ]
     },
     "execution_count": 97,
     "metadata": {},
     "output_type": "execute_result"
    }
   ],
   "source": [
    "# Show the dataframe in the notebook\n",
    "df.head()"
   ]
  },
  {
   "cell_type": "markdown",
   "metadata": {},
   "source": [
    "# Save the dataframe to a new file"
   ]
  },
  {
   "cell_type": "code",
   "execution_count": 98,
   "metadata": {},
   "outputs": [],
   "source": [
    "# Writes the file in CSV format to a new file\n",
    "df.to_csv(f\"{dataset_path}/article_info_V3.csv\")"
   ]
  }
 ],
 "metadata": {
  "interpreter": {
   "hash": "e7370f93d1d0cde622a1f8e1c04877d8463912d04d973331ad4851f04de6915a"
  },
  "kernelspec": {
   "display_name": "Python 3.10.4 64-bit",
   "language": "python",
   "name": "python3"
  },
  "language_info": {
   "codemirror_mode": {
    "name": "ipython",
    "version": 3
   },
   "file_extension": ".py",
   "mimetype": "text/x-python",
   "name": "python",
   "nbconvert_exporter": "python",
   "pygments_lexer": "ipython3",
   "version": "3.10.4"
  },
  "orig_nbformat": 4
 },
 "nbformat": 4,
 "nbformat_minor": 2
}
