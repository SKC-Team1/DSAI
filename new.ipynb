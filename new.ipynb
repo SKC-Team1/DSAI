{
 "cells": [
  {
   "cell_type": "markdown",
   "metadata": {},
   "source": [
    "# Import packages"
   ]
  },
  {
   "cell_type": "code",
   "execution_count": null,
   "metadata": {},
   "outputs": [],
   "source": [
    "import os\n",
    "import re\n",
    "import pandas as pd\n",
    "import sklearn\n",
    "import nltk\n",
    "import unicodedata\n",
    "from dotenv import load_dotenv"
   ]
  },
  {
   "cell_type": "markdown",
   "metadata": {},
   "source": [
    "# Load data"
   ]
  },
  {
   "cell_type": "code",
   "execution_count": null,
   "metadata": {},
   "outputs": [],
   "source": [
    "# Download nltk data packages\n",
    "nltk.download(\"stopwords\", quiet=True)\n",
    "nltk.download(\"wordnet\", quiet=True)\n",
    "nltk.download(\"omw-1.4\", quiet=True)"
   ]
  },
  {
   "cell_type": "code",
   "execution_count": null,
   "metadata": {},
   "outputs": [],
   "source": [
    "# Load the environment variables\n",
    "load_dotenv()\n",
    "\n",
    "# Get the paths to the data\n",
    "data_dir = os.getenv(\"DATA_DIR\")\n",
    "articles_dir = os.path.join(data_dir, \"articles\")\n",
    "\n",
    "# Load the main dataset\n",
    "df = pd.read_csv(f\"{data_dir}/article_info_V2.csv\", index_col=0, parse_dates=[1])\n",
    "\n",
    "# Load the external dataset\n",
    "external_df = pd.read_csv(f\"{data_dir}/other-articles.csv\", index_col=0, parse_dates=[1], sep=\";\")\n",
    "\n",
    "# Clear the data directory variable\n",
    "del data_dir"
   ]
  },
  {
   "cell_type": "markdown",
   "metadata": {},
   "source": [
    "# Cleaning"
   ]
  },
  {
   "cell_type": "code",
   "execution_count": null,
   "metadata": {},
   "outputs": [],
   "source": [
    "# Drop unused columns\n",
    "df.drop(columns=[\"Author\", \"Type\", \"Keywords\"], inplace=True)\n",
    "\n",
    "# Drop rows with empty date values\n",
    "df.dropna(subset=[\"Date\"], inplace=True)\n",
    "\n",
    "# Reset the index\n",
    "df.reset_index(drop=True, inplace=True)\n",
    "\n",
    "# Remove the url column from the external dataset\n",
    "external_df.drop(columns=[\"Url\"], inplace=True)"
   ]
  },
  {
   "cell_type": "markdown",
   "metadata": {},
   "source": [
    "# Merging datasets"
   ]
  },
  {
   "cell_type": "code",
   "execution_count": null,
   "metadata": {},
   "outputs": [],
   "source": [
    "# Add the external dataset to the main dataset\n",
    "df = pd.concat([df, external_df])\n",
    "\n",
    "# Reset the index\n",
    "df.reset_index(drop=True, inplace=True)\n",
    "\n",
    "# Clear the external dataset variable\n",
    "del external_df"
   ]
  },
  {
   "cell_type": "markdown",
   "metadata": {},
   "source": [
    "# Remove duplicates"
   ]
  },
  {
   "cell_type": "code",
   "execution_count": null,
   "metadata": {},
   "outputs": [],
   "source": [
    "# Count the number of entries before duplicate removal\n",
    "entries_count = len(df)\n",
    "\n",
    "# remove duplicate entries by title and date\n",
    "df.drop_duplicates(subset=[\"Title\", \"Date\"], keep=\"first\", inplace=True)\n",
    "\n",
    "# Print the number of deleted entries\n",
    "print(f\"Removed {entries_count - len(df)} duplicate entries.\")\n",
    "\n",
    "# Clear the entries count variable\n",
    "del entries_count"
   ]
  },
  {
   "cell_type": "markdown",
   "metadata": {},
   "source": [
    "# Parse target"
   ]
  },
  {
   "cell_type": "code",
   "execution_count": null,
   "metadata": {},
   "outputs": [],
   "source": [
    "# Define functions to parse target\n",
    "def clean_string(str):\n",
    "    # Make the string lowercase\n",
    "    str = str.lower()\n",
    "    # Remove all non-alphanumeric characters\n",
    "    str = re.sub(r\"[^\\w\\s]\", \"\", str)\n",
    "    # Remove the leading and trailing spaces\n",
    "    return str.strip()\n",
    "\n",
    "def parse_tags(str):\n",
    "    # Split the string on each comma\n",
    "    raw_list = str.split(\",\")\n",
    "    # Clean every string in the list\n",
    "    return list(map(clean_string, raw_list))"
   ]
  },
  {
   "cell_type": "code",
   "execution_count": null,
   "metadata": {},
   "outputs": [],
   "source": [
    "# Convert the raw string values of the Tags column to lists of strings\n",
    "df[\"Tags\"] = df[\"Tags\"].apply(parse_tags)"
   ]
  },
  {
   "cell_type": "code",
   "execution_count": null,
   "metadata": {},
   "outputs": [],
   "source": [
    "# Clear the cleaning and parsing functions\n",
    "del clean_string, parse_tags"
   ]
  },
  {
   "cell_type": "markdown",
   "metadata": {},
   "source": [
    "# Load articles"
   ]
  },
  {
   "cell_type": "code",
   "execution_count": null,
   "metadata": {},
   "outputs": [],
   "source": [
    "# Article loading function\n",
    "def load_article(title):\n",
    "    # Create filename from title\n",
    "    file_name = f\"{title}.txt\"\n",
    "    # Get the path of the article\n",
    "    file_path = os.path.join(articles_dir, file_name)\n",
    "    try:\n",
    "        # Attempt to read the article\n",
    "        file = open(file_path, \"r\", encoding=\"utf-8\")\n",
    "    except:\n",
    "        # If the article could not be read, return None\n",
    "        return None\n",
    "    # Read the contents of the article\n",
    "    contents = file.read()\n",
    "    # Close the file\n",
    "    file.close()\n",
    "    # Return the contents of the article\n",
    "    return contents"
   ]
  },
  {
   "cell_type": "code",
   "execution_count": null,
   "metadata": {},
   "outputs": [],
   "source": [
    "# Load the articles\n",
    "df[\"Contents\"] = df[\"Title\"].apply(load_article)\n",
    "\n",
    "# Clear the article loading function\n",
    "del load_article"
   ]
  },
  {
   "cell_type": "code",
   "execution_count": null,
   "metadata": {},
   "outputs": [],
   "source": [
    "# Count the number of entries in the dataframe\n",
    "entries_count = len(df)\n",
    "\n",
    "# Remove rows without article contents\n",
    "df.dropna(subset=[\"Contents\"], inplace=True)\n",
    "\n",
    "# Reset the index\n",
    "df.reset_index(drop=True, inplace=True)\n",
    "\n",
    "# Print the number of deleted entries\n",
    "print(f\"Removed {entries_count - len(df)} entries without article contents.\")\n",
    "\n",
    "# Clear the entries count variable\n",
    "del entries_count"
   ]
  },
  {
   "cell_type": "markdown",
   "metadata": {},
   "source": [
    "# Article cleaning"
   ]
  },
  {
   "cell_type": "code",
   "execution_count": null,
   "metadata": {},
   "outputs": [],
   "source": [
    "# Remove all newline characters\n",
    "def remove_newlines(text):\n",
    "    text = text.replace(\"\\n\", \" \")\n",
    "    text = text.replace(\"\\r\", \" \")\n",
    "    return text\n",
    "\n",
    "# Replace shortened grammar with full grammar\n",
    "def replace_grammar(text):\n",
    "    text = text.replace(\"it's\", \"it is\")\n",
    "    text = text.replace(\"he's\", \"he is\")\n",
    "    text = text.replace(\"she's\", \"she is\")\n",
    "    text = text.replace(\"what's\", \"what is\")\n",
    "    text = text.replace(\"n't\", \"not\")\n",
    "    text = text.replace(\"'scuse\", \" excuse\")\n",
    "    text = text.replace(\"'s\", \"\")\n",
    "    text = text.replace(\"'t\", \" not\")\n",
    "    text = text.replace(\"'re\", \" are\")\n",
    "    text = text.replace(\"'ll\", \" will\")\n",
    "    text = text.replace(\"'ve\", \" have\")\n",
    "    text = text.replace(\"'d\", \" would\")\n",
    "    text = text.replace(\"'m\", \" am\")\n",
    "    return text\n",
    "\n",
    "# Replace accented characters (like é, ë, ï) with their unaccented counterparts (e, e, i)\n",
    "def remove_accented_characters(text):\n",
    "    return unicodedata.normalize(\"NFKD\", text).encode(\"ascii\", \"ignore\").decode(\"utf-8\", \"ignore\")\n",
    "\n",
    "# Remove punctuation from text (like commas, periods, and exclamation marks)\n",
    "def remove_punctuation(text):\n",
    "    return re.sub(r\"[^\\w\\s]\", \"\", text)\n",
    "\n",
    "# Remove digits from text\n",
    "def remove_digits(text):\n",
    "    return re.sub(r\"\\d+\", \"\", text)\n",
    "\n",
    "# Remove extra whitespace characters\n",
    "def remove_extra_whitespace(text):\n",
    "    # Remove spaces at the start and end of the text\n",
    "    text = text.strip()\n",
    "    # Remove double whitespace characters\n",
    "    return re.sub(r\"\\s+\", \" \", text)\n",
    "\n",
    "# Convert uppercase text to lowercase text\n",
    "def lowercase(text):\n",
    "    return text.lower()"
   ]
  },
  {
   "cell_type": "markdown",
   "metadata": {},
   "source": [
    "# Testing below"
   ]
  },
  {
   "cell_type": "code",
   "execution_count": null,
   "metadata": {},
   "outputs": [],
   "source": [
    "from nltk.stem import WordNetLemmatizer\n",
    "from nltk.tokenize import RegexpTokenizer\n",
    "from nltk.corpus import stopwords\n",
    "from sklearn.feature_extraction.text import TfidfVectorizer"
   ]
  },
  {
   "cell_type": "code",
   "execution_count": null,
   "metadata": {},
   "outputs": [],
   "source": [
    "X_train = pd.DataFrame(df[\"Contents\"][0:10])\n",
    "X_train.rename(columns={'Contents': 'speech'}, inplace=True)\n",
    "X_train"
   ]
  },
  {
   "cell_type": "code",
   "execution_count": null,
   "metadata": {},
   "outputs": [],
   "source": [
    "def preprocess_text(text):\n",
    "    # Remove newlines\n",
    "    text = remove_newlines(text)\n",
    "    # Replace accented characters (like é, ë, ï) with their unaccented counterparts (e, e, i)\n",
    "    text = remove_accented_characters(text)\n",
    "    # Replace shortened grammar with full grammar\n",
    "    text = replace_grammar(text)\n",
    "    # Remove punctuation from text (like commas, periods, and exclamation marks)\n",
    "    text = remove_punctuation(text)\n",
    "    # Remove digits\n",
    "    text = remove_digits(text)\n",
    "    # Remove extra whitespace characters\n",
    "    text = remove_extra_whitespace(text)\n",
    "    # Convert uppercase text to lowercase text\n",
    "    text = lowercase(text)\n",
    "\n",
    "    # Tokenise words while ignoring punctuation\n",
    "    tokeniser = RegexpTokenizer(r'\\w+')\n",
    "    tokens = tokeniser.tokenize(text)\n",
    "\n",
    "    # Lowercase and lemmatise \n",
    "    lemmatiser = WordNetLemmatizer()\n",
    "    lemmas = [lemmatiser.lemmatize(token.lower(), pos=\"v\") for token in tokens]\n",
    "\n",
    "    # Remove stopwords\n",
    "    keywords = [lemma for lemma in lemmas if lemma not in stopwords.words(\"english\")]\n",
    "\n",
    "    return keywords"
   ]
  },
  {
   "cell_type": "code",
   "execution_count": null,
   "metadata": {},
   "outputs": [],
   "source": [
    "# Import module\n",
    "from sklearn.feature_extraction.text import TfidfVectorizer\n",
    "# Create an instance of TfidfVectorizer\n",
    "vectoriser = TfidfVectorizer(analyzer=preprocess_text)\n",
    "# Fit to the data and transform to tf-idf\n",
    "X_train = vectoriser.fit_transform(X_train[\"speech\"])"
   ]
  },
  {
   "cell_type": "code",
   "execution_count": null,
   "metadata": {},
   "outputs": [],
   "source": [
    "pd.DataFrame(X_train.toarray(), columns=vectoriser.get_feature_names_out())"
   ]
  }
 ],
 "metadata": {
  "interpreter": {
   "hash": "f58898b06f18e36864a817406fc3e65eeebc3856fff6a36ac1cd20b1ae6f51fe"
  },
  "kernelspec": {
   "display_name": "Python 3.10.4 64-bit",
   "language": "python",
   "name": "python3"
  },
  "language_info": {
   "codemirror_mode": {
    "name": "ipython",
    "version": 3
   },
   "file_extension": ".py",
   "mimetype": "text/x-python",
   "name": "python",
   "nbconvert_exporter": "python",
   "pygments_lexer": "ipython3",
   "version": "3.10.4"
  },
  "orig_nbformat": 4
 },
 "nbformat": 4,
 "nbformat_minor": 2
}
