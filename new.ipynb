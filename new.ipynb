{
 "cells": [
  {
   "cell_type": "markdown",
   "metadata": {},
   "source": [
    "# Import packages"
   ]
  },
  {
   "cell_type": "code",
   "execution_count": 1,
   "metadata": {},
   "outputs": [],
   "source": [
    "import os\n",
    "import re\n",
    "import pandas as pd\n",
    "import sklearn\n",
    "import nltk\n",
    "import unicodedata\n",
    "from dotenv import load_dotenv"
   ]
  },
  {
   "cell_type": "markdown",
   "metadata": {},
   "source": [
    "# Load data"
   ]
  },
  {
   "cell_type": "code",
   "execution_count": 2,
   "metadata": {},
   "outputs": [
    {
     "data": {
      "text/plain": [
       "True"
      ]
     },
     "execution_count": 2,
     "metadata": {},
     "output_type": "execute_result"
    }
   ],
   "source": [
    "# Download nltk data packages\n",
    "nltk.download(\"stopwords\", quiet=True)\n",
    "nltk.download(\"wordnet\", quiet=True)"
   ]
  },
  {
   "cell_type": "code",
   "execution_count": 3,
   "metadata": {},
   "outputs": [
    {
     "ename": "TypeError",
     "evalue": "expected str, bytes or os.PathLike object, not NoneType",
     "output_type": "error",
     "traceback": [
      "\u001b[1;31m---------------------------------------------------------------------------\u001b[0m",
      "\u001b[1;31mTypeError\u001b[0m                                 Traceback (most recent call last)",
      "\u001b[1;32mc:\\Users\\Misch\\Documents\\Code\\Jupyter\\DSAI\\new.ipynb Cell 5'\u001b[0m in \u001b[0;36m<module>\u001b[1;34m\u001b[0m\n\u001b[0;32m      <a href='vscode-notebook-cell:/c%3A/Users/Misch/Documents/Code/Jupyter/DSAI/new.ipynb#ch0000004?line=3'>4</a>\u001b[0m \u001b[39m# Get the paths to the data\u001b[39;00m\n\u001b[0;32m      <a href='vscode-notebook-cell:/c%3A/Users/Misch/Documents/Code/Jupyter/DSAI/new.ipynb#ch0000004?line=4'>5</a>\u001b[0m data_dir \u001b[39m=\u001b[39m os\u001b[39m.\u001b[39mgetenv(\u001b[39m\"\u001b[39m\u001b[39mDATA_DIR\u001b[39m\u001b[39m\"\u001b[39m)\n\u001b[1;32m----> <a href='vscode-notebook-cell:/c%3A/Users/Misch/Documents/Code/Jupyter/DSAI/new.ipynb#ch0000004?line=5'>6</a>\u001b[0m articles_dir \u001b[39m=\u001b[39m os\u001b[39m.\u001b[39;49mpath\u001b[39m.\u001b[39;49mjoin(data_dir, \u001b[39m\"\u001b[39;49m\u001b[39marticles\u001b[39;49m\u001b[39m\"\u001b[39;49m)\n\u001b[0;32m      <a href='vscode-notebook-cell:/c%3A/Users/Misch/Documents/Code/Jupyter/DSAI/new.ipynb#ch0000004?line=7'>8</a>\u001b[0m \u001b[39m# Load the main dataset\u001b[39;00m\n\u001b[0;32m      <a href='vscode-notebook-cell:/c%3A/Users/Misch/Documents/Code/Jupyter/DSAI/new.ipynb#ch0000004?line=8'>9</a>\u001b[0m df \u001b[39m=\u001b[39m pd\u001b[39m.\u001b[39mread_csv(\u001b[39mf\u001b[39m\u001b[39m\"\u001b[39m\u001b[39m{\u001b[39;00mdata_dir\u001b[39m}\u001b[39;00m\u001b[39m/article_info_V2.csv\u001b[39m\u001b[39m\"\u001b[39m, index_col\u001b[39m=\u001b[39m\u001b[39m0\u001b[39m, parse_dates\u001b[39m=\u001b[39m[\u001b[39m1\u001b[39m])\n",
      "File \u001b[1;32mc:\\Users\\Misch\\AppData\\Local\\Programs\\Python\\Python310\\lib\\ntpath.py:78\u001b[0m, in \u001b[0;36mjoin\u001b[1;34m(path, *paths)\u001b[0m\n\u001b[0;32m     <a href='file:///c%3A/Users/Misch/AppData/Local/Programs/Python/Python310/lib/ntpath.py?line=76'>77</a>\u001b[0m \u001b[39mdef\u001b[39;00m \u001b[39mjoin\u001b[39m(path, \u001b[39m*\u001b[39mpaths):\n\u001b[1;32m---> <a href='file:///c%3A/Users/Misch/AppData/Local/Programs/Python/Python310/lib/ntpath.py?line=77'>78</a>\u001b[0m     path \u001b[39m=\u001b[39m os\u001b[39m.\u001b[39;49mfspath(path)\n\u001b[0;32m     <a href='file:///c%3A/Users/Misch/AppData/Local/Programs/Python/Python310/lib/ntpath.py?line=78'>79</a>\u001b[0m     \u001b[39mif\u001b[39;00m \u001b[39misinstance\u001b[39m(path, \u001b[39mbytes\u001b[39m):\n\u001b[0;32m     <a href='file:///c%3A/Users/Misch/AppData/Local/Programs/Python/Python310/lib/ntpath.py?line=79'>80</a>\u001b[0m         sep \u001b[39m=\u001b[39m \u001b[39mb\u001b[39m\u001b[39m'\u001b[39m\u001b[39m\\\\\u001b[39;00m\u001b[39m'\u001b[39m\n",
      "\u001b[1;31mTypeError\u001b[0m: expected str, bytes or os.PathLike object, not NoneType"
     ]
    }
   ],
   "source": [
    "# Load the environment variables\n",
    "load_dotenv()\n",
    "\n",
    "# Get the paths to the data\n",
    "data_dir = os.getenv(\"DATA_DIR\")\n",
    "articles_dir = os.path.join(data_dir, \"articles\")\n",
    "\n",
    "# Load the main dataset\n",
    "df = pd.read_csv(f\"{data_dir}/article_info_V2.csv\", index_col=0, parse_dates=[1])\n",
    "\n",
    "# Load the external dataset\n",
    "external_df = pd.read_csv(f\"{data_dir}/other-articles.csv\", index_col=0, parse_dates=[1], sep=\";\")\n",
    "\n",
    "# Clear the data directory variable\n",
    "del data_dir"
   ]
  },
  {
   "cell_type": "markdown",
   "metadata": {},
   "source": [
    "# Cleaning"
   ]
  },
  {
   "cell_type": "code",
   "execution_count": null,
   "metadata": {},
   "outputs": [],
   "source": [
    "# Drop unused columns\n",
    "df.drop(columns=[\"Author\", \"Type\", \"Keywords\"], inplace=True)\n",
    "\n",
    "# Drop rows with empty date values\n",
    "df.dropna(subset=[\"Date\"], inplace=True)\n",
    "\n",
    "# Reset the index\n",
    "df.reset_index(drop=True, inplace=True)\n",
    "\n",
    "# Remove the url column from the external dataset\n",
    "external_df.drop(columns=[\"Url\"], inplace=True)"
   ]
  },
  {
   "cell_type": "markdown",
   "metadata": {},
   "source": [
    "# Merging datasets"
   ]
  },
  {
   "cell_type": "code",
   "execution_count": null,
   "metadata": {},
   "outputs": [],
   "source": [
    "# Add the external dataset to the main dataset\n",
    "df = pd.concat([df, external_df])\n",
    "\n",
    "# Reset the index\n",
    "df.reset_index(drop=True, inplace=True)\n",
    "\n",
    "# Clear the external dataset variable\n",
    "del external_df"
   ]
  },
  {
   "cell_type": "markdown",
   "metadata": {},
   "source": [
    "# Remove duplicates"
   ]
  },
  {
   "cell_type": "code",
   "execution_count": null,
   "metadata": {},
   "outputs": [],
   "source": [
    "# Count the number of entries before duplicate removal\n",
    "entries_count = len(df)\n",
    "\n",
    "# remove duplicate entries by title and date\n",
    "df.drop_duplicates(subset=[\"Title\", \"Date\"], keep=\"first\", inplace=True)\n",
    "\n",
    "# Print the number of deleted entries\n",
    "print(f\"Removed {entries_count - len(df)} duplicate entries.\")\n",
    "\n",
    "# Clear the entries count variable\n",
    "del entries_count"
   ]
  },
  {
   "cell_type": "markdown",
   "metadata": {},
   "source": [
    "# Parse target"
   ]
  },
  {
   "cell_type": "code",
   "execution_count": null,
   "metadata": {},
   "outputs": [],
   "source": [
    "# Define functions to parse target\n",
    "def clean_string(str):\n",
    "    # Make the string lowercase\n",
    "    str = str.lower()\n",
    "    # Remove all non-alphanumeric characters\n",
    "    str = re.sub(r\"[^\\w\\s]\", \"\", str)\n",
    "    # Remove the leading and trailing spaces\n",
    "    return str.strip()\n",
    "\n",
    "def parse_tags(str):\n",
    "    # Split the string on each comma\n",
    "    raw_list = str.split(\",\")\n",
    "    # Clean every string in the list\n",
    "    return list(map(clean_string, raw_list))"
   ]
  },
  {
   "cell_type": "code",
   "execution_count": null,
   "metadata": {},
   "outputs": [],
   "source": [
    "# Convert the raw string values of the Tags column to lists of strings\n",
    "df[\"Tags\"] = df[\"Tags\"].apply(parse_tags)"
   ]
  },
  {
   "cell_type": "code",
   "execution_count": null,
   "metadata": {},
   "outputs": [],
   "source": [
    "# Clear the cleaning and parsing functions\n",
    "del clean_string, parse_tags"
   ]
  },
  {
   "cell_type": "markdown",
   "metadata": {},
   "source": [
    "# Load articles"
   ]
  },
  {
   "cell_type": "code",
   "execution_count": null,
   "metadata": {},
   "outputs": [],
   "source": [
    "# Article loading function\n",
    "def load_article(title):\n",
    "    # Create filename from title\n",
    "    file_name = f\"{title}.txt\"\n",
    "    # Get the path of the article\n",
    "    file_path = os.path.join(articles_dir, file_name)\n",
    "    try:\n",
    "        # Attempt to read the article\n",
    "        file = open(file_path, \"r\", encoding=\"utf-8\")\n",
    "    except:\n",
    "        # If the article could not be read, return None\n",
    "        return None\n",
    "    # Read the contents of the article\n",
    "    contents = file.read()\n",
    "    # Close the file\n",
    "    file.close()\n",
    "    # Return the contents of the article\n",
    "    return contents"
   ]
  },
  {
   "cell_type": "code",
   "execution_count": null,
   "metadata": {},
   "outputs": [],
   "source": [
    "# Load the articles\n",
    "df[\"Contents\"] = df[\"Title\"].apply(load_article)\n",
    "\n",
    "# Clear the article loading function\n",
    "del load_article"
   ]
  },
  {
   "cell_type": "code",
   "execution_count": null,
   "metadata": {},
   "outputs": [],
   "source": [
    "# Count the number of entries in the dataframe\n",
    "entries_count = len(df)\n",
    "\n",
    "# Remove rows without article contents\n",
    "df.dropna(subset=[\"Contents\"], inplace=True)\n",
    "\n",
    "# Reset the index\n",
    "df.reset_index(drop=True, inplace=True)\n",
    "\n",
    "# Print the number of deleted entries\n",
    "print(f\"Removed {entries_count - len(df)} entries without article contents.\")\n",
    "\n",
    "# Clear the entries count variable\n",
    "del entries_count"
   ]
  },
  {
   "cell_type": "markdown",
   "metadata": {},
   "source": [
    "# Article cleaning"
   ]
  },
  {
   "cell_type": "code",
   "execution_count": null,
   "metadata": {},
   "outputs": [],
   "source": [
    "# Remove all newline characters\n",
    "def remove_newlines(text):\n",
    "    text = text.replace(\"\\n\", \" \")\n",
    "    text = text.replace(\"\\r\", \" \")\n",
    "    return text\n",
    "\n",
    "# Replace shortened grammar with full grammar\n",
    "def replace_grammar(text):\n",
    "    text = text.replace(\"it's\", \"it is\")\n",
    "    text = text.replace(\"he's\", \"he is\")\n",
    "    text = text.replace(\"she's\", \"she is\")\n",
    "    text = text.replace(\"what's\", \"what is\")\n",
    "    text = text.replace(\"n't\", \"not\")\n",
    "    text = text.replace(\"'scuse\", \" excuse\")\n",
    "    text = text.replace(\"'s\", \"\")\n",
    "    text = text.replace(\"'t\", \" not\")\n",
    "    text = text.replace(\"'re\", \" are\")\n",
    "    text = text.replace(\"'ll\", \" will\")\n",
    "    text = text.replace(\"'ve\", \" have\")\n",
    "    text = text.replace(\"'d\", \" would\")\n",
    "    text = text.replace(\"'m\", \" am\")\n",
    "    return text\n",
    "\n",
    "# Replace accented characters (like é, ë, ï) with their unaccented counterparts (e, e, i)\n",
    "def remove_accented_characters(text):\n",
    "    return unicodedata.normalize(\"NFKD\", text).encode(\"ascii\", \"ignore\").decode(\"utf-8\", \"ignore\")\n",
    "\n",
    "# Remove punctuation from text (like commas, periods, and exclamation marks)\n",
    "def remove_punctuation(text):\n",
    "    return re.sub(r\"[^\\w\\s]\", \"\", text)\n",
    "\n",
    "# Remove digits from text\n",
    "def remove_digits(text):\n",
    "    return re.sub(r\"\\d+\", \"\", text)\n",
    "\n",
    "# Remove extra whitespace characters\n",
    "def remove_extra_whitespace(text):\n",
    "    # Remove spaces at the start and end of the text\n",
    "    text = text.strip()\n",
    "    # Remove double whitespace characters\n",
    "    return re.sub(r\"\\s+\", \" \", text)\n",
    "\n",
    "# Convert uppercase text to lowercase text\n",
    "def lowercase(text):\n",
    "    return text.lower()"
   ]
  },
  {
   "cell_type": "markdown",
   "metadata": {},
   "source": [
    "# Testing below"
   ]
  },
  {
   "cell_type": "code",
   "execution_count": null,
   "metadata": {},
   "outputs": [],
   "source": [
    "from nltk.stem import WordNetLemmatizer\n",
    "from nltk.tokenize import RegexpTokenizer\n",
    "from nltk.corpus import stopwords\n",
    "from sklearn.feature_extraction.text import TfidfVectorizer"
   ]
  }
 ],
 "metadata": {
  "interpreter": {
   "hash": "f58898b06f18e36864a817406fc3e65eeebc3856fff6a36ac1cd20b1ae6f51fe"
  },
  "kernelspec": {
   "display_name": "Python 3.10.4 64-bit",
   "language": "python",
   "name": "python3"
  },
  "language_info": {
   "codemirror_mode": {
    "name": "ipython",
    "version": 3
   },
   "file_extension": ".py",
   "mimetype": "text/x-python",
   "name": "python",
   "nbconvert_exporter": "python",
   "pygments_lexer": "ipython3",
   "version": "3.10.4"
  },
  "orig_nbformat": 4
 },
 "nbformat": 4,
 "nbformat_minor": 2
}
