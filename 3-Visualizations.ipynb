{
 "cells": [
  {
   "cell_type": "markdown",
   "metadata": {},
   "source": [
    "# Import dependencies"
   ]
  },
  {
   "cell_type": "code",
   "execution_count": null,
   "metadata": {},
   "outputs": [],
   "source": [
    "import os\n",
    "import re\n",
    "import pandas as pd\n",
    "import numpy as np\n",
    "import matplotlib.pyplot as plt\n",
    "from dotenv import load_dotenv"
   ]
  },
  {
   "cell_type": "markdown",
   "metadata": {},
   "source": [
    "# Load the dataset"
   ]
  },
  {
   "cell_type": "code",
   "execution_count": null,
   "metadata": {},
   "outputs": [],
   "source": [
    "# Load the environment variables from the .env file\n",
    "load_dotenv()\n",
    "# Get the dataset path from the environment variables\n",
    "dataset_path = os.environ.get(\"DATASET_PATH\")\n",
    "# Load the dataset into the notebook\n",
    "df = pd.read_csv(f\"{dataset_path}/article_info_V4.csv\", index_col=0, parse_dates=[1])"
   ]
  },
  {
   "cell_type": "code",
   "execution_count": null,
   "metadata": {},
   "outputs": [],
   "source": [
    "def convert_str_lists():\n",
    "    # Define the regex pattern required to get the tags and keywords from the strings\n",
    "    str_list_regex_pattern = r\"'(.*?)'\"\n",
    "\n",
    "    # Make the tags accessible as lists of strings\n",
    "    df[\"Tags\"] = df[\"Tags\"].apply(lambda str_list: re.findall(str_list_regex_pattern, str_list))\n",
    "\n",
    "    # Make the keywords accessible as lists of strings\n",
    "    df[\"Keywords\"] = df[\"Keywords\"].apply(lambda str_list: re.findall(str_list_regex_pattern, str_list))\n",
    "\n",
    "    # Make the types of the articles accessible as lists of strings\n",
    "    df[\"Type\"] = df[\"Type\"].apply(lambda str_list: re.findall(str_list_regex_pattern, str_list))\n",
    "\n",
    "convert_str_lists()"
   ]
  },
  {
   "cell_type": "markdown",
   "metadata": {},
   "source": [
    "# Gather frequency data"
   ]
  },
  {
   "cell_type": "code",
   "execution_count": null,
   "metadata": {},
   "outputs": [],
   "source": [
    "def get_frequencies_from_lists(dataframe_column):\n",
    "    # Define a dictionary to store the tag frequencies\n",
    "    unique_values = {}\n",
    "\n",
    "    # Loop over the tag values of the dataframe    \n",
    "    for value_list in dataframe_column:\n",
    "        # Loop over each tag in the tag list\n",
    "        for value in value_list:\n",
    "            # If the tag is not in the dictionary, add it\n",
    "            new_frequency = 1\n",
    "            # Attempt to get the tag from the dictionary\n",
    "            current_frequency = unique_values.get(value)\n",
    "            # Check if the tag is in the dictionary\n",
    "            if current_frequency:\n",
    "                # If the tag is in the dictionary, increment the frequency by 1\n",
    "                new_frequency = np.add(current_frequency, 1)\n",
    "            # Set the new value for the tag in the dictionary\n",
    "            unique_values[value] = new_frequency\n",
    "    # Return the dictionary\n",
    "    return unique_values\n",
    "\n",
    "def get_sorted_frequencies_in_dataframe(dataframe_column):\n",
    "    # Get the unique values from the lists in a column\n",
    "    unique_values = get_frequencies_from_lists(dataframe_column)\n",
    "    # Sort the tags by their frequency, from high to low\n",
    "    sorted_unique_tag_frequency = sorted(unique_values.items(), key=lambda x: x[1], reverse=True)\n",
    "    # Convert the list into a dataframe and return it\n",
    "    return pd.DataFrame(sorted_unique_tag_frequency, columns=[dataframe_column.name, \"Frequency\"])"
   ]
  },
  {
   "cell_type": "code",
   "execution_count": null,
   "metadata": {},
   "outputs": [],
   "source": [
    "unique_tags = get_sorted_frequencies_in_dataframe(df.Tags)\n",
    "unique_keywords = get_sorted_frequencies_in_dataframe(df.Keywords)"
   ]
  },
  {
   "cell_type": "markdown",
   "metadata": {},
   "source": [
    "# Distribution graph"
   ]
  },
  {
   "cell_type": "code",
   "execution_count": null,
   "metadata": {},
   "outputs": [],
   "source": [
    "plt.figure(figsize=(5, 5))\n",
    "plt.hist(unique_tags.Frequency, 20)\n",
    "plt.title(\"Frequency of unique tags\")\n",
    "plt.show()"
   ]
  },
  {
   "cell_type": "code",
   "execution_count": null,
   "metadata": {},
   "outputs": [],
   "source": [
    "df.sort_values(by=[\"Date\"], inplace=True, ascending=True)\n",
    "df = df.reset_index(drop=True)\n"
   ]
  }
 ],
 "metadata": {
  "interpreter": {
   "hash": "e7370f93d1d0cde622a1f8e1c04877d8463912d04d973331ad4851f04de6915a"
  },
  "kernelspec": {
   "display_name": "Python 3.10.4 64-bit",
   "language": "python",
   "name": "python3"
  },
  "language_info": {
   "codemirror_mode": {
    "name": "ipython",
    "version": 3
   },
   "file_extension": ".py",
   "mimetype": "text/x-python",
   "name": "python",
   "nbconvert_exporter": "python",
   "pygments_lexer": "ipython3",
   "version": "3.10.4"
  },
  "orig_nbformat": 4
 },
 "nbformat": 4,
 "nbformat_minor": 2
}
