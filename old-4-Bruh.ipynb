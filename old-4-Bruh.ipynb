{
 "cells": [
  {
   "cell_type": "markdown",
   "metadata": {},
   "source": [
    "# Import dependencies"
   ]
  },
  {
   "cell_type": "code",
   "execution_count": null,
   "metadata": {},
   "outputs": [],
   "source": [
    "from os import environ, listdir\n",
    "from os.path import isfile, join\n",
    "from dotenv import load_dotenv\n",
    "\n",
    "# Temporary import\n",
    "import time"
   ]
  },
  {
   "cell_type": "markdown",
   "metadata": {},
   "source": [
    "# Get articles directory"
   ]
  },
  {
   "cell_type": "code",
   "execution_count": null,
   "metadata": {},
   "outputs": [],
   "source": [
    "# Load the environment variables from the .env file\n",
    "load_dotenv()\n",
    "# Get the dataset path from the environment variables\n",
    "dataset_path = environ.get(\"DATASET_PATH\")\n",
    "# Get the articles path\n",
    "articles_path = join(dataset_path, \"articles\")"
   ]
  },
  {
   "cell_type": "markdown",
   "metadata": {},
   "source": [
    "# Load all the articles"
   ]
  },
  {
   "cell_type": "code",
   "execution_count": null,
   "metadata": {},
   "outputs": [],
   "source": [
    "# Get an array of all the file names in the articles directory\n",
    "file_names = [f for f in listdir(articles_path) if isfile(join(articles_path, f))]\n",
    "\n",
    "# Loop over every file in the articles directory\n",
    "for file_name in file_names:\n",
    "    # Read the current file\n",
    "    f = open(join(articles_path, file_name), \"r\").read()\n",
    "    # Print the file contents to the console\n",
    "    print(f)\n",
    "    # Wait for one second\n",
    "    time.sleep(1)"
   ]
  }
 ],
 "metadata": {
  "interpreter": {
   "hash": "e7370f93d1d0cde622a1f8e1c04877d8463912d04d973331ad4851f04de6915a"
  },
  "kernelspec": {
   "display_name": "Python 3.10.4 64-bit",
   "language": "python",
   "name": "python3"
  },
  "language_info": {
   "codemirror_mode": {
    "name": "ipython",
    "version": 3
   },
   "file_extension": ".py",
   "mimetype": "text/x-python",
   "name": "python",
   "nbconvert_exporter": "python",
   "pygments_lexer": "ipython3",
   "version": "3.10.4"
  },
  "orig_nbformat": 4
 },
 "nbformat": 4,
 "nbformat_minor": 2
}
